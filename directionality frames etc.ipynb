{
 "cells": [
  {
   "cell_type": "code",
   "execution_count": 2,
   "id": "09821de9-0086-445a-aab1-c3685b995e40",
   "metadata": {},
   "outputs": [],
   "source": [
    "import pandas as pd\n",
    "import numpy as np\n",
    "import seaborn as sns\n",
    "import polars as pl\n",
    "import matplotlib.pyplot as plt\n",
    "from matplotlib import pyplot"
   ]
  },
  {
   "cell_type": "code",
   "execution_count": 3,
   "id": "abd95eb0-69ac-4ed9-b387-35717620c114",
   "metadata": {},
   "outputs": [],
   "source": [
    "df_mouse_features_sa199m2e = pd.read_csv('sa199m2e_features.csv')\n",
    "df_mouse_features_sa196m2e = pd.read_csv('sa196m2e_features.csv')\n",
    "df_mouse_features_sa196m1e = pd.read_csv('sa196m1e_features.csv')\n",
    "df_mouse_features_sa198m2e = pd.read_csv('sa198m2e_features.csv')\n",
    "df_mouse_features_sa196m3e = pd.read_csv('sa196m3e_features.csv')\n",
    "df_mouse_features_sa199m3e = pd.read_csv('sa199m3e_features.csv')\n",
    "df_mouse_features_sa199m1e = pd.read_csv('sa199m1e_features.csv')\n",
    "df_mouse_features_sa78m1 = pd.read_csv('sa78m1_features.csv')\n",
    "df_mouse_features_sa78m3 = pd.read_csv('sa78m3_features.csv')\n",
    "df_mouse_features_sa78m5 = pd.read_csv('sa78m5_features.csv')"
   ]
  },
  {
   "cell_type": "code",
   "execution_count": 7,
   "id": "3a793d29-84b2-4ac2-8ddf-07e0f219fc4c",
   "metadata": {},
   "outputs": [
    {
     "data": {
      "text/plain": [
       "Index(['Nose_movement_M1_sum_2', 'Nose_movement_M1_median_5',\n",
       "       'Nose_movement_M1_mean_5', 'Nose_movement_M1_sum_5',\n",
       "       'Nose_movement_M1_median_6', 'Nose_movement_M1_mean_6',\n",
       "       'Nose_movement_M1_sum_6', 'Nose_movement_M1_median_7.5',\n",
       "       'Nose_movement_M1_mean_7.5', 'Nose_movement_M1_sum_7.5',\n",
       "       'Nose_movement_M1_median_15', 'Nose_movement_M1_mean_15',\n",
       "       'Nose_movement_M1_sum_15', 'Total_movement_M1_median_2',\n",
       "       'Total_movement_M1_mean_2', 'Total_movement_M1_sum_2',\n",
       "       'Total_movement_M1_median_5', 'Total_movement_M1_mean_5',\n",
       "       'Total_movement_M1_sum_5', 'Total_movement_M1_median_6',\n",
       "       'Total_movement_M1_mean_6', 'Total_movement_M1_sum_6',\n",
       "       'Total_movement_M1_median_7.5', 'Total_movement_M1_mean_7.5',\n",
       "       'Total_movement_M1_sum_7.5', 'Total_movement_M1_median_15',\n",
       "       'Total_movement_M1_mean_15', 'Total_movement_M1_sum_15', 'Mouse_angle',\n",
       "       'Total_movement_all_bodyparts_deviation',\n",
       "       'M1_smallest_euclid_distances_hull_deviation',\n",
       "       'M1_largest_euclid_distances_hull_deviation',\n",
       "       'M1_mean_euclid_distances_hull_deviation', 'Total_angle_deviation',\n",
       "       'Movement_mouse_deviation_centroid', 'Mouse_polygon_deviation',\n",
       "       'Mouse1_smallest_euclid_distances_mean_2_deviation',\n",
       "       'Mouse1_smallest_euclid_distances_mean_5_deviation',\n",
       "       'Mouse1_smallest_euclid_distances_mean_6_deviation',\n",
       "       'Mouse1_smallest_euclid_distances_mean_7.5_deviation',\n",
       "       'Mouse1_smallest_euclid_distances_mean_15_deviation',\n",
       "       'Mouse1_largest_euclid_distances_mean_2_deviation',\n",
       "       'Mouse1_largest_euclid_distances_mean_5_deviation',\n",
       "       'Mouse1_largest_euclid_distances_mean_6_deviation',\n",
       "       'Mouse1_largest_euclid_distances_mean_7.5_deviation',\n",
       "       'Mouse1_largest_euclid_distances_mean_15_deviation',\n",
       "       'Mouse1_mean_euclid_distances_mean_2_deviation',\n",
       "       'Mouse1_mean_euclid_distances_mean_5_deviation',\n",
       "       'Mouse1_mean_euclid_distances_mean_6_deviation',\n",
       "       'Mouse1_mean_euclid_distances_mean_7.5_deviation',\n",
       "       'Mouse1_mean_euclid_distances_mean_15_deviation',\n",
       "       'Movement_mouse_percentile_rank',\n",
       "       'Movement_mouse_deviation_percentile_rank',\n",
       "       'Total_movement_M1_mean_2_percentile_rank',\n",
       "       'Total_movement_M1_mean_5_percentile_rank',\n",
       "       'Total_movement_M1_mean_6_percentile_rank',\n",
       "       'Total_movement_M1_mean_7.5_percentile_rank',\n",
       "       'Total_movement_M1_mean_15_percentile_rank',\n",
       "       'Mouse1_mean_euclid_distances_mean_2_percentile_rank',\n",
       "       'Mouse1_mean_euclid_distances_mean_5_percentile_rank',\n",
       "       'Mouse1_mean_euclid_distances_mean_6_percentile_rank',\n",
       "       'Mouse1_mean_euclid_distances_mean_7.5_percentile_rank',\n",
       "       'Mouse1_mean_euclid_distances_mean_15_percentile_rank',\n",
       "       'Mouse1_smallest_euclid_distances_mean_2_percentile_rank',\n",
       "       'Mouse1_smallest_euclid_distances_mean_5_percentile_rank',\n",
       "       'Mouse1_smallest_euclid_distances_mean_6_percentile_rank',\n",
       "       'Mouse1_smallest_euclid_distances_mean_7.5_percentile_rank',\n",
       "       'Mouse1_smallest_euclid_distances_mean_15_percentile_rank',\n",
       "       'Mouse1_largest_euclid_distances_mean_2_percentile_rank',\n",
       "       'Mouse1_largest_euclid_distances_mean_5_percentile_rank',\n",
       "       'Mouse1_largest_euclid_distances_mean_6_percentile_rank',\n",
       "       'Mouse1_largest_euclid_distances_mean_7.5_percentile_rank',\n",
       "       'Mouse1_largest_euclid_distances_mean_15_percentile_rank',\n",
       "       'Tortuosity_Mouse1_2', 'Tortuosity_Mouse1_5', 'Tortuosity_Mouse1_6',\n",
       "       'Tortuosity_Mouse1_7.5', 'Tortuosity_Mouse1_15', 'Sum_probabilities',\n",
       "       'Sum_probabilities_deviation',\n",
       "       'Sum_probabilities_deviation_percentile_rank',\n",
       "       'Sum_probabilities_percentile_rank', 'Low_prob_detections_0.1',\n",
       "       'Low_prob_detections_0.5', 'Low_prob_detections_0.75',\n",
       "       'A Animal_1 nose distance', 'A Animal_1 nose in zone',\n",
       "       'B Animal_1 nose distance', 'B Animal_1 nose in zone',\n",
       "       'C Animal_1 nose distance', 'C Animal_1 nose in zone',\n",
       "       'D Animal_1 nose distance', 'D Animal_1 nose in zone',\n",
       "       'E Animal_1 nose distance', 'E Animal_1 nose in zone',\n",
       "       'A Animal_1 facing', 'B Animal_1 facing', 'C Animal_1 facing',\n",
       "       'D Animal_1 facing', 'E Animal_1 facing'],\n",
       "      dtype='object')"
      ]
     },
     "execution_count": 7,
     "metadata": {},
     "output_type": "execute_result"
    }
   ],
   "source": [
    "df_mouse_features_sa199m2e.columns[-100:]"
   ]
  },
  {
   "cell_type": "code",
   "execution_count": 92,
   "id": "4f9ae479-2a43-4666-b674-a986a36be6f3",
   "metadata": {
    "scrolled": true
   },
   "outputs": [
    {
     "data": {
      "text/plain": [
       "151    0\n",
       "152    0\n",
       "153    0\n",
       "154    0\n",
       "155    0\n",
       "156    0\n",
       "157    0\n",
       "158    0\n",
       "159    0\n",
       "160    0\n",
       "161    0\n",
       "162    0\n",
       "163    1\n",
       "164    1\n",
       "Name: A Animal_1 facing, dtype: int64"
      ]
     },
     "execution_count": 92,
     "metadata": {},
     "output_type": "execute_result"
    }
   ],
   "source": [
    "df_mouse_features_sa199m2e['A Animal_1 facing'][151:165]"
   ]
  },
  {
   "cell_type": "code",
   "execution_count": 95,
   "id": "713af8da-c127-4f22-9dc0-93b02b958fe1",
   "metadata": {
    "scrolled": true
   },
   "outputs": [
    {
     "data": {
      "text/plain": [
       "151    1\n",
       "152    1\n",
       "153    1\n",
       "154    1\n",
       "155    1\n",
       "156    1\n",
       "157    1\n",
       "158    1\n",
       "159    1\n",
       "160    1\n",
       "161    1\n",
       "162    1\n",
       "163    1\n",
       "164    1\n",
       "Name: B Animal_1 facing, dtype: int64"
      ]
     },
     "execution_count": 95,
     "metadata": {},
     "output_type": "execute_result"
    }
   ],
   "source": [
    "df_mouse_features_sa199m2e['B Animal_1 facing'][151:165]"
   ]
  },
  {
   "cell_type": "code",
   "execution_count": 96,
   "id": "dd9509ae-2c2e-4c10-9843-9d6eb14076a3",
   "metadata": {},
   "outputs": [
    {
     "data": {
      "text/plain": [
       "151    1\n",
       "152    1\n",
       "153    1\n",
       "154    0\n",
       "155    1\n",
       "156    1\n",
       "157    0\n",
       "158    0\n",
       "159    0\n",
       "160    0\n",
       "161    0\n",
       "162    0\n",
       "163    0\n",
       "164    0\n",
       "Name: C Animal_1 facing, dtype: int64"
      ]
     },
     "execution_count": 96,
     "metadata": {},
     "output_type": "execute_result"
    }
   ],
   "source": [
    "df_mouse_features_sa199m2e['C Animal_1 facing'][151:165]"
   ]
  },
  {
   "cell_type": "code",
   "execution_count": 100,
   "id": "2c864281-837b-421a-89b7-51cafecc4af4",
   "metadata": {},
   "outputs": [
    {
     "data": {
      "text/plain": [
       "5"
      ]
     },
     "execution_count": 100,
     "metadata": {},
     "output_type": "execute_result"
    }
   ],
   "source": [
    "sum(df_mouse_features_sa199m2e['C Animal_1 facing'][151:165])"
   ]
  },
  {
   "cell_type": "code",
   "execution_count": 101,
   "id": "b0d4f238-f5d2-46b7-b7f2-86f40511dd44",
   "metadata": {},
   "outputs": [
    {
     "data": {
      "text/plain": [
       "0.09523809523809523"
      ]
     },
     "execution_count": 101,
     "metadata": {},
     "output_type": "execute_result"
    }
   ],
   "source": [
    "2/21"
   ]
  },
  {
   "cell_type": "code",
   "execution_count": 102,
   "id": "dcb916cb-cd71-4798-814e-89025b657bea",
   "metadata": {},
   "outputs": [
    {
     "data": {
      "text/plain": [
       "0.6666666666666666"
      ]
     },
     "execution_count": 102,
     "metadata": {},
     "output_type": "execute_result"
    }
   ],
   "source": [
    "14/21"
   ]
  },
  {
   "cell_type": "code",
   "execution_count": 103,
   "id": "e47977ba-9c74-44e7-b0a1-24626c10ec0a",
   "metadata": {},
   "outputs": [
    {
     "data": {
      "text/plain": [
       "0.23809523809523808"
      ]
     },
     "execution_count": 103,
     "metadata": {},
     "output_type": "execute_result"
    }
   ],
   "source": [
    "5/21"
   ]
  },
  {
   "cell_type": "code",
   "execution_count": null,
   "id": "c8059053-67c2-4ab2-a7a2-b96fca02915e",
   "metadata": {},
   "outputs": [],
   "source": []
  },
  {
   "cell_type": "code",
   "execution_count": 36,
   "id": "db4aa2f9-3e9a-4116-b5d4-d0c4bc0cc479",
   "metadata": {},
   "outputs": [
    {
     "data": {
      "text/plain": [
       "166    1\n",
       "167    1\n",
       "168    1\n",
       "169    1\n",
       "170    1\n",
       "171    1\n",
       "172    1\n",
       "173    1\n",
       "174    1\n",
       "175    1\n",
       "176    1\n",
       "177    1\n",
       "178    1\n",
       "179    1\n",
       "180    1\n",
       "Name: A Animal_1 facing, dtype: int64"
      ]
     },
     "execution_count": 36,
     "metadata": {},
     "output_type": "execute_result"
    }
   ],
   "source": [
    "df_mouse_features_sa199m2e['A Animal_1 facing'][166:181]"
   ]
  },
  {
   "cell_type": "code",
   "execution_count": 40,
   "id": "fac72e82-ed27-445d-bf89-a99f1bc5c768",
   "metadata": {},
   "outputs": [
    {
     "data": {
      "text/plain": [
       "166    1\n",
       "167    1\n",
       "168    1\n",
       "169    1\n",
       "170    1\n",
       "171    1\n",
       "172    0\n",
       "173    0\n",
       "174    0\n",
       "175    0\n",
       "176    0\n",
       "177    0\n",
       "178    0\n",
       "179    0\n",
       "180    0\n",
       "Name: B Animal_1 facing, dtype: int64"
      ]
     },
     "execution_count": 40,
     "metadata": {},
     "output_type": "execute_result"
    }
   ],
   "source": [
    "df_mouse_features_sa199m2e['B Animal_1 facing'][166:181]"
   ]
  },
  {
   "cell_type": "code",
   "execution_count": 41,
   "id": "6c9a65fc-cb12-478c-9846-e980eb7f6e87",
   "metadata": {},
   "outputs": [
    {
     "data": {
      "text/plain": [
       "0.7142857142857143"
      ]
     },
     "execution_count": 41,
     "metadata": {},
     "output_type": "execute_result"
    }
   ],
   "source": [
    "15/21"
   ]
  },
  {
   "cell_type": "code",
   "execution_count": 42,
   "id": "ea12e560-a14e-4f50-a659-02b7ee1a86e8",
   "metadata": {},
   "outputs": [
    {
     "data": {
      "text/plain": [
       "0.2857142857142857"
      ]
     },
     "execution_count": 42,
     "metadata": {},
     "output_type": "execute_result"
    }
   ],
   "source": [
    "6/21"
   ]
  },
  {
   "cell_type": "code",
   "execution_count": 105,
   "id": "b1d0e07b-65b3-4ee7-9d44-3e27df02eca3",
   "metadata": {
    "scrolled": true
   },
   "outputs": [
    {
     "data": {
      "text/plain": [
       "18"
      ]
     },
     "execution_count": 105,
     "metadata": {},
     "output_type": "execute_result"
    }
   ],
   "source": [
    "sum(df_mouse_features_sa199m2e['A Animal_1 facing'][151:181])"
   ]
  },
  {
   "cell_type": "code",
   "execution_count": 106,
   "id": "7e15cb45-93e1-4081-a501-59432dd36df3",
   "metadata": {},
   "outputs": [
    {
     "data": {
      "text/plain": [
       "21"
      ]
     },
     "execution_count": 106,
     "metadata": {},
     "output_type": "execute_result"
    }
   ],
   "source": [
    "sum(df_mouse_features_sa199m2e['B Animal_1 facing'][151:181])"
   ]
  },
  {
   "cell_type": "code",
   "execution_count": 107,
   "id": "8c204aa1-b2fc-492f-9757-c1f4de761135",
   "metadata": {},
   "outputs": [
    {
     "data": {
      "text/plain": [
       "5"
      ]
     },
     "execution_count": 107,
     "metadata": {},
     "output_type": "execute_result"
    }
   ],
   "source": [
    "sum(df_mouse_features_sa199m2e['C Animal_1 facing'][151:181])"
   ]
  },
  {
   "cell_type": "code",
   "execution_count": 108,
   "id": "39061d79-27bd-4c8a-9cc8-ef338ecc8de8",
   "metadata": {},
   "outputs": [
    {
     "data": {
      "text/plain": [
       "0.4090909090909091"
      ]
     },
     "execution_count": 108,
     "metadata": {},
     "output_type": "execute_result"
    }
   ],
   "source": [
    "18/44"
   ]
  },
  {
   "cell_type": "code",
   "execution_count": 109,
   "id": "a7085ec4-91c3-4e67-8df5-a3211e631a7f",
   "metadata": {},
   "outputs": [
    {
     "data": {
      "text/plain": [
       "0.4772727272727273"
      ]
     },
     "execution_count": 109,
     "metadata": {},
     "output_type": "execute_result"
    }
   ],
   "source": [
    "21/44"
   ]
  },
  {
   "cell_type": "code",
   "execution_count": 110,
   "id": "d3da7f60-efc2-46f3-add2-6fe71ecad940",
   "metadata": {},
   "outputs": [
    {
     "data": {
      "text/plain": [
       "0.11363636363636363"
      ]
     },
     "execution_count": 110,
     "metadata": {},
     "output_type": "execute_result"
    }
   ],
   "source": [
    "5/44"
   ]
  },
  {
   "cell_type": "code",
   "execution_count": null,
   "id": "006fb0eb-2ccf-4e15-88dd-eb42403dfbc2",
   "metadata": {},
   "outputs": [],
   "source": []
  },
  {
   "cell_type": "code",
   "execution_count": 50,
   "id": "2202f29c-522c-4989-a3a7-a8b1088e4b32",
   "metadata": {
    "scrolled": true
   },
   "outputs": [
    {
     "data": {
      "text/plain": [
       "324    0\n",
       "325    0\n",
       "326    0\n",
       "327    0\n",
       "328    0\n",
       "329    0\n",
       "330    0\n",
       "331    0\n",
       "332    0\n",
       "333    0\n",
       "334    0\n",
       "335    1\n",
       "336    1\n",
       "337    1\n",
       "338    1\n",
       "339    1\n",
       "340    1\n",
       "341    1\n",
       "342    1\n",
       "343    1\n",
       "344    1\n",
       "345    1\n",
       "346    1\n",
       "347    1\n",
       "348    1\n",
       "349    1\n",
       "350    1\n",
       "351    1\n",
       "352    1\n",
       "353    1\n",
       "354    1\n",
       "Name: B Animal_1 facing, dtype: int64"
      ]
     },
     "execution_count": 50,
     "metadata": {},
     "output_type": "execute_result"
    }
   ],
   "source": [
    "df_mouse_features_sa199m2e['B Animal_1 facing'][324:355]"
   ]
  },
  {
   "cell_type": "code",
   "execution_count": 44,
   "id": "2a516ed7-8126-4382-bf51-6eb58da8573f",
   "metadata": {
    "scrolled": true
   },
   "outputs": [
    {
     "data": {
      "text/plain": [
       "324    1\n",
       "325    1\n",
       "326    1\n",
       "327    1\n",
       "328    1\n",
       "329    1\n",
       "330    1\n",
       "331    1\n",
       "332    1\n",
       "333    1\n",
       "334    1\n",
       "335    1\n",
       "336    1\n",
       "337    1\n",
       "338    1\n",
       "339    1\n",
       "340    1\n",
       "341    1\n",
       "342    1\n",
       "343    1\n",
       "344    1\n",
       "345    1\n",
       "346    1\n",
       "347    1\n",
       "348    1\n",
       "349    1\n",
       "350    1\n",
       "351    1\n",
       "352    0\n",
       "353    0\n",
       "354    0\n",
       "Name: C Animal_1 facing, dtype: int64"
      ]
     },
     "execution_count": 44,
     "metadata": {},
     "output_type": "execute_result"
    }
   ],
   "source": [
    "df_mouse_features_sa199m2e['C Animal_1 facing'][324:355]"
   ]
  },
  {
   "cell_type": "code",
   "execution_count": 45,
   "id": "885a8f1b-1c02-4dac-9efa-6e65f5c0c3fe",
   "metadata": {
    "scrolled": true
   },
   "outputs": [
    {
     "data": {
      "text/plain": [
       "324    1\n",
       "325    1\n",
       "326    1\n",
       "327    1\n",
       "328    1\n",
       "329    1\n",
       "330    1\n",
       "331    1\n",
       "332    0\n",
       "333    0\n",
       "334    0\n",
       "335    0\n",
       "336    0\n",
       "337    0\n",
       "338    0\n",
       "339    0\n",
       "340    0\n",
       "341    0\n",
       "342    0\n",
       "343    0\n",
       "344    0\n",
       "345    0\n",
       "346    0\n",
       "347    0\n",
       "348    0\n",
       "349    0\n",
       "350    0\n",
       "351    0\n",
       "352    0\n",
       "353    0\n",
       "354    0\n",
       "Name: D Animal_1 facing, dtype: int64"
      ]
     },
     "execution_count": 45,
     "metadata": {},
     "output_type": "execute_result"
    }
   ],
   "source": [
    "df_mouse_features_sa199m2e['D Animal_1 facing'][324:355]"
   ]
  },
  {
   "cell_type": "code",
   "execution_count": 54,
   "id": "721539e1-449c-4a81-9a34-91f7f4b4843d",
   "metadata": {},
   "outputs": [
    {
     "data": {
      "text/plain": [
       "0.35714285714285715"
      ]
     },
     "execution_count": 54,
     "metadata": {},
     "output_type": "execute_result"
    }
   ],
   "source": [
    "20/56"
   ]
  },
  {
   "cell_type": "code",
   "execution_count": 55,
   "id": "0dae607e-a63e-44ec-b58e-ef58d00e5fee",
   "metadata": {},
   "outputs": [
    {
     "data": {
      "text/plain": [
       "0.5"
      ]
     },
     "execution_count": 55,
     "metadata": {},
     "output_type": "execute_result"
    }
   ],
   "source": [
    "28/56"
   ]
  },
  {
   "cell_type": "code",
   "execution_count": 56,
   "id": "9075d0cb-d67c-46f9-b489-6b3952b22877",
   "metadata": {},
   "outputs": [
    {
     "data": {
      "text/plain": [
       "0.14285714285714285"
      ]
     },
     "execution_count": 56,
     "metadata": {},
     "output_type": "execute_result"
    }
   ],
   "source": [
    "8/56"
   ]
  },
  {
   "cell_type": "code",
   "execution_count": 65,
   "id": "ade4ccec-0b02-4d45-9fe9-356a8aae84ad",
   "metadata": {
    "scrolled": true
   },
   "outputs": [
    {
     "data": {
      "text/plain": [
       "336    1\n",
       "337    1\n",
       "338    1\n",
       "339    1\n",
       "340    1\n",
       "341    1\n",
       "342    1\n",
       "343    1\n",
       "344    1\n",
       "345    1\n",
       "346    1\n",
       "347    1\n",
       "348    1\n",
       "349    1\n",
       "350    1\n",
       "351    1\n",
       "352    1\n",
       "353    1\n",
       "354    1\n",
       "355    1\n",
       "356    1\n",
       "357    1\n",
       "358    1\n",
       "359    1\n",
       "360    1\n",
       "361    1\n",
       "362    1\n",
       "363    1\n",
       "364    1\n",
       "365    1\n",
       "366    1\n",
       "367    1\n",
       "Name: B Animal_1 facing, dtype: int64"
      ]
     },
     "execution_count": 65,
     "metadata": {},
     "output_type": "execute_result"
    }
   ],
   "source": [
    "df_mouse_features_sa199m2e['B Animal_1 facing'][336:368]"
   ]
  },
  {
   "cell_type": "code",
   "execution_count": 66,
   "id": "f8dc3d91-6989-4e9d-94f0-3d6cf3f0cbc6",
   "metadata": {
    "scrolled": true
   },
   "outputs": [
    {
     "data": {
      "text/plain": [
       "336    1\n",
       "337    1\n",
       "338    1\n",
       "339    1\n",
       "340    1\n",
       "341    1\n",
       "342    1\n",
       "343    1\n",
       "344    1\n",
       "345    1\n",
       "346    1\n",
       "347    1\n",
       "348    1\n",
       "349    1\n",
       "350    1\n",
       "351    1\n",
       "352    0\n",
       "353    0\n",
       "354    0\n",
       "355    0\n",
       "356    0\n",
       "357    0\n",
       "358    0\n",
       "359    0\n",
       "360    0\n",
       "361    0\n",
       "362    0\n",
       "363    0\n",
       "364    0\n",
       "365    0\n",
       "366    0\n",
       "367    0\n",
       "Name: C Animal_1 facing, dtype: int64"
      ]
     },
     "execution_count": 66,
     "metadata": {},
     "output_type": "execute_result"
    }
   ],
   "source": [
    "df_mouse_features_sa199m2e['C Animal_1 facing'][336:368]"
   ]
  },
  {
   "cell_type": "code",
   "execution_count": 67,
   "id": "a88e47c5-0e46-4b3e-a201-110fad53dbd3",
   "metadata": {
    "scrolled": true
   },
   "outputs": [
    {
     "data": {
      "text/plain": [
       "336    0\n",
       "337    0\n",
       "338    0\n",
       "339    0\n",
       "340    0\n",
       "341    0\n",
       "342    0\n",
       "343    0\n",
       "344    0\n",
       "345    0\n",
       "346    0\n",
       "347    0\n",
       "348    0\n",
       "349    0\n",
       "350    0\n",
       "351    0\n",
       "352    0\n",
       "353    0\n",
       "354    0\n",
       "355    0\n",
       "356    0\n",
       "357    0\n",
       "358    0\n",
       "359    0\n",
       "360    0\n",
       "361    0\n",
       "362    0\n",
       "363    0\n",
       "364    0\n",
       "365    0\n",
       "366    0\n",
       "367    0\n",
       "Name: D Animal_1 facing, dtype: int64"
      ]
     },
     "execution_count": 67,
     "metadata": {},
     "output_type": "execute_result"
    }
   ],
   "source": [
    "df_mouse_features_sa199m2e['D Animal_1 facing'][336:368]"
   ]
  },
  {
   "cell_type": "code",
   "execution_count": 62,
   "id": "b4944701-b4b6-4ba5-af94-07cf2b6e34e0",
   "metadata": {},
   "outputs": [
    {
     "data": {
      "text/plain": [
       "0.6666666666666666"
      ]
     },
     "execution_count": 62,
     "metadata": {},
     "output_type": "execute_result"
    }
   ],
   "source": [
    "32/48"
   ]
  },
  {
   "cell_type": "code",
   "execution_count": 63,
   "id": "f44e9608-cb46-48f9-8fcf-108ee6095e55",
   "metadata": {},
   "outputs": [
    {
     "data": {
      "text/plain": [
       "0.3333333333333333"
      ]
     },
     "execution_count": 63,
     "metadata": {},
     "output_type": "execute_result"
    }
   ],
   "source": [
    "16/48"
   ]
  },
  {
   "cell_type": "code",
   "execution_count": 64,
   "id": "afc0bdfe-a965-450c-9c46-ea0918c88041",
   "metadata": {},
   "outputs": [
    {
     "data": {
      "text/plain": [
       "0.0"
      ]
     },
     "execution_count": 64,
     "metadata": {},
     "output_type": "execute_result"
    }
   ],
   "source": [
    "0/48"
   ]
  },
  {
   "cell_type": "code",
   "execution_count": 112,
   "id": "d3a77a41-dd6a-4ccd-8836-e718eedcf544",
   "metadata": {},
   "outputs": [
    {
     "data": {
      "text/plain": [
       "33"
      ]
     },
     "execution_count": 112,
     "metadata": {},
     "output_type": "execute_result"
    }
   ],
   "source": [
    "sum(df_mouse_features_sa199m2e['B Animal_1 facing'][324:368])"
   ]
  },
  {
   "cell_type": "code",
   "execution_count": 115,
   "id": "687e9c1d-abc5-4f7b-a87d-ac3d8d383a77",
   "metadata": {},
   "outputs": [
    {
     "data": {
      "text/plain": [
       "28"
      ]
     },
     "execution_count": 115,
     "metadata": {},
     "output_type": "execute_result"
    }
   ],
   "source": [
    "sum(df_mouse_features_sa199m2e['C Animal_1 facing'][324:368])"
   ]
  },
  {
   "cell_type": "code",
   "execution_count": 116,
   "id": "fa1712cc-05a7-4110-b387-dd9b8c69f001",
   "metadata": {},
   "outputs": [
    {
     "data": {
      "text/plain": [
       "8"
      ]
     },
     "execution_count": 116,
     "metadata": {},
     "output_type": "execute_result"
    }
   ],
   "source": [
    "sum(df_mouse_features_sa199m2e['D Animal_1 facing'][324:368])"
   ]
  },
  {
   "cell_type": "code",
   "execution_count": 117,
   "id": "9af2cfec-5410-447f-b5ae-861759228c91",
   "metadata": {},
   "outputs": [
    {
     "data": {
      "text/plain": [
       "0.4782608695652174"
      ]
     },
     "execution_count": 117,
     "metadata": {},
     "output_type": "execute_result"
    }
   ],
   "source": [
    "33/69"
   ]
  },
  {
   "cell_type": "code",
   "execution_count": 118,
   "id": "b65e2a25-12ac-4733-b7cf-b06e1f317c40",
   "metadata": {},
   "outputs": [
    {
     "data": {
      "text/plain": [
       "0.4057971014492754"
      ]
     },
     "execution_count": 118,
     "metadata": {},
     "output_type": "execute_result"
    }
   ],
   "source": [
    "28/69"
   ]
  },
  {
   "cell_type": "code",
   "execution_count": 119,
   "id": "52a95c43-4d2a-4a8d-94ea-3e4d79159457",
   "metadata": {},
   "outputs": [
    {
     "data": {
      "text/plain": [
       "0.11594202898550725"
      ]
     },
     "execution_count": 119,
     "metadata": {},
     "output_type": "execute_result"
    }
   ],
   "source": [
    "8/69"
   ]
  },
  {
   "cell_type": "code",
   "execution_count": null,
   "id": "b673d33b-fab9-4cc1-a8fb-651521f3f500",
   "metadata": {},
   "outputs": [],
   "source": []
  },
  {
   "cell_type": "code",
   "execution_count": 69,
   "id": "e2860ec0-fa4c-4931-80bf-68a60675717c",
   "metadata": {
    "scrolled": true
   },
   "outputs": [
    {
     "data": {
      "text/plain": [
       "466    1\n",
       "467    1\n",
       "468    1\n",
       "469    1\n",
       "470    1\n",
       "471    1\n",
       "472    1\n",
       "473    1\n",
       "474    1\n",
       "475    1\n",
       "476    1\n",
       "477    1\n",
       "478    1\n",
       "479    1\n",
       "480    1\n",
       "481    1\n",
       "482    1\n",
       "483    1\n",
       "484    1\n",
       "485    1\n",
       "486    1\n",
       "Name: D Animal_1 facing, dtype: int64"
      ]
     },
     "execution_count": 69,
     "metadata": {},
     "output_type": "execute_result"
    }
   ],
   "source": [
    "df_mouse_features_sa199m2e['D Animal_1 facing'][466:487]"
   ]
  },
  {
   "cell_type": "code",
   "execution_count": 72,
   "id": "6efff30c-9487-475d-93b5-960edeb4d064",
   "metadata": {
    "scrolled": true
   },
   "outputs": [
    {
     "data": {
      "text/plain": [
       "466    1\n",
       "467    1\n",
       "468    1\n",
       "469    1\n",
       "470    1\n",
       "471    1\n",
       "472    1\n",
       "473    1\n",
       "474    1\n",
       "475    1\n",
       "476    0\n",
       "477    0\n",
       "478    0\n",
       "479    0\n",
       "480    0\n",
       "481    0\n",
       "482    0\n",
       "483    0\n",
       "484    0\n",
       "485    0\n",
       "486    0\n",
       "Name: E Animal_1 facing, dtype: int64"
      ]
     },
     "execution_count": 72,
     "metadata": {},
     "output_type": "execute_result"
    }
   ],
   "source": [
    "df_mouse_features_sa199m2e['E Animal_1 facing'][466:487]"
   ]
  },
  {
   "cell_type": "code",
   "execution_count": 71,
   "id": "320363e7-d29d-4646-9883-2877b9106b47",
   "metadata": {
    "scrolled": true
   },
   "outputs": [
    {
     "data": {
      "text/plain": [
       "466    0\n",
       "467    0\n",
       "468    0\n",
       "469    0\n",
       "470    0\n",
       "471    0\n",
       "472    0\n",
       "473    0\n",
       "474    0\n",
       "475    0\n",
       "476    0\n",
       "477    0\n",
       "478    0\n",
       "479    0\n",
       "480    1\n",
       "481    1\n",
       "482    1\n",
       "483    1\n",
       "484    1\n",
       "485    1\n",
       "486    1\n",
       "Name: C Animal_1 facing, dtype: int64"
      ]
     },
     "execution_count": 71,
     "metadata": {},
     "output_type": "execute_result"
    }
   ],
   "source": [
    "df_mouse_features_sa199m2e['C Animal_1 facing'][466:487]"
   ]
  },
  {
   "cell_type": "code",
   "execution_count": 77,
   "id": "113ebd0f-4bc9-42af-b0ad-2694f3dc2ed0",
   "metadata": {},
   "outputs": [
    {
     "data": {
      "text/plain": [
       "0.5526315789473685"
      ]
     },
     "execution_count": 77,
     "metadata": {},
     "output_type": "execute_result"
    }
   ],
   "source": [
    "21/38"
   ]
  },
  {
   "cell_type": "code",
   "execution_count": 79,
   "id": "519f7d57-f596-4bc2-848f-2b99b591bbc4",
   "metadata": {},
   "outputs": [
    {
     "data": {
      "text/plain": [
       "0.2631578947368421"
      ]
     },
     "execution_count": 79,
     "metadata": {},
     "output_type": "execute_result"
    }
   ],
   "source": [
    "10/38"
   ]
  },
  {
   "cell_type": "code",
   "execution_count": 80,
   "id": "60bb46a1-1227-4d5f-9f24-ff0a30ffe683",
   "metadata": {},
   "outputs": [
    {
     "data": {
      "text/plain": [
       "0.18421052631578946"
      ]
     },
     "execution_count": 80,
     "metadata": {},
     "output_type": "execute_result"
    }
   ],
   "source": [
    "7/38"
   ]
  },
  {
   "cell_type": "code",
   "execution_count": 81,
   "id": "b36ed372-ed90-4366-a09c-e7920e864c44",
   "metadata": {
    "scrolled": true
   },
   "outputs": [
    {
     "data": {
      "text/plain": [
       "475    1\n",
       "476    1\n",
       "477    1\n",
       "478    1\n",
       "479    1\n",
       "480    1\n",
       "481    1\n",
       "482    1\n",
       "483    1\n",
       "484    1\n",
       "485    1\n",
       "486    1\n",
       "487    1\n",
       "488    1\n",
       "489    1\n",
       "490    1\n",
       "491    1\n",
       "492    1\n",
       "493    1\n",
       "494    1\n",
       "495    1\n",
       "496    1\n",
       "497    1\n",
       "498    1\n",
       "499    1\n",
       "Name: D Animal_1 facing, dtype: int64"
      ]
     },
     "execution_count": 81,
     "metadata": {},
     "output_type": "execute_result"
    }
   ],
   "source": [
    "df_mouse_features_sa199m2e['D Animal_1 facing'][475:500]"
   ]
  },
  {
   "cell_type": "code",
   "execution_count": 85,
   "id": "0d247ba6-4f0a-41aa-8a60-ac1e617724aa",
   "metadata": {
    "scrolled": true
   },
   "outputs": [
    {
     "data": {
      "text/plain": [
       "475    1\n",
       "476    0\n",
       "477    0\n",
       "478    0\n",
       "479    0\n",
       "480    0\n",
       "481    0\n",
       "482    0\n",
       "483    0\n",
       "484    0\n",
       "485    0\n",
       "486    0\n",
       "487    0\n",
       "488    0\n",
       "489    0\n",
       "490    0\n",
       "491    0\n",
       "492    0\n",
       "493    0\n",
       "494    0\n",
       "495    0\n",
       "496    0\n",
       "497    0\n",
       "498    0\n",
       "499    0\n",
       "Name: E Animal_1 facing, dtype: int64"
      ]
     },
     "execution_count": 85,
     "metadata": {},
     "output_type": "execute_result"
    }
   ],
   "source": [
    "df_mouse_features_sa199m2e['E Animal_1 facing'][475:500]"
   ]
  },
  {
   "cell_type": "code",
   "execution_count": 86,
   "id": "b307d603-c52b-414a-9df3-a1c7b3f8b1cf",
   "metadata": {
    "scrolled": true
   },
   "outputs": [
    {
     "data": {
      "text/plain": [
       "475    0\n",
       "476    0\n",
       "477    0\n",
       "478    0\n",
       "479    0\n",
       "480    1\n",
       "481    1\n",
       "482    1\n",
       "483    1\n",
       "484    1\n",
       "485    1\n",
       "486    1\n",
       "487    1\n",
       "488    1\n",
       "489    0\n",
       "490    0\n",
       "491    0\n",
       "492    0\n",
       "493    0\n",
       "494    0\n",
       "495    0\n",
       "496    0\n",
       "497    0\n",
       "498    0\n",
       "499    0\n",
       "Name: C Animal_1 facing, dtype: int64"
      ]
     },
     "execution_count": 86,
     "metadata": {},
     "output_type": "execute_result"
    }
   ],
   "source": [
    "df_mouse_features_sa199m2e['C Animal_1 facing'][475:500]"
   ]
  },
  {
   "cell_type": "code",
   "execution_count": 88,
   "id": "0976ecf7-f2cf-4ac7-8d96-a66df881d6c0",
   "metadata": {},
   "outputs": [
    {
     "data": {
      "text/plain": [
       "9"
      ]
     },
     "execution_count": 88,
     "metadata": {},
     "output_type": "execute_result"
    }
   ],
   "source": [
    "sum(df_mouse_features_sa199m2e['C Animal_1 facing'][475:500])"
   ]
  },
  {
   "cell_type": "code",
   "execution_count": 89,
   "id": "3dc29525-cffa-4196-b9a0-87b2cb2d636d",
   "metadata": {},
   "outputs": [
    {
     "data": {
      "text/plain": [
       "0.7142857142857143"
      ]
     },
     "execution_count": 89,
     "metadata": {},
     "output_type": "execute_result"
    }
   ],
   "source": [
    "25/35"
   ]
  },
  {
   "cell_type": "code",
   "execution_count": 90,
   "id": "475b4815-e158-413c-bce4-8578fa12ee9d",
   "metadata": {},
   "outputs": [
    {
     "data": {
      "text/plain": [
       "0.02857142857142857"
      ]
     },
     "execution_count": 90,
     "metadata": {},
     "output_type": "execute_result"
    }
   ],
   "source": [
    "1/35"
   ]
  },
  {
   "cell_type": "code",
   "execution_count": 91,
   "id": "00370960-6ba0-4405-9e5f-c4d7c7cc2f95",
   "metadata": {},
   "outputs": [
    {
     "data": {
      "text/plain": [
       "0.2571428571428571"
      ]
     },
     "execution_count": 91,
     "metadata": {},
     "output_type": "execute_result"
    }
   ],
   "source": [
    "9/35"
   ]
  },
  {
   "cell_type": "code",
   "execution_count": null,
   "id": "b3206070-fd85-4080-8473-15b5662b1d1d",
   "metadata": {},
   "outputs": [],
   "source": []
  },
  {
   "cell_type": "code",
   "execution_count": 122,
   "id": "fc365035-0053-4348-8b01-c0d9587ecb4e",
   "metadata": {},
   "outputs": [
    {
     "data": {
      "text/plain": [
       "34"
      ]
     },
     "execution_count": 122,
     "metadata": {},
     "output_type": "execute_result"
    }
   ],
   "source": [
    "sum(df_mouse_features_sa199m2e['D Animal_1 facing'][466:500])"
   ]
  },
  {
   "cell_type": "code",
   "execution_count": 124,
   "id": "438eed2c-22ae-4024-a624-a84907102b29",
   "metadata": {},
   "outputs": [
    {
     "data": {
      "text/plain": [
       "10"
      ]
     },
     "execution_count": 124,
     "metadata": {},
     "output_type": "execute_result"
    }
   ],
   "source": [
    "sum(df_mouse_features_sa199m2e['E Animal_1 facing'][466:500])"
   ]
  },
  {
   "cell_type": "code",
   "execution_count": 125,
   "id": "aadfef76-e64e-4873-9733-2b4ff24d1c32",
   "metadata": {},
   "outputs": [
    {
     "data": {
      "text/plain": [
       "9"
      ]
     },
     "execution_count": 125,
     "metadata": {},
     "output_type": "execute_result"
    }
   ],
   "source": [
    "sum(df_mouse_features_sa199m2e['C Animal_1 facing'][466:500])"
   ]
  },
  {
   "cell_type": "code",
   "execution_count": 128,
   "id": "be1a341a-28a8-43f3-b7f2-4bb2d576be38",
   "metadata": {},
   "outputs": [
    {
     "data": {
      "text/plain": [
       "0.6415094339622641"
      ]
     },
     "execution_count": 128,
     "metadata": {},
     "output_type": "execute_result"
    }
   ],
   "source": [
    "34/53"
   ]
  },
  {
   "cell_type": "code",
   "execution_count": 129,
   "id": "0186acaa-afee-4b1a-b168-aa292ee350c1",
   "metadata": {},
   "outputs": [
    {
     "data": {
      "text/plain": [
       "0.18867924528301888"
      ]
     },
     "execution_count": 129,
     "metadata": {},
     "output_type": "execute_result"
    }
   ],
   "source": [
    "10/53"
   ]
  },
  {
   "cell_type": "code",
   "execution_count": 130,
   "id": "e96e6c02-453e-4319-b333-2071a1e85f0d",
   "metadata": {},
   "outputs": [
    {
     "data": {
      "text/plain": [
       "0.16981132075471697"
      ]
     },
     "execution_count": 130,
     "metadata": {},
     "output_type": "execute_result"
    }
   ],
   "source": [
    "9/53"
   ]
  },
  {
   "cell_type": "code",
   "execution_count": null,
   "id": "e04eb8fd-6850-476f-8202-4a2a99d2514f",
   "metadata": {},
   "outputs": [],
   "source": []
  }
 ],
 "metadata": {
  "kernelspec": {
   "display_name": "Python 3 (ipykernel)",
   "language": "python",
   "name": "python3"
  },
  "language_info": {
   "codemirror_mode": {
    "name": "ipython",
    "version": 3
   },
   "file_extension": ".py",
   "mimetype": "text/x-python",
   "name": "python",
   "nbconvert_exporter": "python",
   "pygments_lexer": "ipython3",
   "version": "3.11.7"
  }
 },
 "nbformat": 4,
 "nbformat_minor": 5
}
