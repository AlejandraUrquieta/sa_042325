{
 "cells": [
  {
   "cell_type": "code",
   "execution_count": 93,
   "id": "9ae11935-3a22-4630-af75-95bcbde89ecd",
   "metadata": {},
   "outputs": [],
   "source": [
    "import pandas as pd\n",
    "import numpy as np\n",
    "import seaborn as sns\n",
    "import polars as pl\n",
    "import matplotlib.pyplot as plt\n",
    "from matplotlib import pyplot"
   ]
  },
  {
   "cell_type": "code",
   "execution_count": null,
   "id": "0a4a46d4-b361-4db3-ac8e-91ae10742599",
   "metadata": {},
   "outputs": [],
   "source": [
    "'''\n",
    "function to check that tail_base was also inside arm for a list of nose frames\n",
    "'''\n",
    "def check_tail_entry(df_mouse_boolean, list_of_frames, ti):\n",
    "    f=0; #tail entry frame, if valid\n",
    "    fc=0;\n",
    "    entered=False;\n",
    "    for l in list_of_frames:\n",
    "        if df_mouse_boolean.iloc[l,ti]==1:\n",
    "            f=l;\n",
    "            fc = fc+1;\n",
    "        if fc>5:\n",
    "            f = f-5;\n",
    "            entered= True;\n",
    "            break;\n",
    "    return entered, f;"
   ]
  },
  {
   "cell_type": "code",
   "execution_count": null,
   "id": "e51f11a6-573c-4530-8387-904427827744",
   "metadata": {},
   "outputs": [],
   "source": [
    "'''\n",
    "function to check when tail_base exited\n",
    "'''\n",
    "def check_tail_exit(df_mouse_boolean, startf, ti):\n",
    "    xf=0; #tail entry frame, if valid\n",
    "    fc=0;\n",
    "    end= False;\n",
    "    for l in range(startf, len(df_mouse_boolean)):\n",
    "        if df_mouse_boolean.iloc[l,ti]==0:\n",
    "            xf = l;\n",
    "            fc = fc+1;\n",
    "        else:\n",
    "            fc=0;\n",
    "        if fc>5:\n",
    "            xf=l-5;\n",
    "            break;\n",
    "    return xf;"
   ]
  },
  {
   "cell_type": "code",
   "execution_count": null,
   "id": "7a1c1e2b-e1c5-43f4-b766-73d8a8fe4a08",
   "metadata": {},
   "outputs": [],
   "source": [
    "'''\n",
    "function to exclude repeat entries (when for a new nose entry, tail base is already inside arm)\n",
    "'''\n",
    "def check_repeat_entries(df_entries_stats_sorted):\n",
    "    df_valid_entries_stats_sorted= df_entries_stats_sorted.drop_duplicates(subset=['Exit Frame'], keep='first')\n",
    "    return df_valid_entries_stats_sorted;"
   ]
  },
  {
   "cell_type": "code",
   "execution_count": null,
   "id": "31065f7d-7c16-4d72-b389-50081dce28fa",
   "metadata": {},
   "outputs": [],
   "source": [
    "'''\n",
    "main function will itirate through all frames for each nose inside arm X - from mouse_boolean.csv\n",
    "then call function to validate if entry is valid (tail is also entered for more than 5 frames) - returns True\n",
    "then once True, calculate entry latency - time for tail base to fully enter from nose sucessful entry\n",
    "then from the moment tail enters calculate duration - until tail leave\n",
    "calculate movement of nose and tail during the duration\n",
    "then calculate exit latency - time for tail base to fully exit from nose sucessful exit\n",
    "\n",
    "That will produce table as follows:\n",
    "    entry frame    exit frame    duration   nose mov nose velocity  tail mov  tail velocity   entry latency   exit latency  nose entry frame  nose exit frame (both for later directionality purposes)  \n",
    "A\n",
    "A\n",
    "A\n",
    "B\n",
    "B\n",
    "C\n",
    "C\n",
    "D\n",
    "D\n",
    "E\n",
    "E\n",
    "E\n",
    "'''\n",
    "def valid_entries_stats(df_mouse_boolean, mouse_id):\n",
    "    # 11 nose in A, 12 nose in B, ....\n",
    "    entries = [];\n",
    "    entry_frame=[];\n",
    "    exit_frame=[];\n",
    "    duration=[];\n",
    "    entry_latency=[];\n",
    "    exit_latency=[];\n",
    "    nose_entry_frame=[];\n",
    "    nose_exit_frame=[];\n",
    "\n",
    "    for arm in range(11, 16):\n",
    "        temp_ent = [];\n",
    "        for frame in range(0, (len(df_mouse_boolean)-1)):\n",
    "            if df_mouse_boolean.iloc[frame,arm]==1:\n",
    "                temp_end = temp_ent.append(frame);\n",
    "            else:\n",
    "                if temp_ent: #if list is not empty\n",
    "                    valid, tail_entry = check_tail_entry(df_mouse_boolean, temp_ent, arm+20);\n",
    "                    if valid: # if tail_base is 1 for any\n",
    "                        #check that it's not a subentry in an already recorded entry\n",
    "                        #if exit_frame: # not the first entry \n",
    "                            #if df_mouse_boolean.iloc[temp_ent[0],arm+20]==0: #tail should not inside for new nose entry                  \n",
    "                                if arm==11:\n",
    "                                    entries.append('A');\n",
    "                                elif arm==12:\n",
    "                                    entries.append('B');\n",
    "                                elif arm==13:\n",
    "                                    entries.append('C');                        \n",
    "                                elif arm==14:\n",
    "                                    entries.append('D');\n",
    "                                elif arm==15:\n",
    "                                    entries.append('E');\n",
    "                                    \n",
    "                                entry_frame.append(tail_entry);\n",
    "                                tail_exit = check_tail_exit(df_mouse_boolean, temp_ent[-1], arm+20);\n",
    "                                exit_frame.append(tail_exit);\n",
    "                                dur =  (tail_exit-tail_entry+1)/30; #duration in s\n",
    "                                duration.append(dur);\n",
    "                                nose_entry_frame.append(temp_ent[0]);\n",
    "                                nose_exit_frame.append(temp_ent[-1]);\n",
    "                                ent_lat = (tail_entry-temp_ent[0]+1)/30;\n",
    "                                entry_latency.append(ent_lat);\n",
    "                                exit_lat = (tail_exit-temp_ent[-1]+1)/30;\n",
    "                                exit_latency.append(exit_lat);\n",
    "\n",
    "        \n",
    "                    temp_ent = []; #reset for next entry vals\n",
    "        \n",
    "    valid_entries_stats ={'Arm Entry':entries, 'Entry Frame':entry_frame, 'Exit Frame':exit_frame, 'Duration':duration, \n",
    "                          'Entry Latency':entry_latency, 'Exit Latency':exit_latency, \n",
    "                          'Nose Entry Frame':nose_entry_frame, 'Nose Exit Frame':nose_exit_frame}\n",
    "    df_valid_entries_stats = pd.DataFrame(valid_entries_stats);\n",
    "    df_valid_entries_stats.to_csv(mouse_id+'_entry_stats.csv');\n",
    "    df_valid_entries_stats_s = df_valid_entries_stats.sort_values(by='Entry Frame');\n",
    "    df_valid_entries_stats_sorted = check_repeat_entries(df_valid_entries_stats_s)\n",
    "    df_valid_entries_stats_sorted = df_valid_entries_stats_sorted.reset_index(drop=True);\n",
    "    df_valid_entries_stats_sorted.to_csv(mouse_id+'_entry_stats_sorted.csv');\n",
    "    return df_valid_entries_stats, df_valid_entries_stats_sorted;"
   ]
  },
  {
   "cell_type": "code",
   "execution_count": null,
   "id": "bddba415-7040-4aa0-a68e-b182be9e1ef5",
   "metadata": {},
   "outputs": [],
   "source": [
    "'''\n",
    "function just for the movement stats, \n",
    "entry frame and exit frame used for entry nose mov and vel and entry tail mov and vel\n",
    "'''\n",
    "def get_mov_stats(df_mouse_features, entry, exit, feature_i):\n",
    "    total_mov=0;\n",
    "    for m in df_mouse_features.iloc[entry:exit, feature_i]:\n",
    "        total_mov = total_mov+ m;\n",
    "    return total_mov;"
   ]
  },
  {
   "cell_type": "code",
   "execution_count": null,
   "id": "12e2d8c6-1268-441f-81ac-7aac6747af8a",
   "metadata": {},
   "outputs": [],
   "source": [
    "'''\n",
    "function to get frames in between and give back a list of coefficients for each arm\n",
    "'''\n",
    "def get_coeff(df_features, start, end):\n",
    "    a_count=0;\n",
    "    b_count=0;\n",
    "    c_count=0;\n",
    "    d_count=0;\n",
    "    e_count=0;\n",
    "    none_count=0;\n",
    "    for i in range(start, end+1):\n",
    "        none=0\n",
    "        if df_features.iloc[i, -5]:\n",
    "            a_count=a_count+1;\n",
    "        else:\n",
    "            none=none+1;\n",
    "        if df_features.iloc[i, -4]:\n",
    "            b_count=b_count+1;\n",
    "        else:\n",
    "            none=none+1;\n",
    "        if df_features.iloc[i, -3]:\n",
    "            c_count=c_count+1;\n",
    "        else:\n",
    "            none=none+1;        \n",
    "        if df_features.iloc[i, -2]:\n",
    "            d_count=d_count+1;\n",
    "        else:\n",
    "            none=none+1;            \n",
    "        if df_features.iloc[i, -1]:\n",
    "            e_count=e_count+1;\n",
    "        else:\n",
    "            none=none+1;\n",
    "        if none==5:\n",
    "            none_count=none_count+1;\n",
    "    tot = a_count+b_count+c_count+d_count+e_count+none_count;\n",
    "    a_coeff = a_count/tot;\n",
    "    b_coeff = b_count/tot;\n",
    "    c_coeff = c_count/tot;\n",
    "    d_coeff = d_count/tot;\n",
    "    e_coeff = e_count/tot;\n",
    "    return a_coeff, b_coeff, c_coeff, d_coeff, e_coeff;"
   ]
  },
  {
   "cell_type": "code",
   "execution_count": null,
   "id": "f6bb6c52-5b53-4fa3-bb27-b7f97edbb376",
   "metadata": {},
   "outputs": [],
   "source": [
    "'''\n",
    "this function will itirate through all entries in order of nose exit frame\n",
    "call function to calculate time in the middle from nose exit to the next nose entry as duration in middle\n",
    "calculate movement and velocity for that as well\n",
    "and then call function to calculate directionality coefficients (from features csv) for those frames and return so that table is ordered as:\n",
    "\n",
    "    time duration in middle before entry   mov middle velocity middle direct coeff A   direct coeff B   direct coeff C   direct coeff D   direct coeff E\n",
    "A\n",
    "B\n",
    "D\n",
    "E\n",
    "C\n",
    "A\n",
    "D\n",
    "B\n",
    "E\n",
    "'''\n",
    "def all_other_stats(df_entries_sorted, df_mouse_features, mouse_id):\n",
    "    entries = df_entries_sorted.iloc[:, 0]\n",
    "    \n",
    "    arm_nose_movement=[];\n",
    "    arm_nose_velocity=[];\n",
    "    arm_tail_movement=[];\n",
    "    arm_tail_velocity=[];    \n",
    "\n",
    "    middle_duration=[0]\n",
    "    middle_nose_movement=[0];\n",
    "    middle_nose_velocity=[0];\n",
    "    middle_tail_movement=[0];\n",
    "    middle_tail_velocity=[0];\n",
    "\n",
    "    direct_coeff_A=[0];\n",
    "    direct_coeff_B=[0];\n",
    "    direct_coeff_C=[0];\n",
    "    direct_coeff_D=[0];\n",
    "    direct_coeff_E=[0];\n",
    "\n",
    "    \n",
    "    for ent_i in range(0, len(df_entries_sorted)):\n",
    "        \n",
    "        nose_arm_entry = df_entries_sorted.iloc[ent_i, 6];\n",
    "        nose_arm_exit = df_entries_sorted.iloc[ent_i, 7];\n",
    "        n_feature_i = df_mouse_features.columns.get_loc('Movement_mouse_nose');\n",
    "        a_nose_mov = get_mov_stats(df_mouse_features, nose_arm_entry, nose_arm_exit, n_feature_i); \n",
    "        arm_nose_movement.append(a_nose_mov);\n",
    "        a_nose_vel = a_nose_mov/df_entries_sorted.iloc[ent_i, 3]; #divide movement by the duration\n",
    "        arm_nose_velocity.append(a_nose_vel);\n",
    "        arm_entry = df_entries_sorted.iloc[ent_i, 1];\n",
    "        arm_exit = df_entries_sorted.iloc[ent_i, 2];\n",
    "\n",
    "        tail_arm_entry = df_entries_sorted.iloc[ent_i, 1];\n",
    "        tail_arm_exit = df_entries_sorted.iloc[ent_i, 2];\n",
    "        t_feature_i=df_mouse_features.columns.get_loc('Movement_mouse_tail_base');\n",
    "        a_tail_mov = get_mov_stats(df_mouse_features, tail_arm_entry, tail_arm_exit, t_feature_i); \n",
    "        arm_tail_movement.append(a_tail_mov);\n",
    "        a_tail_vel = a_tail_mov/df_entries_sorted.iloc[ent_i, 3]; #divide movement by the duration\n",
    "        arm_tail_velocity.append(a_tail_vel);\n",
    "\n",
    "\n",
    "        #now for all middle calculations, those always begin in ent2 (all the time between ent2 and ent1 - as video will always begin with mouse already in ent1)\n",
    "        if ent_i!=0:\n",
    "            n_start = df_entries_sorted.iloc[ent_i-1, 7];\n",
    "            n_end = nose_arm_entry;\n",
    "            m_n_dur = (n_end-n_start+1)/30\n",
    "            \n",
    "            m_nose_mov = get_mov_stats(df_mouse_features, n_start, n_end, n_feature_i);\n",
    "            middle_nose_movement.append(m_nose_mov);\n",
    "            m_nose_vel = m_nose_mov/m_n_dur;\n",
    "            middle_nose_velocity.append(m_nose_vel);\n",
    "\n",
    "            t_start = df_entries_sorted.iloc[ent_i-1, 2];\n",
    "            t_end = tail_arm_entry;\n",
    "            m_dur = (t_end-t_start+1)/30\n",
    "            middle_duration.append(m_dur);\n",
    "            \n",
    "            m_tail_mov = get_mov_stats(df_mouse_features, t_start, t_end, t_feature_i);\n",
    "            middle_tail_movement.append(m_tail_mov);\n",
    "            m_tail_vel = m_tail_mov/m_dur;            \n",
    "            middle_tail_velocity.append(m_tail_vel);\n",
    "\n",
    "            ca, cb, cc, cd, ce = get_coeff(df_mouse_features, n_start, n_end);\n",
    "            \n",
    "            direct_coeff_A.append(ca);\n",
    "            direct_coeff_B.append(cb);\n",
    "            direct_coeff_C.append(cc);\n",
    "            direct_coeff_D.append(cd);\n",
    "            direct_coeff_E.append(ce);\n",
    "\n",
    "    other_stats ={'Arm Entry':entries, 'Arm Nose Movement':arm_nose_movement, 'Arm Nose Velocity':arm_nose_velocity,\n",
    "                  'Arm Tail Movement':arm_tail_movement, 'Arm Tail Velocity':arm_tail_velocity,'Middle Duration':middle_duration,\n",
    "                  'Middle Nose Movement':middle_nose_movement, 'Middle Nose Velocity':middle_nose_velocity, \n",
    "                  'Middle Tail Movement':middle_tail_movement, 'Middle Tail Velocity':middle_tail_velocity, \n",
    "                  'Directionality Coefficiet A':direct_coeff_A, 'Directionality Coefficiet B':direct_coeff_B, \n",
    "                  'Directionality Coefficiet C':direct_coeff_C, 'Directionality Coefficiet D':direct_coeff_D, \n",
    "                  'Directionality Coefficiet E':direct_coeff_E}\n",
    "    df_other_stats = pd.DataFrame(other_stats);\n",
    "    df_other_stats = df_other_stats.reset_index(drop=True);\n",
    "    df_other_stats.to_csv(mouse_id+'_other_stats.csv');\n",
    "    return df_other_stats;\n"
   ]
  },
  {
   "cell_type": "code",
   "execution_count": null,
   "id": "8fe0c1cb-5101-4216-8f97-c2e4119ea9c4",
   "metadata": {},
   "outputs": [],
   "source": [
    "'''\n",
    "this function will just get the coefficients of the current arm entered and the past two so in ABC at C look at coeff for C and coeff for A\n",
    "    current coeff  skip arm coeff   current coeff time proportional   skip arm coeff time proportional\n",
    "A    value for A     value for none\n",
    "B    value for B     value for none\n",
    "C    value for C    value for A\n",
    "D    value for D    value for B\n",
    "E    value for E    value for C\n",
    "A\n",
    "C\n",
    "'''\n",
    "\n",
    "'''    \n",
    "    for ent in range(1, len(df_other_stats)):\n",
    "        ind=0;\n",
    "        let = df_other_stats.iloc[ent,0];\n",
    "        if let=='E':\n",
    "            ind=-1\n",
    "        elif let=='D':\n",
    "            ind=-2\n",
    "        elif let=='C':\n",
    "            ind=-3\n",
    "        elif let=='B':\n",
    "            ind=-4\n",
    "        elif let=='A':\n",
    "            ind=-5\n",
    "        \n",
    "        if ent>=2:\n",
    "            temp_c= df_other_stats.iloc[ent,ind];\n",
    "            current_coeff.append(temp_c);\n",
    "\n",
    "            temp_c_t = temp_c*df_other_stats.iloc[ent,5]; #coeff * time in middle\n",
    "            current_coeff_time.append(temp_c_t);           \n",
    "            lag_ind=0;\n",
    "            lag_let = df_other_stats.iloc[ent-2,0];\n",
    "            if lag_let=='E':\n",
    "                lag_ind=-1\n",
    "            elif lag_let=='D':\n",
    "                lag_ind=-2\n",
    "            elif lag_let=='C':\n",
    "                lag_ind=-3\n",
    "            elif lag_let=='B':\n",
    "                lag_ind=-4\n",
    "            elif lag_let=='A':\n",
    "                lag_ind=-5\n",
    "            \n",
    "            temp_l= df_other_stats.iloc[ent,lag_ind];\n",
    "            #lag_2_coeff.append(temp_l); \n",
    "\n",
    "            temp_l_t = temp_l*df_other_stats.iloc[ent,5]; #coeff * time in middle for current entry\n",
    "            #lag_2_coeff_time.append(temp_l_t);\n",
    "            \n",
    "        else:\n",
    "            temp_c= df_other_stats.iloc[ent,ind];\n",
    "            current_coeff.append(temp_c);\n",
    "            \n",
    "            temp_c_t = temp_c*df_other_stats.iloc[ent,5]; #coeff * time in middle\n",
    "            current_coeff_time.append(temp_c_t);\n",
    "\n",
    "            lag_2_coeff.append(0);\n",
    "            lag_2_coeff_time.append(0);\n",
    "'''     \n",
    "def add_lag_dir_coefficients(df_other_stats, mouse_id):\n",
    "    entries = df_other_stats.iloc[:,0];\n",
    "    \n",
    "    cur_coeff=[];\n",
    "    lag_1_cur_coeff=[0];\n",
    "    lag_2_cur_coeff=[0,0];\n",
    "    lag_3_cur_coeff=[0,0,0];\n",
    "    lag_4_cur_coeff=[0,0,0,0];\n",
    "    \n",
    "    #lag_2_coeff=[0]; \n",
    "    \n",
    "    cur_coeff_time=[];\n",
    "    lag_1_cur_coeff_time=[0];\n",
    "    lag_2_cur_coeff_time=[0,0];\n",
    "    lag_3_cur_coeff_time=[0,0,0];\n",
    "    lag_4_cur_coeff_time=[0,0,0,0];\n",
    "    #lag_2_coeff_time=[0];\n",
    "\n",
    "    for i in range(0, len(df_other_stats)):\n",
    "        let = df_other_stats['Arm Entry'][i]\n",
    "        if let=='E':\n",
    "            ind=-1\n",
    "        elif let=='D':\n",
    "            ind=-2\n",
    "        elif let=='C':\n",
    "            ind=-3\n",
    "        elif let=='B':\n",
    "            ind=-4\n",
    "        elif let=='A':\n",
    "            ind=-5\n",
    "            \n",
    "        c = df_other_stats.iloc[i,ind]\n",
    "        cur_coeff.append(c)\n",
    "        tc = c*df_other_stats['Middle Duration'][i]\n",
    "        cur_coeff_time.append(tc)\n",
    "        \n",
    "        if i > 3:\n",
    "            c = df_other_stats.iloc[i-4,ind]\n",
    "            lag_4_cur_coeff.append(c)\n",
    "            tc = c*df_other_stats['Middle Duration'][i-4]\n",
    "            lag_4_cur_coeff_time.append(tc)           \n",
    "        if i > 2:\n",
    "            c = df_other_stats.iloc[i-3,ind]\n",
    "            lag_3_cur_coeff.append(c)\n",
    "            tc = c*df_other_stats['Middle Duration'][i-3]\n",
    "            lag_3_cur_coeff_time.append(tc)\n",
    "        if i > 1:\n",
    "            c = df_other_stats.iloc[i-2,ind]\n",
    "            lag_2_cur_coeff.append(c)\n",
    "            tc = c*df_other_stats['Middle Duration'][i-2]\n",
    "            lag_2_cur_coeff_time.append(tc)\n",
    "        if i > 0:\n",
    "            c = df_other_stats.iloc[i-1,ind]\n",
    "            lag_1_cur_coeff.append(c)\n",
    "            tc = c*df_other_stats['Middle Duration'][i-1]\n",
    "            lag_1_cur_coeff_time.append(tc)\n",
    "            \n",
    "        \n",
    "    lagged_coeff ={'Arm Entry':entries, 'Current Coeff':cur_coeff, 'Lagged 1 Cur Coeff':lag_1_cur_coeff, 'Lagged 2 Cur Coeff':lag_2_cur_coeff,\n",
    "                   'Lagged 3 Cur Coeff':lag_3_cur_coeff, 'Lagged 4 Cur Coeff':lag_4_cur_coeff,\n",
    "                   'Current Coeff Time Proportional':cur_coeff_time, 'Lagged 1 Cur Coeff Time Proportional':lag_1_cur_coeff_time,\n",
    "                   'Lagged 2 Cur Coeff Time Proportional':lag_2_cur_coeff_time, 'Lagged 3 Cur Coeff Time Proportional':lag_3_cur_coeff_time,\n",
    "                   'Lagged 4 Cur Coeff Time Proportional':lag_4_cur_coeff_time\n",
    "                  }\n",
    "    \n",
    "\n",
    "    df_lagged_coeff = pd.DataFrame(lagged_coeff);\n",
    "    df_lagged_coeff = df_lagged_coeff.reset_index(drop=True);\n",
    "    df_lagged_coeff.to_csv(mouse_id+'_lagged_coeff.csv');\n",
    "    return df_lagged_coeff;"
   ]
  },
  {
   "cell_type": "code",
   "execution_count": null,
   "id": "cfce767d-8413-473e-8186-dea61af1e3a8",
   "metadata": {},
   "outputs": [],
   "source": [
    "def check_args(args):\n",
    "    '''\n",
    "    function checks whether list of arguments are unique\n",
    "    returns boolean\n",
    "    '''\n",
    "    sequence=[];\n",
    "    for arg in args:\n",
    "        sequence.append(arg.lower());\n",
    "    isunique = len(sequence)==len(set(sequence)) # set() removes repetitions\n",
    "    return isunique #True for unique sequence, False if repetition"
   ]
  },
  {
   "cell_type": "code",
   "execution_count": null,
   "id": "1b0ea581-de4a-43d2-b694-356ac380f8f1",
   "metadata": {},
   "outputs": [],
   "source": [
    "'''\n",
    "this function will be to return output\n",
    "'''\n",
    "def get_output(*args):\n",
    "    for i in range(len(args)-1):\n",
    "        output = len(args);\n",
    "        if check_args(args[i:]):\n",
    "            output = output-i;\n",
    "            break;\n",
    "        else:\n",
    "            output = 1;\n",
    "    return output;\n"
   ]
  },
  {
   "cell_type": "code",
   "execution_count": null,
   "id": "cbdf281c-daea-42e2-8a6b-66ae8f090fc3",
   "metadata": {},
   "outputs": [],
   "source": [
    "'''\n",
    "this function will set ouput as the choice level (5,4,3,2, and 1)\n",
    "A   1      \n",
    "B   2 \n",
    "D   3\n",
    "E   4\n",
    "C   5\n",
    "A   5\n",
    "D   4\n",
    "B   5\n",
    "E   5\n",
    "and will finally create all info needed for the next step - classifier\n",
    "'''\n",
    "def add_choice_output(df_entry_stats_ordered, df_other_stats, df_lagged_coeff, mouse_id):\n",
    "    \n",
    "    entries = df_entry_stats_ordered.iloc[:,0];\n",
    "    '''\n",
    "    duration = df_entry_stats_ordered.iloc[:,3];\n",
    "    entry_latency = df_entry_stats_ordered.iloc[:,4];\n",
    "    exit_latency = df_entry_stats_ordered.iloc[:,5];\n",
    "    arm_nose_movement = df_other_stats.iloc[:,1];\n",
    "    arm_nose_velocity = df_other_stats.iloc[:,2];\n",
    "    arm_tail_movement = df_other_stats.iloc[:,3];\n",
    "    arm_tail_velocity = df_other_stats.iloc[:,4];\n",
    "    middle_duration = df_other_stats.iloc[:,5];\n",
    "    middle_nose_movement = df_other_stats.iloc[:,6];\n",
    "    middle_nose_velocity = df_other_stats.iloc[:,7];\n",
    "    middle_tail_movement = df_other_stats.iloc[:,8];\n",
    "    middle_tail_velocity = df_other_stats.iloc[:,9];\n",
    "    current_coeff = df_lagged_coeff.iloc[:, 1];\n",
    "    lagged_2_coeff = df_lagged_coeff.iloc[:, 2];\n",
    "    current_coeff_time = df_lagged_coeff.iloc[:, 3];\n",
    "    lagged_2_coeff_time = df_lagged_coeff.iloc[:, 4];\n",
    "    '''\n",
    "\n",
    "    choice_output=[1];\n",
    "   \n",
    "    p_exitmid_1 = [0]\n",
    "    p_midentry_1 = [0]\n",
    "    p_exitmidentry_1 = [0]\n",
    "   \n",
    "    for ind in range(1, len(entries)):\n",
    "\n",
    "        p_exitmid_1.append(np.sum([df_entry_stats_ordered['Exit Latency'][ind-1],df_other_stats['Middle Duration'][ind]])); \n",
    "        p_midentry_1.append(np.sum([df_other_stats['Middle Duration'][ind], df_entry_stats_ordered['Entry Latency'][ind]]));\n",
    "        p_exitmidentry_1.append(np.sum([df_entry_stats_ordered['Exit Latency'][ind-1],df_other_stats['Middle Duration'][ind], df_entry_stats_ordered['Entry Latency'][ind]]));\n",
    "        \n",
    "        ent1 = df_entry_stats_ordered.iloc[ind-4,0]\n",
    "        ent2 = df_entry_stats_ordered.iloc[ind-3,0]\n",
    "        ent3 = df_entry_stats_ordered.iloc[ind-2,0]\n",
    "        ent4 = df_entry_stats_ordered.iloc[ind-1,0]\n",
    "        ent5 = df_entry_stats_ordered.iloc[ind,0]\n",
    "\n",
    "        if ind > 3:\n",
    "            temp_output = get_output(ent1, ent2, ent3, ent4, ent5)\n",
    "            choice_output.append(temp_output);\n",
    "        elif ind > 2:\n",
    "            temp_output = get_output(ent2, ent3, ent4, ent5)\n",
    "            choice_output.append(temp_output);        \n",
    "        elif ind >1:\n",
    "            temp_output = get_output(ent3, ent4, ent5)\n",
    "            choice_output.append(temp_output);\n",
    "        elif ind >0:\n",
    "            temp_output = get_output(ent4, ent5)\n",
    "            choice_output.append(temp_output);\n",
    "    '''\n",
    "    everything_stats ={'Arm Entry':entries, 'Duration':duration, 'Entry Latency':entry_latency, 'Exit Latency':exit_latency,\n",
    "                       'Arm Nose Movement':arm_nose_movement, 'Arm Nose Velocity':arm_nose_velocity,\n",
    "                  'Arm Tail Movement':arm_tail_movement, 'Arm Tail Velocity':arm_tail_velocity,'Middle Duration':middle_duration,\n",
    "                  'Middle Nose Movement':middle_nose_movement, 'Middle Nose Velocity':middle_nose_velocity, \n",
    "                  'Middle Tail Movement':middle_tail_movement, 'Middle Tail Velocity':middle_tail_velocity, \n",
    "                  'Current Coeff':current_coeff, 'Lagged 2 Coeff':lagged_2_coeff, \n",
    "                  'Current Coeff Time Proportional':current_coeff_time, 'Lagged 2 Time Proportional':lagged_2_coeff_time, 'Choice Output':choice_output}\n",
    "    \n",
    "    len(entries)\n",
    "    len(choice_output)\n",
    "    len(everything_stats)\n",
    "\n",
    "    \n",
    "    everything_stats = pd.DataFrame(everything_stats);\n",
    "    df_everything_stats = df_everything_stats.reset_index(drop=True);\n",
    "    df_everything_stats.to_csv(mouse_id+'_everything_stats.csv');\n",
    "   '''\n",
    "    \n",
    "    \n",
    "    df_everything_stats = df_entry_stats_ordered.drop(columns = ['Entry Frame', 'Exit Frame', 'Nose Entry Frame', 'Nose Exit Frame'])\n",
    "    df_everything_stats['Arm Nose Movement'] = df_other_stats['Arm Nose Movement']\n",
    "    df_everything_stats['Arm Nose Velocity'] = df_other_stats['Arm Nose Velocity']\n",
    "    df_everything_stats['Arm Tail Movement'] = df_other_stats['Arm Tail Movement']\n",
    "    df_everything_stats['Arm Tail Velocity'] = df_other_stats['Arm Tail Velocity']\n",
    "                                                                 \n",
    "    df_everything_stats['Middle Duration'] = df_other_stats['Middle Duration']\n",
    "    df_everything_stats['Middle Nose Movement'] = df_other_stats['Middle Nose Movement']\n",
    "    df_everything_stats['Middle Nose Velocity'] = df_other_stats['Middle Nose Velocity']\n",
    "    df_everything_stats['Middle Tail Movement'] = df_other_stats['Middle Tail Movement']\n",
    "    df_everything_stats['Middle Tail Velocity'] = df_other_stats['Middle Tail Velocity']\n",
    "\n",
    "    df_everything_stats['ExitMid Duration'] = p_exitmid_1\n",
    "    df_everything_stats['MidEntry Duration'] = p_midentry_1\n",
    "    df_everything_stats['ExitMidEntry Duration'] = p_exitmidentry_1\n",
    "\n",
    "    df_everything_stats['ExitMidEntry Duration'] = p_exitmidentry_1\n",
    "    df_everything_stats['ExitMidEntry Duration'] = p_exitmidentry_1\n",
    "    df_everything_stats['ExitMidEntry Duration'] = p_exitmidentry_1\n",
    "    df_everything_stats['ExitMidEntry Duration'] = p_exitmidentry_1\n",
    "    \n",
    "    df_everything_stats['Current Coeff'] = df_lagged_coeff['Current Coeff']\n",
    "    df_everything_stats['Lagged 1 Cur Coeff'] = df_lagged_coeff['Lagged 1 Cur Coeff']\n",
    "    df_everything_stats['Lagged 2 Cur Coeff'] = df_lagged_coeff['Lagged 2 Cur Coeff']\n",
    "    df_everything_stats['Lagged 3 Cur Coeff'] = df_lagged_coeff['Lagged 3 Cur Coeff']\n",
    "    df_everything_stats['Lagged 4 Cur Coeff'] = df_lagged_coeff['Lagged 4 Cur Coeff']\n",
    "\n",
    "    df_everything_stats['Current Coeff Time Proportional'] = df_lagged_coeff['Current Coeff Time Proportional']\n",
    "    df_everything_stats['Lagged 1 Cur Coeff Time Proportional'] = df_lagged_coeff['Lagged 1 Cur Coeff Time Proportional']\n",
    "    df_everything_stats['Lagged 2 Cur Coeff Time Proportional'] = df_lagged_coeff['Lagged 2 Cur Coeff Time Proportional']\n",
    "    df_everything_stats['Lagged 3 Cur Coeff Time Proportional'] = df_lagged_coeff['Lagged 3 Cur Coeff Time Proportional']\n",
    "    df_everything_stats['Lagged 4 Cur Coeff Time Proportional'] = df_lagged_coeff['Lagged 4 Cur Coeff Time Proportional']\n",
    "\n",
    "    df_everything_stats['Choice Output'] = choice_output\n",
    "    df_everything_stats = df_everything_stats.reset_index(drop=True);    \n",
    "    df_everything_stats.to_csv(mouse_id+'_everything_stats.csv');\n",
    "\n",
    "    return df_everything_stats;\n"
   ]
  },
  {
   "cell_type": "code",
   "execution_count": null,
   "id": "42652ff8-8dc0-435a-930c-d39295dcdd26",
   "metadata": {},
   "outputs": [],
   "source": []
  },
  {
   "cell_type": "code",
   "execution_count": 94,
   "id": "bed8b5fb-9b0c-4312-8ed1-436b265dd566",
   "metadata": {},
   "outputs": [],
   "source": [
    "'''\n",
    "function to create the lagging for all previous 4 choices\n",
    "'''\n",
    "def lagging_four_prev_choices(df_pls):\n",
    "    lagged_df_everything_stats = df_pls.select(\n",
    "    \"Duration\", \n",
    "    *[pl.col(\"Duration\").shift(i).alias(f\"lagged_{i}_duration\") for i in [1,2,3,4]],\n",
    "    \"Entry Latency\", \n",
    "    *[pl.col(\"Entry Latency\").shift(i).alias(f\"lagged_{i}_entry_lat\") for i in [1,2,3,4]],\n",
    "    \"Exit Latency\", \n",
    "    *[pl.col(\"Exit Latency\").shift(i).alias(f\"lagged_{i}_exit_lat\") for i in [1,2,3,4]], \n",
    "    \"Arm Nose Movement\", \n",
    "    *[pl.col(\"Arm Nose Movement\").shift(i).alias(f\"lagged_{i}_arm_nose_mov\") for i in [1,2,3,4]],\n",
    "    \"Arm Nose Velocity\", \n",
    "    *[pl.col(\"Arm Nose Velocity\").shift(i).alias(f\"lagged_{i}_arm_nose_vel\") for i in [1,2,3,4]],\n",
    "    \"Arm Tail Movement\", \n",
    "    *[pl.col(\"Arm Tail Movement\").shift(i).alias(f\"lagged_{i}_arm_tail_mov\") for i in [1,2,3,4]],\n",
    "    \"Arm Tail Velocity\", \n",
    "    *[pl.col(\"Arm Tail Velocity\").shift(i).alias(f\"lagged_{i}_arm_tail_vel\") for i in [1,2,3,4]],\n",
    "    \"Middle Duration\", \n",
    "    *[pl.col(\"Middle Duration\").shift(i).alias(f\"lagged_{i}_mid_duration\") for i in [1,2,3,4]],\n",
    "    \"Middle Nose Movement\", \n",
    "    *[pl.col(\"Middle Nose Movement\").shift(i).alias(f\"lagged_{i}_mid_nose_mov\") for i in [1,2,3,4]],\n",
    "    \"Middle Nose Velocity\", \n",
    "    *[pl.col(\"Middle Nose Velocity\").shift(i).alias(f\"lagged_{i}_mid_nose_vel\") for i in [1,2,3,4]],\n",
    "    \"Middle Tail Movement\", \n",
    "    *[pl.col(\"Middle Tail Movement\").shift(i).alias(f\"lagged_{i}_mid_tail_mov\") for i in [1,2,3,4]],\n",
    "    \"Middle Tail Velocity\", \n",
    "    *[pl.col(\"Middle Tail Velocity\").shift(i).alias(f\"lagged_{i}_mid_tail_vel\") for i in [1,2,3,4]],\n",
    "\n",
    "    \"ExitMid Duration\",\n",
    "    *[pl.col(\"ExitMid Duration\").shift(i).alias(f\"lagged_{i}_exitmid_duration\") for i in [1,2,3,4]],\n",
    "    \"MidEntry Duration\", \n",
    "    *[pl.col(\"MidEntry Duration\").shift(i).alias(f\"lagged_{i}_midentry_duration\") for i in [1,2,3,4]],\n",
    "    \"ExitMidEntry Duration\",\n",
    "    *[pl.col(\"ExitMidEntry Duration\").shift(i).alias(f\"lagged_{i}_exitmidentry_duration\") for i in [1,2,3,4]],\n",
    "    \n",
    "    \"Current Coeff\", \n",
    "    *[pl.col(\"Current Coeff\").shift(i).alias(f\"lagged_{i}_current_coeff\") for i in [1,2,3,4]],\n",
    "\n",
    "    \n",
    "    \"Lagged 1 Cur Coeff\", \n",
    "    *[pl.col(\"Lagged 1 Cur Coeff\").shift(i).alias(f\"lagged_{i}_lagged_1_cur_coeff\") for i in [1,2,3,4]],\n",
    "    \"Lagged 2 Cur Coeff\", \n",
    "    *[pl.col(\"Lagged 2 Cur Coeff\").shift(i).alias(f\"lagged_{i}_lagged_2_cur_coeff\") for i in [1,2,3,4]],\n",
    "    \"Lagged 3 Cur Coeff\", \n",
    "    *[pl.col(\"Lagged 3 Cur Coeff\").shift(i).alias(f\"lagged_{i}_lagged_3_cur_coeff\") for i in [1,2,3,4]],\n",
    "    \"Lagged 4 Cur Coeff\", \n",
    "    *[pl.col(\"Lagged 4 Cur Coeff\").shift(i).alias(f\"lagged_{i}_lagged_4_cur_coeff\") for i in [1,2,3,4]],\n",
    "\n",
    "    \n",
    "    \"Current Coeff Time Proportional\", \n",
    "    *[pl.col(\"Current Coeff Time Proportional\").shift(i).alias(f\"lagged_{i}_current_coeff_time_prop\") for i in [1,2,3,4]],\n",
    "\n",
    "    \"Lagged 1 Cur Coeff Time Proportional\", \n",
    "    *[pl.col(\"Lagged 1 Cur Coeff Time Proportional\").shift(i).alias(f\"lagged_{i}_lagged_1_cur_coeff_time_prop\") for i in [1,2,3,4]],\n",
    "    \"Lagged 2 Cur Coeff Time Proportional\", \n",
    "    *[pl.col(\"Lagged 2 Cur Coeff Time Proportional\").shift(i).alias(f\"lagged_{i}_lagged_2_cur_coeff_time_prop\") for i in [1,2,3,4]],\n",
    "    \"Lagged 3 Cur Coeff Time Proportional\", \n",
    "    *[pl.col(\"Lagged 3 Cur Coeff Time Proportional\").shift(i).alias(f\"lagged_{i}_lagged_3_cur_coeff_time_prop\") for i in [1,2,3,4]],\n",
    "    \"Lagged 4 Cur Coeff Time Proportional\", \n",
    "    *[pl.col(\"Lagged 4 Cur Coeff Time Proportional\").shift(i).alias(f\"lagged_{i}_lagged_4_cur_coeff_time_prop\") for i in [1,2,3,4]],\n",
    "    \n",
    "    \"Choice Output\", \n",
    "    *[pl.col(\"Choice Output\").shift(i).alias(f\"lagged_{i}_choice_ago\") for i in [1,2,3,4]]\n",
    "    )\n",
    "    lagged_df_everything_stats = lagged_df_everything_stats.drop_nulls()\n",
    "    return lagged_df_everything_stats;"
   ]
  },
  {
   "cell_type": "code",
   "execution_count": 95,
   "id": "b358d598-35ba-4692-a62d-a52e0e1c866c",
   "metadata": {},
   "outputs": [],
   "source": [
    "def added_time_means(lagged_df_everything_stats, mouse_id):\n",
    "    f = lagged_df_everything_stats.drop(columns = ['Choice Output', 'lagged_1_choice_ago', 'lagged_2_choice_ago','lagged_3_choice_ago', \n",
    "                                                   'lagged_4_choice_ago']);\n",
    "    r_arm_mean2s = []\n",
    "    r_arm_mean3s = []\n",
    "    r_arm_mean4s = []\n",
    "    r_arm_mean5s = []\n",
    "\n",
    "    p_arm_mean2s = []\n",
    "    p_arm_mean3s = []\n",
    "    p_arm_mean4s = []\n",
    "\n",
    "    p_mid_mean2s = []\n",
    "    p_mid_mean3s = []\n",
    "    p_mid_mean4s = []\n",
    "    p_mid_mean5s = []\n",
    "\n",
    "    r_arm_2s = []\n",
    "    r_arm_3s = []\n",
    "    r_arm_4s = []\n",
    "    r_arm_5s = []\n",
    "\n",
    "    p_arm_2s = []\n",
    "    p_arm_3s = []\n",
    "    p_arm_4s = []\n",
    "\n",
    "    p_mid_2s = []\n",
    "    p_mid_3s = []\n",
    "    p_mid_4s = []\n",
    "    p_mid_5s = []\n",
    "    \n",
    "    p_exitmid_2s = []\n",
    "    p_exitmid_3s = []\n",
    "    p_exitmid_4s = []\n",
    "    p_exitmid_5s = []\n",
    "\n",
    "    p_exitmid_mean2s = []\n",
    "    p_exitmid_mean3s = []\n",
    "    p_exitmid_mean4s = []\n",
    "    p_exitmid_mean5s = []\n",
    "\n",
    "    p_midentry_2s = []\n",
    "    p_midentry_3s = []\n",
    "    p_midentry_4s = []\n",
    "    p_midentry_5s = []\n",
    "\n",
    "    p_midentry_mean2s = []\n",
    "    p_midentry_mean3s = []\n",
    "    p_midentry_mean4s = []\n",
    "    p_midentry_mean5s = []\n",
    "    \n",
    "    p_exitmidentry_2s = []\n",
    "    p_exitmidentry_3s = []\n",
    "    p_exitmidentry_4s = []\n",
    "    p_exitmidentry_5s = []\n",
    "\n",
    "    p_exitmidentry_mean2s = []\n",
    "    p_exitmidentry_mean3s = []\n",
    "    p_exitmidentry_mean4s = []\n",
    "    p_exitmidentry_mean5s = []\n",
    "\n",
    "    \n",
    "    for i in range(0, len(lagged_df_everything_stats)):\n",
    "        r_arm_2s.append(np.sum([f['Duration'][i], f['lagged_1_duration'][i]]));\n",
    "        r_arm_3s.append(np.sum([f['Duration'][i], f['lagged_1_duration'][i], f['lagged_2_duration'][i]]));\n",
    "        r_arm_4s.append(np.sum([f['Duration'][i], f['lagged_1_duration'][i], f['lagged_2_duration'][i], f['lagged_3_duration'][i]]));\n",
    "        r_arm_5s.append(np.sum([f['Duration'][i], f['lagged_1_duration'][i], f['lagged_2_duration'][i], f['lagged_3_duration'][i], f['lagged_4_duration'][i]]));        \n",
    "        \n",
    "        r_arm_mean2s.append(np.average([f['Duration'][i], f['lagged_1_duration'][i]]));\n",
    "        r_arm_mean3s.append(np.average([f['Duration'][i], f['lagged_1_duration'][i], f['lagged_2_duration'][i]]));\n",
    "        r_arm_mean4s.append(np.average([f['Duration'][i], f['lagged_1_duration'][i], f['lagged_2_duration'][i], f['lagged_3_duration'][i]]));\n",
    "        r_arm_mean5s.append(np.average([f['Duration'][i], f['lagged_1_duration'][i], f['lagged_2_duration'][i], f['lagged_3_duration'][i], f['lagged_4_duration'][i]]));\n",
    "\n",
    "        p_arm_2s.append(np.sum([f['lagged_1_duration'][i], f['lagged_2_duration'][i]]));\n",
    "        p_arm_3s.append(np.sum([f['lagged_1_duration'][i], f['lagged_2_duration'][i], f['lagged_3_duration'][i]]));\n",
    "        p_arm_4s.append(np.sum([f['lagged_1_duration'][i], f['lagged_2_duration'][i], f['lagged_3_duration'][i], f['lagged_4_duration'][i]]));\n",
    "        \n",
    "        p_arm_mean2s.append(np.average([f['lagged_1_duration'][i], f['lagged_2_duration'][i]]));\n",
    "        p_arm_mean3s.append(np.average([f['lagged_1_duration'][i], f['lagged_2_duration'][i], f['lagged_3_duration'][i]]));\n",
    "        p_arm_mean4s.append(np.average([f['lagged_1_duration'][i], f['lagged_2_duration'][i], f['lagged_3_duration'][i], f['lagged_4_duration'][i]]));\n",
    "       \n",
    "        p_mid_2s.append(np.sum([f['Middle Duration'][i], f['lagged_1_mid_duration'][i]]));\n",
    "        p_mid_3s.append(np.sum([f['Middle Duration'][i], f['lagged_1_mid_duration'][i], f['lagged_2_mid_duration'][i]]));\n",
    "        p_mid_4s.append(np.sum([f['Middle Duration'][i], f['lagged_1_mid_duration'][i], f['lagged_2_mid_duration'][i], f['lagged_3_mid_duration'][i]]));\n",
    "        p_mid_5s.append(np.sum([f['Middle Duration'][i], f['lagged_1_mid_duration'][i], f['lagged_2_mid_duration'][i], f['lagged_3_mid_duration'][i], f['lagged_4_mid_duration'][i]]));\n",
    "        \n",
    "        p_mid_mean2s.append(np.average([f['Middle Duration'][i], f['lagged_1_mid_duration'][i]]));\n",
    "        p_mid_mean3s.append(np.average([f['Middle Duration'][i], f['lagged_1_mid_duration'][i], f['lagged_2_mid_duration'][i]]));\n",
    "        p_mid_mean4s.append(np.average([f['Middle Duration'][i], f['lagged_1_mid_duration'][i], f['lagged_2_mid_duration'][i], f['lagged_3_mid_duration'][i]]));\n",
    "        p_mid_mean5s.append(np.average([f['Middle Duration'][i], f['lagged_1_mid_duration'][i], f['lagged_2_mid_duration'][i], f['lagged_3_mid_duration'][i], f['lagged_4_mid_duration'][i]]));\n",
    "\n",
    "        p_exitmid_2s.append(np.sum([f['ExitMid Duration'][i], f['lagged_1_exitmid_duration'][i]]));\n",
    "        p_exitmid_3s.append(np.sum([f['ExitMid Duration'][i], f['lagged_1_exitmid_duration'][i], f['lagged_2_exitmid_duration'][i]]));\n",
    "        p_exitmid_4s.append(np.sum([f['ExitMid Duration'][i], f['lagged_1_exitmid_duration'][i], f['lagged_2_exitmid_duration'][i], f['lagged_3_exitmid_duration'][i]]));\n",
    "        p_exitmid_5s.append(np.sum([f['ExitMid Duration'][i], f['lagged_1_exitmid_duration'][i], f['lagged_2_exitmid_duration'][i], f['lagged_3_exitmid_duration'][i], f['lagged_4_exitmid_duration'][i]]));\n",
    "        \n",
    "        p_exitmid_mean2s.append(np.average([f['ExitMid Duration'][i], f['lagged_1_exitmid_duration'][i]]));\n",
    "        p_exitmid_mean3s.append(np.average([f['ExitMid Duration'][i], f['lagged_1_exitmid_duration'][i], f['lagged_2_exitmid_duration'][i]]));\n",
    "        p_exitmid_mean4s.append(np.average([f['ExitMid Duration'][i], f['lagged_1_exitmid_duration'][i], f['lagged_2_exitmid_duration'][i], f['lagged_3_exitmid_duration'][i]]));\n",
    "        p_exitmid_mean5s.append(np.average([f['ExitMid Duration'][i], f['lagged_1_exitmid_duration'][i], f['lagged_2_exitmid_duration'][i], f['lagged_3_exitmid_duration'][i], f['lagged_4_exitmid_duration'][i]]));\n",
    "\n",
    "        p_midentry_2s.append(np.sum([f['MidEntry Duration'][i], f['lagged_1_midentry_duration'][i]]));\n",
    "        p_midentry_3s.append(np.sum([f['MidEntry Duration'][i], f['lagged_1_midentry_duration'][i], f['lagged_2_midentry_duration'][i]]));\n",
    "        p_midentry_4s.append(np.sum([f['MidEntry Duration'][i], f['lagged_1_midentry_duration'][i], f['lagged_2_midentry_duration'][i], f['lagged_3_midentry_duration'][i]]));\n",
    "        p_midentry_5s.append(np.sum([f['MidEntry Duration'][i], f['lagged_1_midentry_duration'][i], f['lagged_2_midentry_duration'][i], f['lagged_3_midentry_duration'][i], f['lagged_4_midentry_duration'][i]]));\n",
    "\n",
    "        p_midentry_mean2s.append(np.average([f['MidEntry Duration'][i], f['lagged_1_midentry_duration'][i]]));\n",
    "        p_midentry_mean3s.append(np.average([f['MidEntry Duration'][i], f['lagged_1_midentry_duration'][i], f['lagged_2_midentry_duration'][i]]));\n",
    "        p_midentry_mean4s.append(np.average([f['MidEntry Duration'][i], f['lagged_1_midentry_duration'][i], f['lagged_2_midentry_duration'][i], f['lagged_3_midentry_duration'][i]]));\n",
    "        p_midentry_mean5s.append(np.average([f['MidEntry Duration'][i], f['lagged_1_midentry_duration'][i], f['lagged_2_midentry_duration'][i], f['lagged_3_midentry_duration'][i], f['lagged_4_midentry_duration'][i]]));\n",
    "        \n",
    "        p_exitmidentry_2s.append(np.sum([f['ExitMidEntry Duration'][i], f['lagged_1_exitmidentry_duration'][i]]));\n",
    "        p_exitmidentry_3s.append(np.sum([f['ExitMidEntry Duration'][i], f['lagged_1_exitmidentry_duration'][i], f['lagged_2_exitmidentry_duration'][i]]));\n",
    "        p_exitmidentry_4s.append(np.sum([f['ExitMidEntry Duration'][i], f['lagged_1_exitmidentry_duration'][i], f['lagged_2_exitmidentry_duration'][i], f['lagged_3_exitmidentry_duration'][i]]));\n",
    "        p_exitmidentry_5s.append(np.sum([f['ExitMidEntry Duration'][i], f['lagged_1_exitmidentry_duration'][i], f['lagged_2_exitmidentry_duration'][i], f['lagged_3_exitmidentry_duration'][i], f['lagged_4_exitmidentry_duration'][i]]));\n",
    "        \n",
    "        p_exitmidentry_mean2s.append(np.average([f['ExitMidEntry Duration'][i], f['lagged_1_exitmidentry_duration'][i]]));\n",
    "        p_exitmidentry_mean3s.append(np.average([f['ExitMidEntry Duration'][i], f['lagged_1_exitmidentry_duration'][i], f['lagged_2_exitmidentry_duration'][i]]));\n",
    "        p_exitmidentry_mean4s.append(np.average([f['ExitMidEntry Duration'][i], f['lagged_1_exitmidentry_duration'][i], f['lagged_2_exitmidentry_duration'][i], f['lagged_3_exitmidentry_duration'][i]]));\n",
    "        p_exitmidentry_mean5s.append(np.average([f['ExitMidEntry Duration'][i], f['lagged_1_exitmidentry_duration'][i], f['lagged_2_exitmidentry_duration'][i], f['lagged_3_exitmidentry_duration'][i], f['lagged_4_exitmidentry_duration'][i]]));\n",
    "               \n",
    "\n",
    "    \n",
    "    f['2_cur_arm_duration'] = r_arm_2s;\n",
    "    f['3_cur_arm_duration'] = r_arm_3s;\n",
    "    f['4_cur_arm_duration'] = r_arm_4s;\n",
    "    f['5_cur_arm_duration'] = r_arm_5s;        \n",
    "\n",
    "    f['mean_2_cur_arm_duration'] = r_arm_mean2s;\n",
    "    f['mean_3_cur_arm_duration'] = r_arm_mean3s;\n",
    "    f['mean_4_cur_arm_duration'] = r_arm_mean4s;\n",
    "    f['mean_5_cur_arm_duration'] = r_arm_mean5s;\n",
    "\n",
    "    f['2_past_arm_duration'] = p_arm_2s;\n",
    "    f['3_past_arm_duration'] = p_arm_3s;\n",
    "    f['4_past_arm_duration'] = p_arm_4s;\n",
    "    \n",
    "    f['mean_2_past_arm_duration'] = p_arm_mean2s;\n",
    "    f['mean_3_past_arm_duration'] = p_arm_mean3s;\n",
    "    f['mean_4_past_arm_duration'] = p_arm_mean4s;\n",
    "\n",
    "    f['2_past_mid_duration'] = p_mid_2s;\n",
    "    f['3_past_mid_duration'] = p_mid_3s;\n",
    "    f['4_past_mid_duration'] = p_mid_4s;\n",
    "    f['5_past_mid_duration'] = p_mid_5s;\n",
    "    \n",
    "    f['mean_2_past_mid_duration'] = p_mid_mean2s;\n",
    "    f['mean_3_past_mid_duration'] = p_mid_mean3s;\n",
    "    f['mean_4_past_mid_duration'] = p_mid_mean4s;\n",
    "    f['mean_5_past_mid_duration'] = p_mid_mean5s;\n",
    "\n",
    "\n",
    "    f['2_past_exitmid_duration'] = p_exitmid_2s;\n",
    "    f['3_past_exitmid_duration'] = p_exitmid_3s;\n",
    "    f['4_past_exitmid_duration'] = p_exitmid_4s;\n",
    "    f['5_past_exitmid_duration'] = p_exitmid_5s;\n",
    "    \n",
    "    f['mean_2_past_exitmid_duration'] = p_exitmid_mean2s;\n",
    "    f['mean_3_past_exitmid_duration'] = p_exitmid_mean3s;\n",
    "    f['mean_4_past_exitmid_duration'] = p_exitmid_mean4s;\n",
    "    f['mean_5_past_exitmid_duration'] = p_exitmid_mean5s;\n",
    "\n",
    "    f['2_past_midentry_duration'] = p_midentry_2s;\n",
    "    f['3_past_midentry_duration'] = p_midentry_3s;\n",
    "    f['4_past_midentry_duration'] = p_midentry_4s;\n",
    "    f['5_past_midentry_duration'] = p_midentry_5s;\n",
    "    \n",
    "    f['mean_2_past_midentry_duration'] = p_midentry_mean2s;\n",
    "    f['mean_3_past_midentry_duration'] = p_midentry_mean3s;\n",
    "    f['mean_4_past_midentry_duration'] = p_midentry_mean4s;\n",
    "    f['mean_5_past_midentry_duration'] = p_midentry_mean5s;\n",
    "\n",
    "    f['2_past_exitmidentry_duration'] = p_exitmidentry_2s;\n",
    "    f['3_past_exitmidentry_duration'] = p_exitmidentry_3s;\n",
    "    f['4_past_exitmidentry_duration'] = p_exitmidentry_4s;\n",
    "    f['5_past_exitmidentry_duration'] = p_exitmidentry_5s;\n",
    "    \n",
    "    f['mean_2_past_exitmidentry_duration'] = p_exitmidentry_mean2s;\n",
    "    f['mean_3_past_exitmidentry_duration'] = p_exitmidentry_mean3s;\n",
    "    f['mean_4_past_exitmidentry_duration'] = p_exitmidentry_mean4s;\n",
    "    f['mean_5_past_exitmidentry_duration'] = p_exitmidentry_mean5s;\n",
    "\n",
    "    f['Choice Output'] = lagged_df_everything_stats['Choice Output']\n",
    "    f['lagged_1_choice_ago'] = lagged_df_everything_stats['lagged_1_choice_ago']\n",
    "    f['lagged_2_choice_ago'] = lagged_df_everything_stats['lagged_2_choice_ago']\n",
    "    f['lagged_3_choice_ago'] = lagged_df_everything_stats['lagged_3_choice_ago']\n",
    "    f['lagged_4_choice_ago'] = lagged_df_everything_stats['lagged_4_choice_ago']\n",
    "\n",
    "    \n",
    "    df_added_stats = pd.DataFrame(f);\n",
    "    df_added_stats = df_added_stats.reset_index(drop=True);\n",
    "    df_added_stats.to_csv(mouse_id+'_added_stats.csv');\n",
    "    return df_added_stats;"
   ]
  },
  {
   "cell_type": "code",
   "execution_count": null,
   "id": "b66bf193-48ca-4123-8775-02e2763cff31",
   "metadata": {},
   "outputs": [],
   "source": []
  },
  {
   "cell_type": "code",
   "execution_count": null,
   "id": "b4e17bac-fe99-4eec-941c-a6f1b4a9a8aa",
   "metadata": {},
   "outputs": [],
   "source": []
  },
  {
   "cell_type": "code",
   "execution_count": 96,
   "id": "32186ad9-4f1b-4b85-9b16-ecc69f39c0e1",
   "metadata": {},
   "outputs": [],
   "source": [
    "'''\n",
    "function to create the lagging for all previous 4 choices\n",
    "'''\n",
    "def lagging_four_prev_choices(df_pls):\n",
    "    lagged_df_everything_stats = df_pls.select(\n",
    "    \"Duration\", \n",
    "    *[pl.col(\"Duration\").shift(i).alias(f\"lagged_{i}_duration\") for i in [1,2,3,4]],\n",
    "    \"Entry Latency\", \n",
    "    *[pl.col(\"Entry Latency\").shift(i).alias(f\"lagged_{i}_entry_lat\") for i in [1,2,3,4]],\n",
    "    \"Exit Latency\", \n",
    "    *[pl.col(\"Exit Latency\").shift(i).alias(f\"lagged_{i}_exit_lat\") for i in [1,2,3,4]], \n",
    "    \"Arm Nose Movement\", \n",
    "    *[pl.col(\"Arm Nose Movement\").shift(i).alias(f\"lagged_{i}_arm_nose_mov\") for i in [1,2,3,4]],\n",
    "    \"Arm Nose Velocity\", \n",
    "    *[pl.col(\"Arm Nose Velocity\").shift(i).alias(f\"lagged_{i}_arm_nose_vel\") for i in [1,2,3,4]],\n",
    "    \"Arm Tail Movement\", \n",
    "    *[pl.col(\"Arm Tail Movement\").shift(i).alias(f\"lagged_{i}_arm_tail_mov\") for i in [1,2,3,4]],\n",
    "    \"Arm Tail Velocity\", \n",
    "    *[pl.col(\"Arm Tail Velocity\").shift(i).alias(f\"lagged_{i}_arm_tail_vel\") for i in [1,2,3,4]],\n",
    "    \"Middle Duration\", \n",
    "    *[pl.col(\"Middle Duration\").shift(i).alias(f\"lagged_{i}_mid_duration\") for i in [1,2,3,4]],\n",
    "    \"Middle Nose Movement\", \n",
    "    *[pl.col(\"Middle Nose Movement\").shift(i).alias(f\"lagged_{i}_mid_nose_mov\") for i in [1,2,3,4]],\n",
    "    \"Middle Nose Velocity\", \n",
    "    *[pl.col(\"Middle Nose Velocity\").shift(i).alias(f\"lagged_{i}_mid_nose_vel\") for i in [1,2,3,4]],\n",
    "    \"Middle Tail Movement\", \n",
    "    *[pl.col(\"Middle Tail Movement\").shift(i).alias(f\"lagged_{i}_mid_tail_mov\") for i in [1,2,3,4]],\n",
    "    \"Middle Tail Velocity\", \n",
    "    *[pl.col(\"Middle Tail Velocity\").shift(i).alias(f\"lagged_{i}_mid_tail_vel\") for i in [1,2,3,4]],\n",
    "\n",
    "    \"ExitMid Duration\",\n",
    "    *[pl.col(\"ExitMid Duration\").shift(i).alias(f\"lagged_{i}_exitmid_duration\") for i in [1,2,3,4]],\n",
    "    \"MidEntry Duration\", \n",
    "    *[pl.col(\"MidEntry Duration\").shift(i).alias(f\"lagged_{i}_midentry_duration\") for i in [1,2,3,4]],\n",
    "    \"ExitMidEntry Duration\",\n",
    "    *[pl.col(\"ExitMidEntry Duration\").shift(i).alias(f\"lagged_{i}_exitmidentry_duration\") for i in [1,2,3,4]],\n",
    "    \n",
    "    \"Current Coeff\", \n",
    "    *[pl.col(\"Current Coeff\").shift(i).alias(f\"lagged_{i}_current_coeff\") for i in [1,2,3,4]],\n",
    "\n",
    "    \n",
    "    \"Lagged 1 Cur Coeff\", \n",
    "    *[pl.col(\"Lagged 1 Cur Coeff\").shift(i).alias(f\"lagged_{i}_lagged_1_cur_coeff\") for i in [1,2,3,4]],\n",
    "    \"Lagged 2 Cur Coeff\", \n",
    "    *[pl.col(\"Lagged 2 Cur Coeff\").shift(i).alias(f\"lagged_{i}_lagged_2_cur_coeff\") for i in [1,2,3,4]],\n",
    "    \"Lagged 3 Cur Coeff\", \n",
    "    *[pl.col(\"Lagged 3 Cur Coeff\").shift(i).alias(f\"lagged_{i}_lagged_3_cur_coeff\") for i in [1,2,3,4]],\n",
    "    \"Lagged 4 Cur Coeff\", \n",
    "    *[pl.col(\"Lagged 4 Cur Coeff\").shift(i).alias(f\"lagged_{i}_lagged_4_cur_coeff\") for i in [1,2,3,4]],\n",
    "\n",
    "    \n",
    "    \"Current Coeff Time Proportional\", \n",
    "    *[pl.col(\"Current Coeff Time Proportional\").shift(i).alias(f\"lagged_{i}_current_coeff_time_prop\") for i in [1,2,3,4]],\n",
    "\n",
    "    \"Lagged 1 Cur Coeff Time Proportional\", \n",
    "    *[pl.col(\"Lagged 1 Cur Coeff Time Proportional\").shift(i).alias(f\"lagged_{i}_lagged_1_cur_coeff_time_prop\") for i in [1,2,3,4]],\n",
    "    \"Lagged 2 Cur Coeff Time Proportional\", \n",
    "    *[pl.col(\"Lagged 2 Cur Coeff Time Proportional\").shift(i).alias(f\"lagged_{i}_lagged_2_cur_coeff_time_prop\") for i in [1,2,3,4]],\n",
    "    \"Lagged 3 Cur Coeff Time Proportional\", \n",
    "    *[pl.col(\"Lagged 3 Cur Coeff Time Proportional\").shift(i).alias(f\"lagged_{i}_lagged_3_cur_coeff_time_prop\") for i in [1,2,3,4]],\n",
    "    \"Lagged 4 Cur Coeff Time Proportional\", \n",
    "    *[pl.col(\"Lagged 4 Cur Coeff Time Proportional\").shift(i).alias(f\"lagged_{i}_lagged_4_cur_coeff_time_prop\") for i in [1,2,3,4]],\n",
    "    \n",
    "    \"Choice Output\", \n",
    "    *[pl.col(\"Choice Output\").shift(i).alias(f\"lagged_{i}_choice_ago\") for i in [1,2,3,4]]\n",
    "    )\n",
    "    lagged_df_everything_stats = lagged_df_everything_stats.drop_nulls()\n",
    "    return lagged_df_everything_stats;\n"
   ]
  },
  {
   "cell_type": "code",
   "execution_count": null,
   "id": "d46faf6f-7ad4-4ab3-a138-7fd9997ac04d",
   "metadata": {},
   "outputs": [],
   "source": []
  },
  {
   "cell_type": "code",
   "execution_count": null,
   "id": "b57ff641-9b6d-4c00-865a-9d7136e5cb35",
   "metadata": {},
   "outputs": [],
   "source": []
  },
  {
   "cell_type": "code",
   "execution_count": null,
   "id": "6cccf7ae-199b-445b-b7bc-79fbbbe8609b",
   "metadata": {},
   "outputs": [],
   "source": []
  },
  {
   "cell_type": "code",
   "execution_count": null,
   "id": "2187e7ca-df7b-4d11-baff-9914303814b1",
   "metadata": {},
   "outputs": [],
   "source": []
  },
  {
   "cell_type": "code",
   "execution_count": null,
   "id": "72727f05-ac77-4bef-b711-f204aa8682a0",
   "metadata": {},
   "outputs": [],
   "source": []
  },
  {
   "cell_type": "code",
   "execution_count": null,
   "id": "e29dab78-c016-48c7-9f4b-abaee7ab1fce",
   "metadata": {},
   "outputs": [],
   "source": []
  },
  {
   "cell_type": "code",
   "execution_count": null,
   "id": "51dc52ae-21ed-4de7-a335-1b24d6f9b0ec",
   "metadata": {},
   "outputs": [],
   "source": []
  },
  {
   "cell_type": "code",
   "execution_count": null,
   "id": "d0443a2e-44c5-4512-9dbd-c5e092a2087a",
   "metadata": {},
   "outputs": [],
   "source": []
  },
  {
   "cell_type": "code",
   "execution_count": null,
   "id": "bb07717c-5746-4348-8f91-004cabd1573a",
   "metadata": {},
   "outputs": [],
   "source": []
  },
  {
   "cell_type": "code",
   "execution_count": null,
   "id": "f58fa2f3-8aa9-418a-af83-8a482acc7d8d",
   "metadata": {},
   "outputs": [],
   "source": []
  },
  {
   "cell_type": "code",
   "execution_count": 97,
   "id": "194cc4fe-acbb-439c-9048-d2a4efa04e98",
   "metadata": {},
   "outputs": [],
   "source": [
    "from sklearn.model_selection import train_test_split\n",
    "from sklearn.ensemble import GradientBoostingClassifier\n",
    "from sklearn.model_selection import cross_val_score\n",
    "from sklearn.metrics import f1_score\n",
    "from sklearn.metrics import precision_score\n",
    "\n",
    "from sklearn.preprocessing import MinMaxScaler\n",
    "from sklearn.metrics import confusion_matrix"
   ]
  },
  {
   "cell_type": "markdown",
   "id": "396ecdf5-0ca4-48ae-b410-be5991afa395",
   "metadata": {},
   "source": [
    "# non-scaled full"
   ]
  },
  {
   "cell_type": "code",
   "execution_count": 150,
   "id": "a2cd30cd-a9d8-41d6-bf6d-e4326a21aa7c",
   "metadata": {},
   "outputs": [],
   "source": [
    "df_added_stats_sa199m2e = pd.read_csv('df_added_stats_sa199m2e.csv')\n",
    "df_added_stats_sa196m2e = pd.read_csv('df_added_stats_sa196m2e.csv')\n",
    "df_added_stats_sa196m1e = pd.read_csv('df_added_stats_sa196m1e.csv')\n",
    "df_added_stats_sa198m2e = pd.read_csv('df_added_stats_sa198m2e.csv')\n",
    "df_added_stats_sa196m3e = pd.read_csv('df_added_stats_sa196m3e.csv')\n",
    "df_added_stats_sa199m3e = pd.read_csv('df_added_stats_sa199m3e.csv')\n",
    "df_added_stats_sa199m1e = pd.read_csv('df_added_stats_sa199m1e.csv')\n",
    "df_added_stats_sa78m1 = pd.read_csv('df_added_stats_sa78m1.csv')\n",
    "df_added_stats_sa78m3 = pd.read_csv('df_added_stats_sa78m3.csv')\n",
    "df_added_stats_sa78m5 = pd.read_csv('df_added_stats_sa78m5.csv')"
   ]
  },
  {
   "cell_type": "code",
   "execution_count": 151,
   "id": "1003807c-81b8-40ff-93ef-145e22c2e331",
   "metadata": {},
   "outputs": [],
   "source": [
    "group_unscaled = pd.concat([df_added_stats_sa199m2e, df_added_stats_sa196m2e, df_added_stats_sa196m1e, df_added_stats_sa198m2e,\n",
    "                           df_added_stats_sa196m3e, df_added_stats_sa196m3e, df_added_stats_sa199m3e, df_added_stats_sa199m1e,\n",
    "                            df_added_stats_sa78m1, df_added_stats_sa78m3, df_added_stats_sa78m5])"
   ]
  },
  {
   "cell_type": "code",
   "execution_count": 152,
   "id": "04d744ba-0ccf-49aa-a73d-c60b0de412b6",
   "metadata": {},
   "outputs": [
    {
     "data": {
      "text/html": [
       "<div>\n",
       "<style scoped>\n",
       "    .dataframe tbody tr th:only-of-type {\n",
       "        vertical-align: middle;\n",
       "    }\n",
       "\n",
       "    .dataframe tbody tr th {\n",
       "        vertical-align: top;\n",
       "    }\n",
       "\n",
       "    .dataframe thead th {\n",
       "        text-align: right;\n",
       "    }\n",
       "</style>\n",
       "<table border=\"1\" class=\"dataframe\">\n",
       "  <thead>\n",
       "    <tr style=\"text-align: right;\">\n",
       "      <th></th>\n",
       "      <th>Unnamed: 0</th>\n",
       "      <th>Duration</th>\n",
       "      <th>lagged_1_duration</th>\n",
       "      <th>lagged_2_duration</th>\n",
       "      <th>lagged_3_duration</th>\n",
       "      <th>lagged_4_duration</th>\n",
       "      <th>Entry Latency</th>\n",
       "      <th>lagged_1_entry_lat</th>\n",
       "      <th>lagged_2_entry_lat</th>\n",
       "      <th>lagged_3_entry_lat</th>\n",
       "      <th>...</th>\n",
       "      <th>5_past_exitmidentry_duration</th>\n",
       "      <th>mean_2_past_exitmidentry_duration</th>\n",
       "      <th>mean_3_past_exitmidentry_duration</th>\n",
       "      <th>mean_4_past_exitmidentry_duration</th>\n",
       "      <th>mean_5_past_exitmidentry_duration</th>\n",
       "      <th>Choice Output</th>\n",
       "      <th>lagged_1_choice_ago</th>\n",
       "      <th>lagged_2_choice_ago</th>\n",
       "      <th>lagged_3_choice_ago</th>\n",
       "      <th>lagged_4_choice_ago</th>\n",
       "    </tr>\n",
       "  </thead>\n",
       "  <tbody>\n",
       "    <tr>\n",
       "      <th>0</th>\n",
       "      <td>0</td>\n",
       "      <td>3.666667</td>\n",
       "      <td>3.633333</td>\n",
       "      <td>3.600000</td>\n",
       "      <td>5.200000</td>\n",
       "      <td>5.566667</td>\n",
       "      <td>0.333333</td>\n",
       "      <td>0.466667</td>\n",
       "      <td>0.466667</td>\n",
       "      <td>0.566667</td>\n",
       "      <td>...</td>\n",
       "      <td>6.833333</td>\n",
       "      <td>1.600000</td>\n",
       "      <td>1.733333</td>\n",
       "      <td>1.708333</td>\n",
       "      <td>1.366667</td>\n",
       "      <td>3</td>\n",
       "      <td>4</td>\n",
       "      <td>3</td>\n",
       "      <td>2</td>\n",
       "      <td>1</td>\n",
       "    </tr>\n",
       "    <tr>\n",
       "      <th>1</th>\n",
       "      <td>1</td>\n",
       "      <td>2.833333</td>\n",
       "      <td>3.666667</td>\n",
       "      <td>3.633333</td>\n",
       "      <td>3.600000</td>\n",
       "      <td>5.200000</td>\n",
       "      <td>0.366667</td>\n",
       "      <td>0.333333</td>\n",
       "      <td>0.466667</td>\n",
       "      <td>0.466667</td>\n",
       "      <td>...</td>\n",
       "      <td>8.333333</td>\n",
       "      <td>1.516667</td>\n",
       "      <td>1.566667</td>\n",
       "      <td>1.675000</td>\n",
       "      <td>1.666667</td>\n",
       "      <td>3</td>\n",
       "      <td>3</td>\n",
       "      <td>4</td>\n",
       "      <td>3</td>\n",
       "      <td>2</td>\n",
       "    </tr>\n",
       "    <tr>\n",
       "      <th>2</th>\n",
       "      <td>2</td>\n",
       "      <td>3.500000</td>\n",
       "      <td>2.833333</td>\n",
       "      <td>3.666667</td>\n",
       "      <td>3.633333</td>\n",
       "      <td>3.600000</td>\n",
       "      <td>0.566667</td>\n",
       "      <td>0.366667</td>\n",
       "      <td>0.333333</td>\n",
       "      <td>0.466667</td>\n",
       "      <td>...</td>\n",
       "      <td>8.533333</td>\n",
       "      <td>1.666667</td>\n",
       "      <td>1.622222</td>\n",
       "      <td>1.633333</td>\n",
       "      <td>1.706667</td>\n",
       "      <td>4</td>\n",
       "      <td>3</td>\n",
       "      <td>3</td>\n",
       "      <td>4</td>\n",
       "      <td>3</td>\n",
       "    </tr>\n",
       "    <tr>\n",
       "      <th>3</th>\n",
       "      <td>3</td>\n",
       "      <td>3.266667</td>\n",
       "      <td>3.500000</td>\n",
       "      <td>2.833333</td>\n",
       "      <td>3.666667</td>\n",
       "      <td>3.633333</td>\n",
       "      <td>0.533333</td>\n",
       "      <td>0.566667</td>\n",
       "      <td>0.366667</td>\n",
       "      <td>0.333333</td>\n",
       "      <td>...</td>\n",
       "      <td>8.166667</td>\n",
       "      <td>1.733333</td>\n",
       "      <td>1.655556</td>\n",
       "      <td>1.625000</td>\n",
       "      <td>1.633333</td>\n",
       "      <td>3</td>\n",
       "      <td>4</td>\n",
       "      <td>3</td>\n",
       "      <td>3</td>\n",
       "      <td>4</td>\n",
       "    </tr>\n",
       "    <tr>\n",
       "      <th>4</th>\n",
       "      <td>4</td>\n",
       "      <td>2.866667</td>\n",
       "      <td>3.266667</td>\n",
       "      <td>3.500000</td>\n",
       "      <td>2.833333</td>\n",
       "      <td>3.666667</td>\n",
       "      <td>1.066667</td>\n",
       "      <td>0.533333</td>\n",
       "      <td>0.566667</td>\n",
       "      <td>0.366667</td>\n",
       "      <td>...</td>\n",
       "      <td>9.200000</td>\n",
       "      <td>2.166667</td>\n",
       "      <td>2.055556</td>\n",
       "      <td>1.916667</td>\n",
       "      <td>1.840000</td>\n",
       "      <td>3</td>\n",
       "      <td>3</td>\n",
       "      <td>4</td>\n",
       "      <td>3</td>\n",
       "      <td>3</td>\n",
       "    </tr>\n",
       "  </tbody>\n",
       "</table>\n",
       "<p>5 rows × 177 columns</p>\n",
       "</div>"
      ],
      "text/plain": [
       "   Unnamed: 0  Duration  lagged_1_duration  lagged_2_duration  \\\n",
       "0           0  3.666667           3.633333           3.600000   \n",
       "1           1  2.833333           3.666667           3.633333   \n",
       "2           2  3.500000           2.833333           3.666667   \n",
       "3           3  3.266667           3.500000           2.833333   \n",
       "4           4  2.866667           3.266667           3.500000   \n",
       "\n",
       "   lagged_3_duration  lagged_4_duration  Entry Latency  lagged_1_entry_lat  \\\n",
       "0           5.200000           5.566667       0.333333            0.466667   \n",
       "1           3.600000           5.200000       0.366667            0.333333   \n",
       "2           3.633333           3.600000       0.566667            0.366667   \n",
       "3           3.666667           3.633333       0.533333            0.566667   \n",
       "4           2.833333           3.666667       1.066667            0.533333   \n",
       "\n",
       "   lagged_2_entry_lat  lagged_3_entry_lat  ...  5_past_exitmidentry_duration  \\\n",
       "0            0.466667            0.566667  ...                      6.833333   \n",
       "1            0.466667            0.466667  ...                      8.333333   \n",
       "2            0.333333            0.466667  ...                      8.533333   \n",
       "3            0.366667            0.333333  ...                      8.166667   \n",
       "4            0.566667            0.366667  ...                      9.200000   \n",
       "\n",
       "   mean_2_past_exitmidentry_duration  mean_3_past_exitmidentry_duration  \\\n",
       "0                           1.600000                           1.733333   \n",
       "1                           1.516667                           1.566667   \n",
       "2                           1.666667                           1.622222   \n",
       "3                           1.733333                           1.655556   \n",
       "4                           2.166667                           2.055556   \n",
       "\n",
       "   mean_4_past_exitmidentry_duration  mean_5_past_exitmidentry_duration  \\\n",
       "0                           1.708333                           1.366667   \n",
       "1                           1.675000                           1.666667   \n",
       "2                           1.633333                           1.706667   \n",
       "3                           1.625000                           1.633333   \n",
       "4                           1.916667                           1.840000   \n",
       "\n",
       "   Choice Output  lagged_1_choice_ago  lagged_2_choice_ago  \\\n",
       "0              3                    4                    3   \n",
       "1              3                    3                    4   \n",
       "2              4                    3                    3   \n",
       "3              3                    4                    3   \n",
       "4              3                    3                    4   \n",
       "\n",
       "   lagged_3_choice_ago  lagged_4_choice_ago  \n",
       "0                    2                    1  \n",
       "1                    3                    2  \n",
       "2                    4                    3  \n",
       "3                    3                    4  \n",
       "4                    3                    3  \n",
       "\n",
       "[5 rows x 177 columns]"
      ]
     },
     "execution_count": 152,
     "metadata": {},
     "output_type": "execute_result"
    }
   ],
   "source": [
    "group_unscaled.head()"
   ]
  },
  {
   "cell_type": "code",
   "execution_count": 153,
   "id": "ffc8b65f-22bc-40d5-9172-bec69c8dd332",
   "metadata": {},
   "outputs": [],
   "source": [
    "group_unscaled = group_unscaled.reset_index(drop=True)"
   ]
  },
  {
   "cell_type": "code",
   "execution_count": 154,
   "id": "d93bda26-4776-4fd8-aa3a-20df7affab11",
   "metadata": {},
   "outputs": [],
   "source": [
    "x_unscaled = group_unscaled.iloc[:,1:][group_unscaled['Choice Output'] > 1].drop(columns = ['Choice Output']).values"
   ]
  },
  {
   "cell_type": "code",
   "execution_count": 155,
   "id": "9bf82278-9e37-4979-89fc-7e2aa29b8a71",
   "metadata": {},
   "outputs": [],
   "source": [
    "y_unscaled = group_unscaled[group_unscaled['Choice Output'] > 1]['Choice Output'].values"
   ]
  },
  {
   "cell_type": "code",
   "execution_count": 156,
   "id": "21791704-7889-49e8-95ee-2395a64ec5ea",
   "metadata": {},
   "outputs": [],
   "source": [
    "X_train_u, X_test_u, y_train_u, y_test_u = train_test_split(x_unscaled, y_unscaled, test_size=0.2, random_state=42)"
   ]
  },
  {
   "cell_type": "code",
   "execution_count": 157,
   "id": "e97dbabb-6549-457c-a2fb-ff7e590ff548",
   "metadata": {},
   "outputs": [],
   "source": [
    "modu = GradientBoostingClassifier(n_estimators = 100, max_depth=4, learning_rate=0.05)\n",
    "modu.fit(X_train_u, y_train_u)\n",
    "# make a single prediction\n",
    "y_pred_u = modu.predict(X_test_u)"
   ]
  },
  {
   "cell_type": "code",
   "execution_count": 158,
   "id": "c156c8bc-9040-4573-ab9b-e1b87c8c614d",
   "metadata": {},
   "outputs": [
    {
     "name": "stdout",
     "output_type": "stream",
     "text": [
      "0.6141608391608391\n"
     ]
    }
   ],
   "source": [
    "print(f1_score(y_test_u, y_pred_u, average = 'weighted'))"
   ]
  },
  {
   "cell_type": "code",
   "execution_count": 159,
   "id": "880bf732-c1f1-411c-80b6-50c462f57062",
   "metadata": {},
   "outputs": [
    {
     "name": "stdout",
     "output_type": "stream",
     "text": [
      "0.6541666666666667\n"
     ]
    }
   ],
   "source": [
    "print(precision_score(y_test_u, y_pred_u,average='weighted'))"
   ]
  },
  {
   "cell_type": "code",
   "execution_count": 160,
   "id": "3f7df60f-bb12-47b6-b784-261c8be8d730",
   "metadata": {},
   "outputs": [],
   "source": [
    "cf_matrixu = confusion_matrix(y_test_u, y_pred_u)"
   ]
  },
  {
   "cell_type": "code",
   "execution_count": 161,
   "id": "fdb1f4a6-e8a2-47a1-acbd-089e94236438",
   "metadata": {},
   "outputs": [
    {
     "data": {
      "text/plain": [
       "array([[ 5,  4,  4,  0],\n",
       "       [ 1, 21,  0,  0],\n",
       "       [ 7,  6, 16,  3],\n",
       "       [ 0,  2,  0,  3]], dtype=int64)"
      ]
     },
     "execution_count": 161,
     "metadata": {},
     "output_type": "execute_result"
    }
   ],
   "source": [
    "cf_matrixu"
   ]
  },
  {
   "cell_type": "code",
   "execution_count": 162,
   "id": "a5f2eabd-7d76-4664-90ca-c3f49fb60b7e",
   "metadata": {},
   "outputs": [
    {
     "data": {
      "text/plain": [
       "<Axes: >"
      ]
     },
     "execution_count": 162,
     "metadata": {},
     "output_type": "execute_result"
    },
    {
     "data": {
      "image/png": "[encoded data removed]",
      "text/plain": [
       "<Figure size 640x480 with 2 Axes>"
      ]
     },
     "metadata": {},
     "output_type": "display_data"
    }
   ],
   "source": [
    "sns.heatmap(data = cf_matrixu, cmap=sns.cubehelix_palette(as_cmap=True))"
   ]
  },
  {
   "cell_type": "markdown",
   "id": "528c9f6f-f5a9-4698-a9a7-f6db66a4f3cd",
   "metadata": {},
   "source": [
    "# scaled (before lagging) full"
   ]
  },
  {
   "cell_type": "code",
   "execution_count": 188,
   "id": "569f5073-0599-493f-9607-690eb9832600",
   "metadata": {},
   "outputs": [],
   "source": [
    "minmaxsc = MinMaxScaler(feature_range=(0.01, 1), copy=True, clip=False)"
   ]
  },
  {
   "cell_type": "code",
   "execution_count": 189,
   "id": "113083d0-49be-44ea-98dd-61ef2cbd5b1e",
   "metadata": {},
   "outputs": [],
   "source": [
    "df_everything_stats_sa199m2e = pd.read_csv('sa199m2e_everything_stats.csv')\n",
    "df_everything_stats_sa196m2e = pd.read_csv('sa196m2e_everything_stats.csv')\n",
    "df_everything_stats_sa196m1e = pd.read_csv('sa196m1e_everything_stats.csv')\n",
    "df_everything_stats_sa198m2e = pd.read_csv('sa198m2e_everything_stats.csv')\n",
    "df_everything_stats_sa196m3e = pd.read_csv('sa196m3e_everything_stats.csv')\n",
    "df_everything_stats_sa199m3e = pd.read_csv('sa199m3e_everything_stats.csv')\n",
    "df_everything_stats_sa199m1e = pd.read_csv('sa199m1e_everything_stats.csv')\n",
    "df_everything_stats_sa78m1 = pd.read_csv('sa78m1_everything_stats.csv')\n",
    "df_everything_stats_sa78m3 = pd.read_csv('sa78m3_everything_stats.csv')\n",
    "df_everything_stats_sa78m5 = pd.read_csv('sa78m5_everything_stats.csv')"
   ]
  },
  {
   "cell_type": "code",
   "execution_count": 190,
   "id": "39154b15-851b-48b2-8fa6-1908a70da0e9",
   "metadata": {
    "scrolled": true
   },
   "outputs": [],
   "source": [
    "mm_everything_stats_sa199m2e = df_everything_stats_sa199m2e.copy()\n",
    "mm_everything_stats_sa196m2e = df_everything_stats_sa196m2e.copy()\n",
    "mm_everything_stats_sa196m1e = df_everything_stats_sa196m1e.copy()\n",
    "mm_everything_stats_sa198m2e = df_everything_stats_sa198m2e.copy()\n",
    "mm_everything_stats_sa196m3e = df_everything_stats_sa196m3e.copy()\n",
    "mm_everything_stats_sa199m3e = df_everything_stats_sa199m3e.copy()\n",
    "mm_everything_stats_sa199m1e = df_everything_stats_sa199m1e.copy()\n",
    "mm_everything_stats_sa78m1 = df_everything_stats_sa78m1.copy()\n",
    "mm_everything_stats_sa78m3 = df_everything_stats_sa78m3.copy()\n",
    "mm_everything_stats_sa78m5 = df_everything_stats_sa78m5.copy()"
   ]
  },
  {
   "cell_type": "code",
   "execution_count": 191,
   "id": "8687e935-d00a-4fe2-83f8-f1630a63cb0d",
   "metadata": {
    "scrolled": true
   },
   "outputs": [],
   "source": [
    "mm_everything_stats_sa199m2e[mm_everything_stats_sa199m2e.columns[2:-1]] = minmaxsc.fit_transform(df_everything_stats_sa199m2e[df_everything_stats_sa199m2e.columns[2:-1]])\n",
    "mm_everything_stats_sa196m2e[mm_everything_stats_sa196m2e.columns[2:-1]] = minmaxsc.fit_transform(df_everything_stats_sa196m2e[df_everything_stats_sa196m2e.columns[2:-1]])\n",
    "mm_everything_stats_sa196m1e[mm_everything_stats_sa196m1e.columns[2:-1]] = minmaxsc.fit_transform(df_everything_stats_sa196m1e[df_everything_stats_sa196m1e.columns[2:-1]])\n",
    "mm_everything_stats_sa198m2e[mm_everything_stats_sa198m2e.columns[2:-1]] = minmaxsc.fit_transform(df_everything_stats_sa198m2e[df_everything_stats_sa198m2e.columns[2:-1]])\n",
    "mm_everything_stats_sa196m3e[mm_everything_stats_sa196m3e.columns[2:-1]] = minmaxsc.fit_transform(df_everything_stats_sa196m3e[df_everything_stats_sa196m3e.columns[2:-1]])\n",
    "mm_everything_stats_sa199m3e[mm_everything_stats_sa199m3e.columns[2:-1]] = minmaxsc.fit_transform(df_everything_stats_sa199m3e[df_everything_stats_sa199m3e.columns[2:-1]])\n",
    "mm_everything_stats_sa199m1e[mm_everything_stats_sa199m1e.columns[2:-1]] = minmaxsc.fit_transform(df_everything_stats_sa199m1e[df_everything_stats_sa199m1e.columns[2:-1]])\n",
    "mm_everything_stats_sa78m1[mm_everything_stats_sa78m1.columns[2:-1]] = minmaxsc.fit_transform(df_everything_stats_sa78m1[df_everything_stats_sa78m1.columns[2:-1]])\n",
    "mm_everything_stats_sa78m3[mm_everything_stats_sa78m3.columns[2:-1]] = minmaxsc.fit_transform(df_everything_stats_sa78m3[df_everything_stats_sa78m3.columns[2:-1]])\n",
    "mm_everything_stats_sa78m5[mm_everything_stats_sa78m5.columns[2:-1]] = minmaxsc.fit_transform(df_everything_stats_sa78m5[df_everything_stats_sa78m5.columns[2:-1]])"
   ]
  },
  {
   "cell_type": "code",
   "execution_count": 192,
   "id": "a6a0bb87-8145-4834-a6e7-840686ea6f36",
   "metadata": {},
   "outputs": [],
   "source": [
    "mm_everything_stats_sa199m2e.to_csv('mm_everything_stats_sa199m2e.csv')\n",
    "mm_everything_stats_sa196m2e.to_csv('mm_everything_stats_sa196m2e.csv')\n",
    "mm_everything_stats_sa196m1e.to_csv('mm_everything_stats_sa196m1e.csv')\n",
    "mm_everything_stats_sa198m2e.to_csv('mm_everything_stats_sa198m2e.csv')\n",
    "mm_everything_stats_sa196m3e.to_csv('mm_everything_stats_sa196m3e.csv')\n",
    "mm_everything_stats_sa199m3e.to_csv('mm_everything_stats_sa199m3e.csv')\n",
    "mm_everything_stats_sa199m1e.to_csv('mm_everything_stats_sa199m1e.csv')\n",
    "mm_everything_stats_sa78m1.to_csv('mm_everything_stats_sa78m1.csv')\n",
    "mm_everything_stats_sa78m3.to_csv('mm_everything_stats_sa78m3.csv')\n",
    "mm_everything_stats_sa78m5.to_csv('mm_everything_stats_sa78m5.csv')"
   ]
  },
  {
   "cell_type": "code",
   "execution_count": 193,
   "id": "d4fc5be2-ace7-4e18-987b-86673091ea1f",
   "metadata": {},
   "outputs": [],
   "source": [
    "mm_pls_sa199m2e = pl.read_csv('mm_everything_stats_sa199m2e.csv')\n",
    "mm_pls_sa196m2e = pl.read_csv('mm_everything_stats_sa196m2e.csv')\n",
    "mm_pls_sa196m1e = pl.read_csv('mm_everything_stats_sa196m1e.csv')\n",
    "mm_pls_sa198m2e = pl.read_csv('mm_everything_stats_sa198m2e.csv')\n",
    "mm_pls_sa196m3e = pl.read_csv('mm_everything_stats_sa196m3e.csv')\n",
    "mm_pls_sa199m3e = pl.read_csv('mm_everything_stats_sa199m3e.csv')\n",
    "mm_pls_sa199m1e = pl.read_csv('mm_everything_stats_sa199m1e.csv')\n",
    "mm_pls_sa78m1 = pl.read_csv('mm_everything_stats_sa78m1.csv')\n",
    "mm_pls_sa78m3 = pl.read_csv('mm_everything_stats_sa78m3.csv')\n",
    "mm_pls_sa78m5 = pl.read_csv('mm_everything_stats_sa78m5.csv')"
   ]
  },
  {
   "cell_type": "code",
   "execution_count": 194,
   "id": "f3b69c08-394b-4b2b-840b-f516da2901ea",
   "metadata": {},
   "outputs": [],
   "source": [
    "lagged_mm_everything_stats_sa199m2e = lagging_four_prev_choices(mm_pls_sa199m2e)\n",
    "lagged_mm_everything_stats_sa196m2e = lagging_four_prev_choices(mm_pls_sa196m2e)\n",
    "lagged_mm_everything_stats_sa196m1e = lagging_four_prev_choices(mm_pls_sa196m1e)\n",
    "lagged_mm_everything_stats_sa198m2e = lagging_four_prev_choices(mm_pls_sa198m2e)\n",
    "lagged_mm_everything_stats_sa196m3e = lagging_four_prev_choices(mm_pls_sa196m3e)\n",
    "lagged_mm_everything_stats_sa199m3e = lagging_four_prev_choices(mm_pls_sa199m3e)\n",
    "lagged_mm_everything_stats_sa199m1e = lagging_four_prev_choices(mm_pls_sa199m1e)\n",
    "lagged_mm_everything_stats_sa78m1 = lagging_four_prev_choices(mm_pls_sa78m1)\n",
    "lagged_mm_everything_stats_sa78m3  = lagging_four_prev_choices(mm_pls_sa78m3)\n",
    "lagged_mm_everything_stats_sa78m5 = lagging_four_prev_choices(mm_pls_sa78m5)"
   ]
  },
  {
   "cell_type": "code",
   "execution_count": 195,
   "id": "58d121d0-d20d-41a5-abd2-f757a6a3b8a1",
   "metadata": {},
   "outputs": [],
   "source": [
    "lagged_mm_everything_stats_sa199m2e.write_csv('lagged_mm_everything_stats_sa199m2e.csv')\n",
    "lagged_mm_everything_stats_sa196m2e.write_csv('lagged_mm_everything_stats_sa196m2e.csv')\n",
    "lagged_mm_everything_stats_sa196m1e.write_csv('lagged_mm_everything_stats_sa196m1e.csv')\n",
    "lagged_mm_everything_stats_sa198m2e.write_csv('lagged_mm_everything_stats_sa198m2e.csv')\n",
    "lagged_mm_everything_stats_sa196m3e.write_csv('lagged_mm_everything_stats_sa196m3e.csv')\n",
    "lagged_mm_everything_stats_sa199m3e.write_csv('lagged_mm_everything_stats_sa199m3e.csv')\n",
    "lagged_mm_everything_stats_sa199m1e.write_csv('lagged_mm_everything_stats_sa199m1e.csv')\n",
    "lagged_mm_everything_stats_sa78m1.write_csv('lagged_mm_everything_stats_sa78m1.csv')\n",
    "lagged_mm_everything_stats_sa78m3.write_csv('lagged_mm_everything_stats_sa78m3.csv')\n",
    "lagged_mm_everything_stats_sa78m5.write_csv('lagged_mm_everything_stats_sa78m5.csv')"
   ]
  },
  {
   "cell_type": "code",
   "execution_count": 196,
   "id": "eb944961-6607-46e1-be8b-56a1c25584ec",
   "metadata": {},
   "outputs": [],
   "source": [
    "df_lagged_mm_everything_stats_sa199m2e = pd.read_csv('lagged_mm_everything_stats_sa199m2e.csv')\n",
    "df_lagged_mm_everything_stats_sa196m2e = pd.read_csv('lagged_mm_everything_stats_sa196m2e.csv')\n",
    "df_lagged_mm_everything_stats_sa196m1e = pd.read_csv('lagged_mm_everything_stats_sa196m1e.csv')\n",
    "df_lagged_mm_everything_stats_sa198m2e = pd.read_csv('lagged_mm_everything_stats_sa198m2e.csv')\n",
    "df_lagged_mm_everything_stats_sa196m3e = pd.read_csv('lagged_mm_everything_stats_sa196m3e.csv')\n",
    "df_lagged_mm_everything_stats_sa199m3e = pd.read_csv('lagged_mm_everything_stats_sa199m3e.csv')\n",
    "df_lagged_mm_everything_stats_sa199m1e = pd.read_csv('lagged_mm_everything_stats_sa199m1e.csv')\n",
    "df_lagged_mm_everything_stats_sa78m1 = pd.read_csv('lagged_mm_everything_stats_sa78m1.csv')\n",
    "df_lagged_mm_everything_stats_sa78m3 = pd.read_csv('lagged_mm_everything_stats_sa78m3.csv')\n",
    "df_lagged_mm_everything_stats_sa78m5 = pd.read_csv('lagged_mm_everything_stats_sa78m5.csv')"
   ]
  },
  {
   "cell_type": "code",
   "execution_count": 197,
   "id": "388e9368-b094-4232-b8c0-4f6146190173",
   "metadata": {},
   "outputs": [],
   "source": [
    "df_lagged_added_stats_sa199m2e = added_time_means(df_lagged_mm_everything_stats_sa199m2e, 'sa199m2e')\n",
    "df_lagged_added_stats_sa196m2e = added_time_means(df_lagged_mm_everything_stats_sa196m2e, 'sa196m2e')\n",
    "df_lagged_added_stats_sa196m1e = added_time_means(df_lagged_mm_everything_stats_sa196m1e, 'sa196m1e')\n",
    "df_lagged_added_stats_sa198m2e = added_time_means(df_lagged_mm_everything_stats_sa198m2e, 'sa198m2e')\n",
    "df_lagged_added_stats_sa196m3e = added_time_means(df_lagged_mm_everything_stats_sa196m3e, 'sa196m3e')\n",
    "df_lagged_added_stats_sa199m3e = added_time_means(df_lagged_mm_everything_stats_sa199m3e, 'sa199m3e')\n",
    "df_lagged_added_stats_sa199m1e = added_time_means(df_lagged_mm_everything_stats_sa199m1e, 'sa199m1e')\n",
    "df_lagged_added_stats_sa78m1 = added_time_means(df_lagged_mm_everything_stats_sa78m1, 'sa78m1')\n",
    "df_lagged_added_stats_sa78m3 = added_time_means(df_lagged_mm_everything_stats_sa78m3, 'sa78m3')\n",
    "df_lagged_added_stats_sa78m5 = added_time_means(df_lagged_mm_everything_stats_sa78m5, 'sa78m5')"
   ]
  },
  {
   "cell_type": "code",
   "execution_count": 198,
   "id": "1a522913-3ca3-42e8-91cb-a8b42082c857",
   "metadata": {},
   "outputs": [],
   "source": [
    "df_lagged_added_stats_sa199m2e.to_csv('df_lagged_added_stats_sa199m2e.csv')\n",
    "df_lagged_added_stats_sa196m2e.to_csv('df_lagged_added_stats_sa196m2e.csv')\n",
    "df_lagged_added_stats_sa196m1e.to_csv('df_lagged_added_stats_sa196m1e.csv')\n",
    "df_lagged_added_stats_sa198m2e.to_csv('df_lagged_added_stats_sa198m2e.csv')\n",
    "df_lagged_added_stats_sa196m3e.to_csv('df_lagged_added_stats_sa196m3e.csv')\n",
    "df_lagged_added_stats_sa199m3e.to_csv('df_lagged_added_stats_sa199m3e.csv')\n",
    "df_lagged_added_stats_sa199m1e.to_csv('df_lagged_added_stats_sa199m1e.csv')\n",
    "df_lagged_added_stats_sa78m1.to_csv('df_lagged_added_stats_sa78m1.csv')\n",
    "df_lagged_added_stats_sa78m3.to_csv('df_lagged_added_stats_sa78m3.csv')\n",
    "df_lagged_added_stats_sa78m5.to_csv('df_lagged_added_stats_sa78m5.csv')"
   ]
  },
  {
   "cell_type": "code",
   "execution_count": 199,
   "id": "1eac515e-db05-4ce6-b20c-85b21a66387a",
   "metadata": {},
   "outputs": [],
   "source": [
    "group_scaled = pd.concat([df_lagged_added_stats_sa199m2e, df_lagged_added_stats_sa196m2e, df_lagged_added_stats_sa196m1e, df_lagged_added_stats_sa198m2e,\n",
    "                           df_lagged_added_stats_sa196m3e, df_lagged_added_stats_sa196m3e, df_lagged_added_stats_sa199m3e, df_lagged_added_stats_sa199m1e,\n",
    "                            df_lagged_added_stats_sa78m1, df_lagged_added_stats_sa78m3, df_lagged_added_stats_sa78m5])"
   ]
  },
  {
   "cell_type": "code",
   "execution_count": 200,
   "id": "6744c877-7eba-4fae-979c-60770aaf669e",
   "metadata": {},
   "outputs": [
    {
     "data": {
      "text/html": [
       "<div>\n",
       "<style scoped>\n",
       "    .dataframe tbody tr th:only-of-type {\n",
       "        vertical-align: middle;\n",
       "    }\n",
       "\n",
       "    .dataframe tbody tr th {\n",
       "        vertical-align: top;\n",
       "    }\n",
       "\n",
       "    .dataframe thead th {\n",
       "        text-align: right;\n",
       "    }\n",
       "</style>\n",
       "<table border=\"1\" class=\"dataframe\">\n",
       "  <thead>\n",
       "    <tr style=\"text-align: right;\">\n",
       "      <th></th>\n",
       "      <th>Duration</th>\n",
       "      <th>lagged_1_duration</th>\n",
       "      <th>lagged_2_duration</th>\n",
       "      <th>lagged_3_duration</th>\n",
       "      <th>lagged_4_duration</th>\n",
       "      <th>Entry Latency</th>\n",
       "      <th>lagged_1_entry_lat</th>\n",
       "      <th>lagged_2_entry_lat</th>\n",
       "      <th>lagged_3_entry_lat</th>\n",
       "      <th>lagged_4_entry_lat</th>\n",
       "      <th>...</th>\n",
       "      <th>5_past_exitmidentry_duration</th>\n",
       "      <th>mean_2_past_exitmidentry_duration</th>\n",
       "      <th>mean_3_past_exitmidentry_duration</th>\n",
       "      <th>mean_4_past_exitmidentry_duration</th>\n",
       "      <th>mean_5_past_exitmidentry_duration</th>\n",
       "      <th>Choice Output</th>\n",
       "      <th>lagged_1_choice_ago</th>\n",
       "      <th>lagged_2_choice_ago</th>\n",
       "      <th>lagged_3_choice_ago</th>\n",
       "      <th>lagged_4_choice_ago</th>\n",
       "    </tr>\n",
       "  </thead>\n",
       "  <tbody>\n",
       "    <tr>\n",
       "      <th>0</th>\n",
       "      <td>0.218849</td>\n",
       "      <td>0.216137</td>\n",
       "      <td>0.213425</td>\n",
       "      <td>0.343616</td>\n",
       "      <td>0.373452</td>\n",
       "      <td>0.288438</td>\n",
       "      <td>0.412187</td>\n",
       "      <td>0.412187</td>\n",
       "      <td>0.505000</td>\n",
       "      <td>0.010000</td>\n",
       "      <td>...</td>\n",
       "      <td>2.120918</td>\n",
       "      <td>0.494898</td>\n",
       "      <td>0.535306</td>\n",
       "      <td>0.527730</td>\n",
       "      <td>0.424184</td>\n",
       "      <td>3</td>\n",
       "      <td>4</td>\n",
       "      <td>3</td>\n",
       "      <td>2</td>\n",
       "      <td>1</td>\n",
       "    </tr>\n",
       "    <tr>\n",
       "      <th>1</th>\n",
       "      <td>0.151041</td>\n",
       "      <td>0.218849</td>\n",
       "      <td>0.216137</td>\n",
       "      <td>0.213425</td>\n",
       "      <td>0.343616</td>\n",
       "      <td>0.319375</td>\n",
       "      <td>0.288438</td>\n",
       "      <td>0.412187</td>\n",
       "      <td>0.412187</td>\n",
       "      <td>0.505000</td>\n",
       "      <td>...</td>\n",
       "      <td>2.575510</td>\n",
       "      <td>0.469643</td>\n",
       "      <td>0.484796</td>\n",
       "      <td>0.517628</td>\n",
       "      <td>0.515102</td>\n",
       "      <td>3</td>\n",
       "      <td>3</td>\n",
       "      <td>4</td>\n",
       "      <td>3</td>\n",
       "      <td>2</td>\n",
       "    </tr>\n",
       "    <tr>\n",
       "      <th>2</th>\n",
       "      <td>0.205288</td>\n",
       "      <td>0.151041</td>\n",
       "      <td>0.218849</td>\n",
       "      <td>0.216137</td>\n",
       "      <td>0.213425</td>\n",
       "      <td>0.505000</td>\n",
       "      <td>0.319375</td>\n",
       "      <td>0.288438</td>\n",
       "      <td>0.412187</td>\n",
       "      <td>0.412187</td>\n",
       "      <td>...</td>\n",
       "      <td>2.636122</td>\n",
       "      <td>0.515102</td>\n",
       "      <td>0.501633</td>\n",
       "      <td>0.505000</td>\n",
       "      <td>0.527224</td>\n",
       "      <td>4</td>\n",
       "      <td>3</td>\n",
       "      <td>3</td>\n",
       "      <td>4</td>\n",
       "      <td>3</td>\n",
       "    </tr>\n",
       "    <tr>\n",
       "      <th>3</th>\n",
       "      <td>0.186301</td>\n",
       "      <td>0.205288</td>\n",
       "      <td>0.151041</td>\n",
       "      <td>0.218849</td>\n",
       "      <td>0.216137</td>\n",
       "      <td>0.474062</td>\n",
       "      <td>0.505000</td>\n",
       "      <td>0.319375</td>\n",
       "      <td>0.288438</td>\n",
       "      <td>0.412187</td>\n",
       "      <td>...</td>\n",
       "      <td>2.525000</td>\n",
       "      <td>0.535306</td>\n",
       "      <td>0.511735</td>\n",
       "      <td>0.502474</td>\n",
       "      <td>0.505000</td>\n",
       "      <td>3</td>\n",
       "      <td>4</td>\n",
       "      <td>3</td>\n",
       "      <td>3</td>\n",
       "      <td>4</td>\n",
       "    </tr>\n",
       "    <tr>\n",
       "      <th>4</th>\n",
       "      <td>0.153753</td>\n",
       "      <td>0.186301</td>\n",
       "      <td>0.205288</td>\n",
       "      <td>0.151041</td>\n",
       "      <td>0.218849</td>\n",
       "      <td>0.969063</td>\n",
       "      <td>0.474062</td>\n",
       "      <td>0.505000</td>\n",
       "      <td>0.319375</td>\n",
       "      <td>0.288438</td>\n",
       "      <td>...</td>\n",
       "      <td>2.838163</td>\n",
       "      <td>0.666633</td>\n",
       "      <td>0.632959</td>\n",
       "      <td>0.590867</td>\n",
       "      <td>0.567633</td>\n",
       "      <td>3</td>\n",
       "      <td>3</td>\n",
       "      <td>4</td>\n",
       "      <td>3</td>\n",
       "      <td>3</td>\n",
       "    </tr>\n",
       "  </tbody>\n",
       "</table>\n",
       "<p>5 rows × 176 columns</p>\n",
       "</div>"
      ],
      "text/plain": [
       "   Duration  lagged_1_duration  lagged_2_duration  lagged_3_duration  \\\n",
       "0  0.218849           0.216137           0.213425           0.343616   \n",
       "1  0.151041           0.218849           0.216137           0.213425   \n",
       "2  0.205288           0.151041           0.218849           0.216137   \n",
       "3  0.186301           0.205288           0.151041           0.218849   \n",
       "4  0.153753           0.186301           0.205288           0.151041   \n",
       "\n",
       "   lagged_4_duration  Entry Latency  lagged_1_entry_lat  lagged_2_entry_lat  \\\n",
       "0           0.373452       0.288438            0.412187            0.412187   \n",
       "1           0.343616       0.319375            0.288438            0.412187   \n",
       "2           0.213425       0.505000            0.319375            0.288438   \n",
       "3           0.216137       0.474062            0.505000            0.319375   \n",
       "4           0.218849       0.969063            0.474062            0.505000   \n",
       "\n",
       "   lagged_3_entry_lat  lagged_4_entry_lat  ...  5_past_exitmidentry_duration  \\\n",
       "0            0.505000            0.010000  ...                      2.120918   \n",
       "1            0.412187            0.505000  ...                      2.575510   \n",
       "2            0.412187            0.412187  ...                      2.636122   \n",
       "3            0.288438            0.412187  ...                      2.525000   \n",
       "4            0.319375            0.288438  ...                      2.838163   \n",
       "\n",
       "   mean_2_past_exitmidentry_duration  mean_3_past_exitmidentry_duration  \\\n",
       "0                           0.494898                           0.535306   \n",
       "1                           0.469643                           0.484796   \n",
       "2                           0.515102                           0.501633   \n",
       "3                           0.535306                           0.511735   \n",
       "4                           0.666633                           0.632959   \n",
       "\n",
       "   mean_4_past_exitmidentry_duration  mean_5_past_exitmidentry_duration  \\\n",
       "0                           0.527730                           0.424184   \n",
       "1                           0.517628                           0.515102   \n",
       "2                           0.505000                           0.527224   \n",
       "3                           0.502474                           0.505000   \n",
       "4                           0.590867                           0.567633   \n",
       "\n",
       "   Choice Output  lagged_1_choice_ago  lagged_2_choice_ago  \\\n",
       "0              3                    4                    3   \n",
       "1              3                    3                    4   \n",
       "2              4                    3                    3   \n",
       "3              3                    4                    3   \n",
       "4              3                    3                    4   \n",
       "\n",
       "   lagged_3_choice_ago  lagged_4_choice_ago  \n",
       "0                    2                    1  \n",
       "1                    3                    2  \n",
       "2                    4                    3  \n",
       "3                    3                    4  \n",
       "4                    3                    3  \n",
       "\n",
       "[5 rows x 176 columns]"
      ]
     },
     "execution_count": 200,
     "metadata": {},
     "output_type": "execute_result"
    }
   ],
   "source": [
    "group_scaled.head()"
   ]
  },
  {
   "cell_type": "code",
   "execution_count": 201,
   "id": "d996a93a-2569-4b43-bd30-bb5a3009a545",
   "metadata": {},
   "outputs": [],
   "source": [
    "group_scaled = group_scaled.reset_index(drop=True)"
   ]
  },
  {
   "cell_type": "code",
   "execution_count": 202,
   "id": "98b04264-2eb4-4f65-9ca7-486876190bd1",
   "metadata": {},
   "outputs": [],
   "source": [
    "x_scaled = group_scaled.iloc[:,:][group_scaled['Choice Output'] > 1].drop(columns = ['Choice Output']).values"
   ]
  },
  {
   "cell_type": "code",
   "execution_count": 203,
   "id": "de3b2401-e916-4bc1-8ba4-6b813b8df518",
   "metadata": {},
   "outputs": [],
   "source": [
    "y_scaled = group_scaled[group_scaled['Choice Output'] > 1]['Choice Output'].values"
   ]
  },
  {
   "cell_type": "code",
   "execution_count": 449,
   "id": "4c546d3f-da52-4e88-b3c6-bd1055d07df1",
   "metadata": {},
   "outputs": [],
   "source": [
    "X_train_s, X_test_s, y_train_s, y_test_s = train_test_split(x_scaled, y_scaled, test_size=0.2, random_state=50)"
   ]
  },
  {
   "cell_type": "code",
   "execution_count": 450,
   "id": "9c768645-3604-4534-aa2d-bac1fa0d5077",
   "metadata": {},
   "outputs": [],
   "source": [
    "mods = GradientBoostingClassifier(n_estimators = 100, max_depth=4, learning_rate=0.05)\n",
    "mods.fit(X_train_s, y_train_s)\n",
    "# make a single prediction\n",
    "y_pred_s = mods.predict(X_test_s)"
   ]
  },
  {
   "cell_type": "code",
   "execution_count": 451,
   "id": "d5dc6e90-1369-4199-8573-968ac8db3152",
   "metadata": {},
   "outputs": [
    {
     "name": "stdout",
     "output_type": "stream",
     "text": [
      "0.7464563801048785\n"
     ]
    }
   ],
   "source": [
    "print(f1_score(y_test_s, y_pred_s, average = 'weighted'))"
   ]
  },
  {
   "cell_type": "code",
   "execution_count": 452,
   "id": "0229e49c-9cf8-45d7-922a-18a0a317e6fb",
   "metadata": {},
   "outputs": [
    {
     "name": "stdout",
     "output_type": "stream",
     "text": [
      "0.7546262254901961\n"
     ]
    }
   ],
   "source": [
    "print(precision_score(y_test_s, y_pred_s,average='weighted'))"
   ]
  },
  {
   "cell_type": "code",
   "execution_count": 453,
   "id": "74d17d71-5117-4210-839e-20927fe5e954",
   "metadata": {},
   "outputs": [],
   "source": [
    "cf_matrixs = confusion_matrix(y_test_s, y_pred_s)"
   ]
  },
  {
   "cell_type": "code",
   "execution_count": 454,
   "id": "c900df0b-0ff2-488f-88ff-6a2d4d185a63",
   "metadata": {},
   "outputs": [
    {
     "data": {
      "text/plain": [
       "array([[12,  0,  0,  0],\n",
       "       [ 2, 27,  2,  1],\n",
       "       [ 1,  3, 11,  4],\n",
       "       [ 2,  0,  3,  4]], dtype=int64)"
      ]
     },
     "execution_count": 454,
     "metadata": {},
     "output_type": "execute_result"
    }
   ],
   "source": [
    "cf_matrixs"
   ]
  },
  {
   "cell_type": "code",
   "execution_count": 455,
   "id": "338e8186-771d-46fc-ba29-f7cc0101ddb1",
   "metadata": {},
   "outputs": [
    {
     "data": {
      "text/plain": [
       "<Axes: >"
      ]
     },
     "execution_count": 455,
     "metadata": {},
     "output_type": "execute_result"
    },
    {
     "data": {
      "image/png": "[encoded data removed]",
      "text/plain": [
       "<Figure size 640x480 with 2 Axes>"
      ]
     },
     "metadata": {},
     "output_type": "display_data"
    }
   ],
   "source": [
    "sns.heatmap(data = cf_matrixs, cmap=sns.cubehelix_palette(as_cmap=True))"
   ]
  },
  {
   "cell_type": "code",
   "execution_count": 212,
   "id": "9a079a27-298b-46ec-89b6-2ad6f9b1fcc1",
   "metadata": {},
   "outputs": [
    {
     "data": {
      "text/plain": [
       "array([6.63329391e-04, 1.57574311e-02, 1.13194012e-03, 6.46185438e-04,\n",
       "       1.38224668e-03, 3.31978851e-04, 4.62173601e-03, 5.01605478e-03,\n",
       "       1.19926840e-03, 7.76350815e-03, 3.50057626e-03, 2.53211379e-03,\n",
       "       1.23418594e-03, 8.69826473e-03, 7.12829222e-04, 2.40010772e-04,\n",
       "       8.04529984e-03, 6.20096943e-03, 7.09752778e-04, 2.55793046e-03,\n",
       "       1.97181243e-04, 2.42676492e-02, 6.42254255e-03, 4.48259550e-03,\n",
       "       4.70046653e-04, 2.22781132e-03, 3.44628349e-03, 3.07769341e-03,\n",
       "       3.68373867e-03, 1.02185424e-03, 4.89888292e-03, 6.45435654e-04,\n",
       "       1.33788284e-03, 7.91674563e-03, 2.88880167e-03, 6.97403294e-04,\n",
       "       1.44392743e-03, 4.91903681e-04, 4.87652511e-04, 1.07647730e-04,\n",
       "       2.30044406e-04, 1.10411624e-03, 1.77807808e-02, 5.34184315e-03,\n",
       "       8.14092534e-04, 4.28888344e-04, 5.55617365e-03, 7.98832843e-03,\n",
       "       2.69686186e-03, 2.07277494e-02, 5.69727131e-04, 8.07608363e-03,\n",
       "       6.38958342e-04, 6.61044390e-04, 9.09288712e-04, 4.32765146e-03,\n",
       "       3.04162008e-03, 1.56332099e-02, 4.48911600e-03, 2.92491676e-03,\n",
       "       2.77844896e-03, 1.14411009e-03, 1.37976216e-03, 1.00747642e-03,\n",
       "       3.56053932e-03, 5.85756075e-03, 3.89112673e-03, 9.35378160e-05,\n",
       "       4.32060035e-04, 1.01061007e-03, 4.28488850e-03, 5.48991462e-04,\n",
       "       5.39533969e-03, 1.25524014e-05, 1.60411186e-03, 1.09487979e-02,\n",
       "       9.99334890e-03, 2.95494118e-03, 1.67714402e-02, 5.62783186e-03,\n",
       "       5.27617428e-02, 5.60784833e-04, 5.88714537e-03, 6.33791842e-04,\n",
       "       1.58298925e-03, 1.09821409e-01, 2.14950692e-02, 1.82221032e-04,\n",
       "       5.21611847e-03, 1.92482750e-03, 4.34959204e-02, 1.22024359e-02,\n",
       "       9.53581352e-03, 2.69007787e-03, 3.94822527e-03, 2.71669741e-03,\n",
       "       1.05769469e-03, 3.52556862e-03, 1.60530597e-03, 3.11589431e-03,\n",
       "       3.50593971e-04, 1.57398447e-03, 1.39474833e-02, 3.78184148e-03,\n",
       "       2.09927001e-03, 2.56422814e-02, 1.24405657e-03, 6.67886890e-04,\n",
       "       6.62059713e-03, 1.19538259e-04, 2.89648765e-02, 6.87901058e-04,\n",
       "       2.09535486e-03, 1.43430791e-03, 5.54722587e-03, 1.32704366e-02,\n",
       "       7.81558797e-03, 6.43998208e-04, 3.17349350e-04, 5.02653319e-05,\n",
       "       2.33931165e-03, 1.37794991e-03, 4.77724720e-03, 8.68318635e-03,\n",
       "       4.52165672e-03, 5.35664134e-03, 2.64771022e-04, 2.61783946e-04,\n",
       "       9.79688963e-04, 1.01728227e-02, 3.47664551e-04, 1.95645177e-04,\n",
       "       1.30633119e-04, 1.98674891e-03, 2.85757885e-04, 5.66232149e-03,\n",
       "       3.07542833e-03, 2.55619681e-04, 3.24652075e-03, 1.21410876e-04,\n",
       "       7.25838724e-05, 7.54424312e-04, 1.04259783e-04, 5.66796252e-04,\n",
       "       1.54460952e-03, 4.02927379e-05, 1.60100659e-05, 6.14095677e-03,\n",
       "       3.28418272e-04, 2.48130244e-03, 3.90472423e-06, 7.68828364e-03,\n",
       "       2.10234922e-04, 2.50908814e-03, 3.65542874e-04, 1.64480896e-03,\n",
       "       1.68369743e-05, 4.35527661e-04, 1.22887407e-03, 1.03586853e-03,\n",
       "       1.36307208e-03, 1.85064443e-04, 2.17280099e-04, 2.13985526e-04,\n",
       "       4.66120829e-05, 7.69343873e-05, 4.02473098e-04, 3.42294353e-03,\n",
       "       1.64016560e-05, 4.65097646e-06, 2.52290697e-03, 1.82330129e-01,\n",
       "       2.46118789e-04, 2.36389667e-04, 2.51769057e-04])"
      ]
     },
     "execution_count": 212,
     "metadata": {},
     "output_type": "execute_result"
    }
   ],
   "source": [
    "mods.feature_importances_"
   ]
  },
  {
   "cell_type": "code",
   "execution_count": null,
   "id": "7bcffa25-b850-4fc5-8f29-5716bf81d5ce",
   "metadata": {},
   "outputs": [],
   "source": []
  },
  {
   "cell_type": "code",
   "execution_count": 213,
   "id": "4cf1b8c1-273a-4d48-be77-81514a70b43b",
   "metadata": {},
   "outputs": [],
   "source": [
    "mods1 = GradientBoostingClassifier(n_estimators = 100, max_depth=4, learning_rate=0.1)\n",
    "mods1.fit(X_train_s, y_train_s)\n",
    "# make a single prediction\n",
    "y_pred_s1 = mods1.predict(X_test_s)"
   ]
  },
  {
   "cell_type": "code",
   "execution_count": 214,
   "id": "6a817829-e6dc-4798-aad7-88bd2bb7413c",
   "metadata": {},
   "outputs": [
    {
     "name": "stdout",
     "output_type": "stream",
     "text": [
      "0.6431177838822055\n"
     ]
    }
   ],
   "source": [
    "print(f1_score(y_test_s, y_pred_s1, average = 'weighted'))"
   ]
  },
  {
   "cell_type": "code",
   "execution_count": 215,
   "id": "5984c99f-9b3d-449e-98ab-d51cd3c7bd97",
   "metadata": {},
   "outputs": [
    {
     "name": "stdout",
     "output_type": "stream",
     "text": [
      "0.7231481481481481\n"
     ]
    }
   ],
   "source": [
    "print(precision_score(y_test_s, y_pred_s1,average='weighted'))"
   ]
  },
  {
   "cell_type": "code",
   "execution_count": 216,
   "id": "fb26006d-87ab-4a13-a611-2830ae2d91a2",
   "metadata": {},
   "outputs": [],
   "source": [
    "cf_matrixs1 = confusion_matrix(y_test_s, y_pred_s1)"
   ]
  },
  {
   "cell_type": "code",
   "execution_count": 217,
   "id": "806a4d46-ed79-4313-bb76-c7ecc5573e97",
   "metadata": {},
   "outputs": [
    {
     "data": {
      "text/plain": [
       "array([[ 8,  3,  2,  0],\n",
       "       [ 0, 20,  1,  1],\n",
       "       [ 2,  7, 15,  8],\n",
       "       [ 0,  2,  0,  3]], dtype=int64)"
      ]
     },
     "execution_count": 217,
     "metadata": {},
     "output_type": "execute_result"
    }
   ],
   "source": [
    "cf_matrixs1"
   ]
  },
  {
   "cell_type": "code",
   "execution_count": 218,
   "id": "ecf191fb-8ffb-46d9-804e-2030638e3bb5",
   "metadata": {},
   "outputs": [
    {
     "data": {
      "text/plain": [
       "<Axes: >"
      ]
     },
     "execution_count": 218,
     "metadata": {},
     "output_type": "execute_result"
    },
    {
     "data": {
      "image/png": "[encoded data removed]",
      "text/plain": [
       "<Figure size 640x480 with 2 Axes>"
      ]
     },
     "metadata": {},
     "output_type": "display_data"
    }
   ],
   "source": [
    "sns.heatmap(data = cf_matrixs1, cmap=sns.cubehelix_palette(as_cmap=True))"
   ]
  },
  {
   "cell_type": "code",
   "execution_count": null,
   "id": "f813d7c7-be87-4254-8eb1-3dc231b942df",
   "metadata": {},
   "outputs": [],
   "source": []
  },
  {
   "cell_type": "code",
   "execution_count": 226,
   "id": "e0e7da5e-4dd4-4083-b264-3b9ddb2fe6ce",
   "metadata": {},
   "outputs": [],
   "source": [
    "mods2 = GradientBoostingClassifier(n_estimators = 150, max_depth=4, learning_rate=0.1)\n",
    "mods2.fit(X_train_s, y_train_s)\n",
    "# make a single prediction\n",
    "y_pred_s2 = mods2.predict(X_test_s)"
   ]
  },
  {
   "cell_type": "code",
   "execution_count": 227,
   "id": "00379bfd-62af-49f0-a056-22b0e32d3fec",
   "metadata": {},
   "outputs": [
    {
     "name": "stdout",
     "output_type": "stream",
     "text": [
      "0.668769909335947\n"
     ]
    }
   ],
   "source": [
    "print(f1_score(y_test_s, y_pred_s2, average = 'weighted'))"
   ]
  },
  {
   "cell_type": "code",
   "execution_count": 228,
   "id": "aa974626-eb75-489d-9f79-78cd0b65c52c",
   "metadata": {},
   "outputs": [
    {
     "name": "stdout",
     "output_type": "stream",
     "text": [
      "0.7297178130511464\n"
     ]
    }
   ],
   "source": [
    "print(precision_score(y_test_s, y_pred_s2,average='weighted'))"
   ]
  },
  {
   "cell_type": "code",
   "execution_count": 229,
   "id": "d646731f-3e5a-40aa-9e80-a5ce8745c0a7",
   "metadata": {},
   "outputs": [],
   "source": [
    "cf_matrixs2 = confusion_matrix(y_test_s, y_pred_s2)"
   ]
  },
  {
   "cell_type": "code",
   "execution_count": 230,
   "id": "29eef3aa-7b66-4728-ae31-07bcbb334d0f",
   "metadata": {},
   "outputs": [
    {
     "data": {
      "text/plain": [
       "array([[ 7,  4,  2,  0],\n",
       "       [ 0, 20,  1,  1],\n",
       "       [ 2,  7, 18,  5],\n",
       "       [ 0,  2,  0,  3]], dtype=int64)"
      ]
     },
     "execution_count": 230,
     "metadata": {},
     "output_type": "execute_result"
    }
   ],
   "source": [
    "cf_matrixs2"
   ]
  },
  {
   "cell_type": "code",
   "execution_count": 231,
   "id": "c84fb829-e565-4646-ae3c-bd20cf3f2e98",
   "metadata": {},
   "outputs": [
    {
     "data": {
      "text/plain": [
       "<Axes: >"
      ]
     },
     "execution_count": 231,
     "metadata": {},
     "output_type": "execute_result"
    },
    {
     "data": {
      "image/png": "[encoded data removed]",
      "text/plain": [
       "<Figure size 640x480 with 2 Axes>"
      ]
     },
     "metadata": {},
     "output_type": "display_data"
    }
   ],
   "source": [
    "sns.heatmap(data = cf_matrixs2, cmap=sns.cubehelix_palette(as_cmap=True))"
   ]
  },
  {
   "cell_type": "code",
   "execution_count": null,
   "id": "7bee38b2-51df-4c17-9149-92fd7663891a",
   "metadata": {},
   "outputs": [],
   "source": []
  },
  {
   "cell_type": "code",
   "execution_count": 238,
   "id": "db7f8252-3075-44c5-9c19-ac8dc3a23f5b",
   "metadata": {},
   "outputs": [],
   "source": [
    "mods3 = GradientBoostingClassifier(n_estimators = 50, max_depth=4, learning_rate=0.1)\n",
    "mods3.fit(X_train_s, y_train_s)\n",
    "# make a single prediction\n",
    "y_pred_s3 = mods3.predict(X_test_s)"
   ]
  },
  {
   "cell_type": "code",
   "execution_count": 239,
   "id": "5c25e6d6-a13b-4f5e-9173-682b3d6cb401",
   "metadata": {},
   "outputs": [
    {
     "name": "stdout",
     "output_type": "stream",
     "text": [
      "0.6186483729294188\n"
     ]
    }
   ],
   "source": [
    "print(f1_score(y_test_s, y_pred_s3, average = 'weighted'))"
   ]
  },
  {
   "cell_type": "code",
   "execution_count": 240,
   "id": "8d951f3e-1f1a-4f39-8a24-ba9d6c386fc9",
   "metadata": {},
   "outputs": [
    {
     "name": "stdout",
     "output_type": "stream",
     "text": [
      "0.6703216374269005\n"
     ]
    }
   ],
   "source": [
    "print(precision_score(y_test_s, y_pred_s3,average='weighted'))"
   ]
  },
  {
   "cell_type": "code",
   "execution_count": 241,
   "id": "19e52e6f-677a-442e-b719-c119cf0f5071",
   "metadata": {},
   "outputs": [],
   "source": [
    "cf_matrixs3 = confusion_matrix(y_test_s, y_pred_s3)"
   ]
  },
  {
   "cell_type": "code",
   "execution_count": 242,
   "id": "b8cf8803-faa4-4f19-a76a-804e68b09f2d",
   "metadata": {},
   "outputs": [
    {
     "data": {
      "text/plain": [
       "array([[ 7,  3,  3,  0],\n",
       "       [ 0, 20,  1,  1],\n",
       "       [ 5,  7, 15,  5],\n",
       "       [ 0,  2,  0,  3]], dtype=int64)"
      ]
     },
     "execution_count": 242,
     "metadata": {},
     "output_type": "execute_result"
    }
   ],
   "source": [
    "cf_matrixs3"
   ]
  },
  {
   "cell_type": "code",
   "execution_count": 243,
   "id": "e4abcbbb-4fc3-4456-8c6f-3fa919807f52",
   "metadata": {},
   "outputs": [
    {
     "data": {
      "text/plain": [
       "<Axes: >"
      ]
     },
     "execution_count": 243,
     "metadata": {},
     "output_type": "execute_result"
    },
    {
     "data": {
      "image/png": "[encoded data removed]",
      "text/plain": [
       "<Figure size 640x480 with 2 Axes>"
      ]
     },
     "metadata": {},
     "output_type": "display_data"
    }
   ],
   "source": [
    "sns.heatmap(data = cf_matrixs3, cmap=sns.cubehelix_palette(as_cmap=True))"
   ]
  },
  {
   "cell_type": "code",
   "execution_count": null,
   "id": "c68e4bc8-5745-402f-b400-7d12602de35e",
   "metadata": {},
   "outputs": [],
   "source": []
  },
  {
   "cell_type": "code",
   "execution_count": 256,
   "id": "dec351f2-7122-4bf2-9e8d-c164c7a8e8c6",
   "metadata": {},
   "outputs": [],
   "source": [
    "mods4 = GradientBoostingClassifier(n_estimators = 200, max_depth=4, learning_rate=0.1)\n",
    "mods4.fit(X_train_s, y_train_s)\n",
    "# make a single prediction\n",
    "y_pred_s4 = mods4.predict(X_test_s)"
   ]
  },
  {
   "cell_type": "code",
   "execution_count": 257,
   "id": "94da370a-3d25-424b-a957-dd9ffcc510e7",
   "metadata": {},
   "outputs": [
    {
     "name": "stdout",
     "output_type": "stream",
     "text": [
      "0.6819296958185848\n"
     ]
    }
   ],
   "source": [
    "print(f1_score(y_test_s, y_pred_s4, average = 'weighted'))"
   ]
  },
  {
   "cell_type": "code",
   "execution_count": 258,
   "id": "6d101714-9a21-4f48-b1f7-6db43bfb5d92",
   "metadata": {},
   "outputs": [
    {
     "name": "stdout",
     "output_type": "stream",
     "text": [
      "0.7354973344556678\n"
     ]
    }
   ],
   "source": [
    "print(precision_score(y_test_s, y_pred_s4,average='weighted'))"
   ]
  },
  {
   "cell_type": "code",
   "execution_count": 259,
   "id": "1a91ff0a-9a68-444b-adf7-7bd3c072e09a",
   "metadata": {},
   "outputs": [],
   "source": [
    "cf_matrixs4 = confusion_matrix(y_test_s, y_pred_s4)"
   ]
  },
  {
   "cell_type": "code",
   "execution_count": 260,
   "id": "356f7675-2f74-4974-a0c3-67f1d747a3e0",
   "metadata": {},
   "outputs": [
    {
     "data": {
      "text/plain": [
       "array([[ 7,  4,  2,  0],\n",
       "       [ 0, 20,  1,  1],\n",
       "       [ 2,  7, 19,  4],\n",
       "       [ 0,  2,  0,  3]], dtype=int64)"
      ]
     },
     "execution_count": 260,
     "metadata": {},
     "output_type": "execute_result"
    }
   ],
   "source": [
    "cf_matrixs4"
   ]
  },
  {
   "cell_type": "code",
   "execution_count": 261,
   "id": "a231a84c-27a7-49bc-af1e-56d56c0e70b1",
   "metadata": {},
   "outputs": [
    {
     "data": {
      "text/plain": [
       "<Axes: >"
      ]
     },
     "execution_count": 261,
     "metadata": {},
     "output_type": "execute_result"
    },
    {
     "data": {
      "image/png": "[encoded data removed]",
      "text/plain": [
       "<Figure size 640x480 with 2 Axes>"
      ]
     },
     "metadata": {},
     "output_type": "display_data"
    }
   ],
   "source": [
    "sns.heatmap(data = cf_matrixs4, cmap=sns.cubehelix_palette(as_cmap=True))"
   ]
  },
  {
   "cell_type": "code",
   "execution_count": null,
   "id": "970167de-03ec-40f6-8994-6b1387558c1f",
   "metadata": {},
   "outputs": [],
   "source": []
  },
  {
   "cell_type": "code",
   "execution_count": 268,
   "id": "554b8f59-a11d-4fc6-a930-a3aa0c274691",
   "metadata": {},
   "outputs": [],
   "source": [
    "mods5 = GradientBoostingClassifier(n_estimators = 250, max_depth=4, learning_rate=0.1)\n",
    "mods5.fit(X_train_s, y_train_s)\n",
    "# make a single prediction\n",
    "y_pred_s5 = mods5.predict(X_test_s)"
   ]
  },
  {
   "cell_type": "code",
   "execution_count": 269,
   "id": "3220be8c-081b-47dd-b722-36e4327f8338",
   "metadata": {},
   "outputs": [
    {
     "name": "stdout",
     "output_type": "stream",
     "text": [
      "0.6119372431587785\n"
     ]
    }
   ],
   "source": [
    "print(f1_score(y_test_s, y_pred_s5, average = 'weighted'))"
   ]
  },
  {
   "cell_type": "code",
   "execution_count": 270,
   "id": "f4fb3cd9-64b3-4d25-82b0-cc349807a618",
   "metadata": {},
   "outputs": [
    {
     "name": "stdout",
     "output_type": "stream",
     "text": [
      "0.671875\n"
     ]
    }
   ],
   "source": [
    "print(precision_score(y_test_s, y_pred_s5,average='weighted'))"
   ]
  },
  {
   "cell_type": "code",
   "execution_count": 271,
   "id": "e56c24ed-b8be-4fc1-bb64-29e0fa8abd30",
   "metadata": {},
   "outputs": [],
   "source": [
    "cf_matrixs5 = confusion_matrix(y_test_s, y_pred_s5)"
   ]
  },
  {
   "cell_type": "code",
   "execution_count": 272,
   "id": "6b840776-153b-47bb-bf29-092f3eff6729",
   "metadata": {},
   "outputs": [
    {
     "data": {
      "text/plain": [
       "array([[ 5,  4,  4,  0],\n",
       "       [ 0, 21,  1,  0],\n",
       "       [ 2,  9, 16,  5],\n",
       "       [ 0,  2,  0,  3]], dtype=int64)"
      ]
     },
     "execution_count": 272,
     "metadata": {},
     "output_type": "execute_result"
    }
   ],
   "source": [
    "cf_matrixs5"
   ]
  },
  {
   "cell_type": "code",
   "execution_count": 273,
   "id": "ddff9de8-dd12-4b16-b340-dd94c84055bb",
   "metadata": {},
   "outputs": [
    {
     "data": {
      "text/plain": [
       "<Axes: >"
      ]
     },
     "execution_count": 273,
     "metadata": {},
     "output_type": "execute_result"
    },
    {
     "data": {
      "image/png": "[encoded data removed]",
      "text/plain": [
       "<Figure size 640x480 with 2 Axes>"
      ]
     },
     "metadata": {},
     "output_type": "display_data"
    }
   ],
   "source": [
    "sns.heatmap(data = cf_matrixs5, cmap=sns.cubehelix_palette(as_cmap=True))"
   ]
  },
  {
   "cell_type": "code",
   "execution_count": null,
   "id": "f9947df3-f5f7-4ca2-afc7-19e98c86bac1",
   "metadata": {},
   "outputs": [],
   "source": []
  },
  {
   "cell_type": "code",
   "execution_count": 286,
   "id": "e2adf757-6a14-4ad6-bc3d-6c1ae00407b8",
   "metadata": {},
   "outputs": [],
   "source": [
    "mods6 = GradientBoostingClassifier(n_estimators = 100, max_depth=4, learning_rate=0.15)\n",
    "mods6.fit(X_train_s, y_train_s)\n",
    "# make a single prediction\n",
    "y_pred_s6 = mods6.predict(X_test_s)"
   ]
  },
  {
   "cell_type": "code",
   "execution_count": 287,
   "id": "c1405df7-4265-4244-82f9-405e8757eff9",
   "metadata": {},
   "outputs": [
    {
     "name": "stdout",
     "output_type": "stream",
     "text": [
      "0.6483571983571984\n"
     ]
    }
   ],
   "source": [
    "print(f1_score(y_test_s, y_pred_s6, average = 'weighted'))"
   ]
  },
  {
   "cell_type": "code",
   "execution_count": 288,
   "id": "86619eb4-fa85-4e6e-9ebc-ae7b2fc3c089",
   "metadata": {},
   "outputs": [
    {
     "name": "stdout",
     "output_type": "stream",
     "text": [
      "0.6944696054750403\n"
     ]
    }
   ],
   "source": [
    "print(precision_score(y_test_s, y_pred_s6,average='weighted'))"
   ]
  },
  {
   "cell_type": "code",
   "execution_count": 289,
   "id": "a5fc50c9-50af-48e8-a58e-94e8d39abb9a",
   "metadata": {},
   "outputs": [],
   "source": [
    "cf_matrixs6 = confusion_matrix(y_test_s, y_pred_s6)"
   ]
  },
  {
   "cell_type": "code",
   "execution_count": 290,
   "id": "787a33a4-aaf3-476f-bf78-3563e6388e78",
   "metadata": {},
   "outputs": [
    {
     "data": {
      "text/plain": [
       "array([[ 6,  3,  4,  0],\n",
       "       [ 0, 20,  1,  1],\n",
       "       [ 2,  8, 18,  4],\n",
       "       [ 0,  2,  0,  3]], dtype=int64)"
      ]
     },
     "execution_count": 290,
     "metadata": {},
     "output_type": "execute_result"
    }
   ],
   "source": [
    "cf_matrixs6"
   ]
  },
  {
   "cell_type": "code",
   "execution_count": 291,
   "id": "8e4b9e83-613c-4e70-b266-69367dfc5d6d",
   "metadata": {},
   "outputs": [
    {
     "data": {
      "text/plain": [
       "<Axes: >"
      ]
     },
     "execution_count": 291,
     "metadata": {},
     "output_type": "execute_result"
    },
    {
     "data": {
      "image/png": "[encoded data removed]",
      "text/plain": [
       "<Figure size 640x480 with 2 Axes>"
      ]
     },
     "metadata": {},
     "output_type": "display_data"
    }
   ],
   "source": [
    "sns.heatmap(data = cf_matrixs6, cmap=sns.cubehelix_palette(as_cmap=True))"
   ]
  },
  {
   "cell_type": "code",
   "execution_count": null,
   "id": "71b7d47d-d3d9-4e54-b28e-483b47cb3784",
   "metadata": {},
   "outputs": [],
   "source": []
  },
  {
   "cell_type": "code",
   "execution_count": 298,
   "id": "5c809937-c904-4c25-91b0-ccd77f0e6afd",
   "metadata": {},
   "outputs": [],
   "source": [
    "mods7 = GradientBoostingClassifier(n_estimators = 150, max_depth=4, learning_rate=0.15)\n",
    "mods7.fit(X_train_s, y_train_s)\n",
    "# make a single prediction\n",
    "y_pred_s7 = mods7.predict(X_test_s)"
   ]
  },
  {
   "cell_type": "code",
   "execution_count": 299,
   "id": "98ca84f2-58a7-45be-bb0f-0f45219b5e65",
   "metadata": {},
   "outputs": [
    {
     "name": "stdout",
     "output_type": "stream",
     "text": [
      "0.6028084493203658\n"
     ]
    }
   ],
   "source": [
    "print(f1_score(y_test_s, y_pred_s7, average = 'weighted'))"
   ]
  },
  {
   "cell_type": "code",
   "execution_count": 300,
   "id": "327f50d2-8834-40ae-99d1-9dc9c661bd6b",
   "metadata": {},
   "outputs": [
    {
     "name": "stdout",
     "output_type": "stream",
     "text": [
      "0.6653439153439153\n"
     ]
    }
   ],
   "source": [
    "print(precision_score(y_test_s, y_pred_s7,average='weighted'))"
   ]
  },
  {
   "cell_type": "code",
   "execution_count": 301,
   "id": "40a057e0-c787-46da-910c-b33cf2aac7bd",
   "metadata": {},
   "outputs": [],
   "source": [
    "cf_matrixs7 = confusion_matrix(y_test_s, y_pred_s7)"
   ]
  },
  {
   "cell_type": "code",
   "execution_count": 302,
   "id": "4855bd80-ed72-4bb7-9be6-50577d15e178",
   "metadata": {},
   "outputs": [
    {
     "data": {
      "text/plain": [
       "array([[ 5,  4,  4,  0],\n",
       "       [ 0, 20,  1,  1],\n",
       "       [ 2,  9, 16,  5],\n",
       "       [ 0,  2,  0,  3]], dtype=int64)"
      ]
     },
     "execution_count": 302,
     "metadata": {},
     "output_type": "execute_result"
    }
   ],
   "source": [
    "cf_matrixs7"
   ]
  },
  {
   "cell_type": "code",
   "execution_count": 303,
   "id": "9a9a6c92-d67a-429e-9c05-9d524eb18d32",
   "metadata": {},
   "outputs": [
    {
     "data": {
      "text/plain": [
       "<Axes: >"
      ]
     },
     "execution_count": 303,
     "metadata": {},
     "output_type": "execute_result"
    },
    {
     "data": {
      "image/png": "[encoded data removed]",
      "text/plain": [
       "<Figure size 640x480 with 2 Axes>"
      ]
     },
     "metadata": {},
     "output_type": "display_data"
    }
   ],
   "source": [
    "sns.heatmap(data = cf_matrixs7, cmap=sns.cubehelix_palette(as_cmap=True))"
   ]
  },
  {
   "cell_type": "code",
   "execution_count": null,
   "id": "27c2212d-28a6-47ab-84d8-1fa1168e44a0",
   "metadata": {},
   "outputs": [],
   "source": []
  },
  {
   "cell_type": "code",
   "execution_count": 310,
   "id": "57248a2d-3ecf-4d7e-9c61-0db59a395178",
   "metadata": {},
   "outputs": [],
   "source": [
    "mods8 = GradientBoostingClassifier(n_estimators = 50, max_depth=4, learning_rate=0.15)\n",
    "mods8.fit(X_train_s, y_train_s)\n",
    "# make a single prediction\n",
    "y_pred_s8 = mods8.predict(X_test_s)"
   ]
  },
  {
   "cell_type": "code",
   "execution_count": 311,
   "id": "eda3a987-b7a0-4391-9ffa-077f1e3182e8",
   "metadata": {},
   "outputs": [
    {
     "name": "stdout",
     "output_type": "stream",
     "text": [
      "0.607843137254902\n"
     ]
    }
   ],
   "source": [
    "print(f1_score(y_test_s, y_pred_s8, average = 'weighted'))"
   ]
  },
  {
   "cell_type": "code",
   "execution_count": 312,
   "id": "835f2a06-049e-4236-a762-a2f8987c32a7",
   "metadata": {},
   "outputs": [
    {
     "name": "stdout",
     "output_type": "stream",
     "text": [
      "0.6949705387205387\n"
     ]
    }
   ],
   "source": [
    "print(precision_score(y_test_s, y_pred_s8,average='weighted'))"
   ]
  },
  {
   "cell_type": "code",
   "execution_count": 313,
   "id": "80d4c530-b716-4b55-a535-06c194ab03ab",
   "metadata": {},
   "outputs": [],
   "source": [
    "cf_matrixs8 = confusion_matrix(y_test_s, y_pred_s8)"
   ]
  },
  {
   "cell_type": "code",
   "execution_count": 314,
   "id": "3dafb228-09e2-408d-aca9-1fe8f2d94c60",
   "metadata": {},
   "outputs": [
    {
     "data": {
      "text/plain": [
       "array([[ 8,  3,  2,  0],\n",
       "       [ 0, 20,  1,  1],\n",
       "       [ 3,  8, 13,  8],\n",
       "       [ 0,  2,  0,  3]], dtype=int64)"
      ]
     },
     "execution_count": 314,
     "metadata": {},
     "output_type": "execute_result"
    }
   ],
   "source": [
    "cf_matrixs8"
   ]
  },
  {
   "cell_type": "code",
   "execution_count": 315,
   "id": "2d5b9667-402e-4068-9474-96fcda7db46e",
   "metadata": {},
   "outputs": [
    {
     "data": {
      "text/plain": [
       "<Axes: >"
      ]
     },
     "execution_count": 315,
     "metadata": {},
     "output_type": "execute_result"
    },
    {
     "data": {
      "image/png": "[encoded data removed]",
      "text/plain": [
       "<Figure size 640x480 with 2 Axes>"
      ]
     },
     "metadata": {},
     "output_type": "display_data"
    }
   ],
   "source": [
    "sns.heatmap(data = cf_matrixs8, cmap=sns.cubehelix_palette(as_cmap=True))"
   ]
  },
  {
   "cell_type": "code",
   "execution_count": null,
   "id": "db37bbc3-81f5-49f3-bbf6-53a228841fda",
   "metadata": {},
   "outputs": [],
   "source": []
  },
  {
   "cell_type": "code",
   "execution_count": 322,
   "id": "c21d973b-3eed-4123-b7b7-198b960e9498",
   "metadata": {},
   "outputs": [],
   "source": [
    "mods9 = GradientBoostingClassifier(n_estimators = 100, max_depth=4, learning_rate=0.08)\n",
    "mods9.fit(X_train_s, y_train_s)\n",
    "# make a single prediction\n",
    "y_pred_s9 = mods9.predict(X_test_s)"
   ]
  },
  {
   "cell_type": "code",
   "execution_count": 323,
   "id": "710763e8-cea5-4cae-9dfd-7397cb2b977a",
   "metadata": {},
   "outputs": [
    {
     "name": "stdout",
     "output_type": "stream",
     "text": [
      "0.5750382008595402\n"
     ]
    }
   ],
   "source": [
    "print(f1_score(y_test_s, y_pred_s9, average = 'weighted'))"
   ]
  },
  {
   "cell_type": "code",
   "execution_count": 324,
   "id": "34610d29-c061-463b-b190-8a369e589042",
   "metadata": {},
   "outputs": [
    {
     "name": "stdout",
     "output_type": "stream",
     "text": [
      "0.6675542186571598\n"
     ]
    }
   ],
   "source": [
    "print(precision_score(y_test_s, y_pred_s9,average='weighted'))"
   ]
  },
  {
   "cell_type": "code",
   "execution_count": 325,
   "id": "db4ee335-6641-418c-9a41-351ced3bcbd1",
   "metadata": {},
   "outputs": [],
   "source": [
    "cf_matrixs9 = confusion_matrix(y_test_s, y_pred_s9)"
   ]
  },
  {
   "cell_type": "code",
   "execution_count": 326,
   "id": "0353c9ec-f95e-4db5-ab32-6744f2d38b63",
   "metadata": {},
   "outputs": [
    {
     "data": {
      "text/plain": [
       "array([[ 7,  4,  2,  0],\n",
       "       [ 0, 20,  1,  1],\n",
       "       [ 4,  8, 12,  8],\n",
       "       [ 0,  2,  0,  3]], dtype=int64)"
      ]
     },
     "execution_count": 326,
     "metadata": {},
     "output_type": "execute_result"
    }
   ],
   "source": [
    "cf_matrixs9"
   ]
  },
  {
   "cell_type": "code",
   "execution_count": 327,
   "id": "5aa2f483-beb1-45c3-bdaf-d0d06b27d5d9",
   "metadata": {},
   "outputs": [
    {
     "data": {
      "text/plain": [
       "<Axes: >"
      ]
     },
     "execution_count": 327,
     "metadata": {},
     "output_type": "execute_result"
    },
    {
     "data": {
      "image/png": "[encoded data removed]",
      "text/plain": [
       "<Figure size 640x480 with 2 Axes>"
      ]
     },
     "metadata": {},
     "output_type": "display_data"
    }
   ],
   "source": [
    "sns.heatmap(data = cf_matrixs9, cmap=sns.cubehelix_palette(as_cmap=True))"
   ]
  },
  {
   "cell_type": "code",
   "execution_count": null,
   "id": "2126e006-b28f-4e16-8cd6-dbeb547038fb",
   "metadata": {},
   "outputs": [],
   "source": []
  },
  {
   "cell_type": "code",
   "execution_count": 334,
   "id": "3436c670-50f9-49ce-842f-c03d2dac04bb",
   "metadata": {},
   "outputs": [],
   "source": [
    "mods10 = GradientBoostingClassifier(n_estimators = 150, max_depth=4, learning_rate=0.08)\n",
    "mods10.fit(X_train_s, y_train_s)\n",
    "# make a single prediction\n",
    "y_pred_s10 = mods10.predict(X_test_s)"
   ]
  },
  {
   "cell_type": "code",
   "execution_count": 335,
   "id": "1d6c90d7-285b-469f-a21f-afd90ffe2471",
   "metadata": {},
   "outputs": [
    {
     "name": "stdout",
     "output_type": "stream",
     "text": [
      "0.6384032634032635\n"
     ]
    }
   ],
   "source": [
    "print(f1_score(y_test_s, y_pred_s10, average = 'weighted'))"
   ]
  },
  {
   "cell_type": "code",
   "execution_count": 336,
   "id": "fd825437-e110-4acf-8087-83374a81de3a",
   "metadata": {},
   "outputs": [
    {
     "name": "stdout",
     "output_type": "stream",
     "text": [
      "0.7020061728395062\n"
     ]
    }
   ],
   "source": [
    "print(precision_score(y_test_s, y_pred_s10,average='weighted'))"
   ]
  },
  {
   "cell_type": "code",
   "execution_count": 337,
   "id": "eef698a5-1603-496e-aef7-d32f5c2c7604",
   "metadata": {},
   "outputs": [],
   "source": [
    "cf_matrixs10 = confusion_matrix(y_test_s, y_pred_s10)"
   ]
  },
  {
   "cell_type": "code",
   "execution_count": 338,
   "id": "63c6a546-e231-413b-935c-2b5df8949f57",
   "metadata": {},
   "outputs": [
    {
     "data": {
      "text/plain": [
       "array([[ 7,  3,  3,  0],\n",
       "       [ 0, 20,  1,  1],\n",
       "       [ 2,  8, 16,  6],\n",
       "       [ 0,  2,  0,  3]], dtype=int64)"
      ]
     },
     "execution_count": 338,
     "metadata": {},
     "output_type": "execute_result"
    }
   ],
   "source": [
    "cf_matrixs10"
   ]
  },
  {
   "cell_type": "code",
   "execution_count": 339,
   "id": "d3a0e1d4-253e-403a-a467-9fca331e9535",
   "metadata": {},
   "outputs": [
    {
     "data": {
      "text/plain": [
       "<Axes: >"
      ]
     },
     "execution_count": 339,
     "metadata": {},
     "output_type": "execute_result"
    },
    {
     "data": {
      "image/png": "[encoded data removed]",
      "text/plain": [
       "<Figure size 640x480 with 2 Axes>"
      ]
     },
     "metadata": {},
     "output_type": "display_data"
    }
   ],
   "source": [
    "sns.heatmap(data = cf_matrixs10, cmap=sns.cubehelix_palette(as_cmap=True))"
   ]
  },
  {
   "cell_type": "code",
   "execution_count": null,
   "id": "ba5e61bb-1fe0-4583-96c5-4436f9b357e6",
   "metadata": {},
   "outputs": [],
   "source": []
  },
  {
   "cell_type": "code",
   "execution_count": 346,
   "id": "ea2f1082-a694-4e67-b585-6069e1511c4f",
   "metadata": {},
   "outputs": [],
   "source": [
    "mods11 = GradientBoostingClassifier(n_estimators = 200, max_depth=4, learning_rate=0.08)\n",
    "mods11.fit(X_train_s, y_train_s)\n",
    "# make a single prediction\n",
    "y_pred_s11 = mods11.predict(X_test_s)"
   ]
  },
  {
   "cell_type": "code",
   "execution_count": 347,
   "id": "d41e4fd7-0945-4339-bd0c-cc423b2a1a6d",
   "metadata": {},
   "outputs": [
    {
     "name": "stdout",
     "output_type": "stream",
     "text": [
      "0.5948272642390289\n"
     ]
    }
   ],
   "source": [
    "print(f1_score(y_test_s, y_pred_s11, average = 'weighted'))"
   ]
  },
  {
   "cell_type": "code",
   "execution_count": 348,
   "id": "3a188bca-c00a-4190-a6df-b4e18876082e",
   "metadata": {},
   "outputs": [
    {
     "name": "stdout",
     "output_type": "stream",
     "text": [
      "0.6781953522149601\n"
     ]
    }
   ],
   "source": [
    "print(precision_score(y_test_s, y_pred_s11,average='weighted'))"
   ]
  },
  {
   "cell_type": "code",
   "execution_count": 349,
   "id": "232ad832-6018-4180-a62b-d3ea9ad3cda4",
   "metadata": {},
   "outputs": [],
   "source": [
    "cf_matrixs11 = confusion_matrix(y_test_s, y_pred_s11)"
   ]
  },
  {
   "cell_type": "code",
   "execution_count": 350,
   "id": "f857e0b4-fb2e-43e5-b18d-92912112ac67",
   "metadata": {},
   "outputs": [
    {
     "data": {
      "text/plain": [
       "array([[ 6,  4,  3,  0],\n",
       "       [ 0, 20,  1,  1],\n",
       "       [ 2,  8, 14,  8],\n",
       "       [ 0,  2,  0,  3]], dtype=int64)"
      ]
     },
     "execution_count": 350,
     "metadata": {},
     "output_type": "execute_result"
    }
   ],
   "source": [
    "cf_matrixs11"
   ]
  },
  {
   "cell_type": "code",
   "execution_count": 351,
   "id": "8c4a4934-509d-49e2-8e27-b28dbe8a7717",
   "metadata": {},
   "outputs": [
    {
     "data": {
      "text/plain": [
       "<Axes: >"
      ]
     },
     "execution_count": 351,
     "metadata": {},
     "output_type": "execute_result"
    },
    {
     "data": {
      "image/png": "[encoded data removed]",
      "text/plain": [
       "<Figure size 640x480 with 2 Axes>"
      ]
     },
     "metadata": {},
     "output_type": "display_data"
    }
   ],
   "source": [
    "sns.heatmap(data = cf_matrixs11, cmap=sns.cubehelix_palette(as_cmap=True))"
   ]
  },
  {
   "cell_type": "markdown",
   "id": "557e9a15-77e5-4357-be84-772c455f4cf8",
   "metadata": {},
   "source": [
    "# scaled but no lagged_lagged and no future"
   ]
  },
  {
   "cell_type": "code",
   "execution_count": 421,
   "id": "50fcb5a9-b4b6-4cc3-81b6-a7c4e41486d1",
   "metadata": {},
   "outputs": [
    {
     "data": {
      "text/html": [
       "<div>\n",
       "<style scoped>\n",
       "    .dataframe tbody tr th:only-of-type {\n",
       "        vertical-align: middle;\n",
       "    }\n",
       "\n",
       "    .dataframe tbody tr th {\n",
       "        vertical-align: top;\n",
       "    }\n",
       "\n",
       "    .dataframe thead th {\n",
       "        text-align: right;\n",
       "    }\n",
       "</style>\n",
       "<table border=\"1\" class=\"dataframe\">\n",
       "  <thead>\n",
       "    <tr style=\"text-align: right;\">\n",
       "      <th></th>\n",
       "      <th>Duration</th>\n",
       "      <th>lagged_1_duration</th>\n",
       "      <th>lagged_2_duration</th>\n",
       "      <th>lagged_3_duration</th>\n",
       "      <th>lagged_4_duration</th>\n",
       "      <th>Entry Latency</th>\n",
       "      <th>lagged_1_entry_lat</th>\n",
       "      <th>lagged_2_entry_lat</th>\n",
       "      <th>lagged_3_entry_lat</th>\n",
       "      <th>lagged_4_entry_lat</th>\n",
       "      <th>...</th>\n",
       "      <th>5_past_exitmidentry_duration</th>\n",
       "      <th>mean_2_past_exitmidentry_duration</th>\n",
       "      <th>mean_3_past_exitmidentry_duration</th>\n",
       "      <th>mean_4_past_exitmidentry_duration</th>\n",
       "      <th>mean_5_past_exitmidentry_duration</th>\n",
       "      <th>Choice Output</th>\n",
       "      <th>lagged_1_choice_ago</th>\n",
       "      <th>lagged_2_choice_ago</th>\n",
       "      <th>lagged_3_choice_ago</th>\n",
       "      <th>lagged_4_choice_ago</th>\n",
       "    </tr>\n",
       "  </thead>\n",
       "  <tbody>\n",
       "    <tr>\n",
       "      <th>0</th>\n",
       "      <td>0.218849</td>\n",
       "      <td>0.216137</td>\n",
       "      <td>0.213425</td>\n",
       "      <td>0.343616</td>\n",
       "      <td>0.373452</td>\n",
       "      <td>0.288438</td>\n",
       "      <td>0.412187</td>\n",
       "      <td>0.412187</td>\n",
       "      <td>0.505000</td>\n",
       "      <td>0.010000</td>\n",
       "      <td>...</td>\n",
       "      <td>2.120918</td>\n",
       "      <td>0.494898</td>\n",
       "      <td>0.535306</td>\n",
       "      <td>0.527730</td>\n",
       "      <td>0.424184</td>\n",
       "      <td>3</td>\n",
       "      <td>4</td>\n",
       "      <td>3</td>\n",
       "      <td>2</td>\n",
       "      <td>1</td>\n",
       "    </tr>\n",
       "    <tr>\n",
       "      <th>1</th>\n",
       "      <td>0.151041</td>\n",
       "      <td>0.218849</td>\n",
       "      <td>0.216137</td>\n",
       "      <td>0.213425</td>\n",
       "      <td>0.343616</td>\n",
       "      <td>0.319375</td>\n",
       "      <td>0.288438</td>\n",
       "      <td>0.412187</td>\n",
       "      <td>0.412187</td>\n",
       "      <td>0.505000</td>\n",
       "      <td>...</td>\n",
       "      <td>2.575510</td>\n",
       "      <td>0.469643</td>\n",
       "      <td>0.484796</td>\n",
       "      <td>0.517628</td>\n",
       "      <td>0.515102</td>\n",
       "      <td>3</td>\n",
       "      <td>3</td>\n",
       "      <td>4</td>\n",
       "      <td>3</td>\n",
       "      <td>2</td>\n",
       "    </tr>\n",
       "    <tr>\n",
       "      <th>2</th>\n",
       "      <td>0.205288</td>\n",
       "      <td>0.151041</td>\n",
       "      <td>0.218849</td>\n",
       "      <td>0.216137</td>\n",
       "      <td>0.213425</td>\n",
       "      <td>0.505000</td>\n",
       "      <td>0.319375</td>\n",
       "      <td>0.288438</td>\n",
       "      <td>0.412187</td>\n",
       "      <td>0.412187</td>\n",
       "      <td>...</td>\n",
       "      <td>2.636122</td>\n",
       "      <td>0.515102</td>\n",
       "      <td>0.501633</td>\n",
       "      <td>0.505000</td>\n",
       "      <td>0.527224</td>\n",
       "      <td>4</td>\n",
       "      <td>3</td>\n",
       "      <td>3</td>\n",
       "      <td>4</td>\n",
       "      <td>3</td>\n",
       "    </tr>\n",
       "    <tr>\n",
       "      <th>3</th>\n",
       "      <td>0.186301</td>\n",
       "      <td>0.205288</td>\n",
       "      <td>0.151041</td>\n",
       "      <td>0.218849</td>\n",
       "      <td>0.216137</td>\n",
       "      <td>0.474062</td>\n",
       "      <td>0.505000</td>\n",
       "      <td>0.319375</td>\n",
       "      <td>0.288438</td>\n",
       "      <td>0.412187</td>\n",
       "      <td>...</td>\n",
       "      <td>2.525000</td>\n",
       "      <td>0.535306</td>\n",
       "      <td>0.511735</td>\n",
       "      <td>0.502474</td>\n",
       "      <td>0.505000</td>\n",
       "      <td>3</td>\n",
       "      <td>4</td>\n",
       "      <td>3</td>\n",
       "      <td>3</td>\n",
       "      <td>4</td>\n",
       "    </tr>\n",
       "    <tr>\n",
       "      <th>4</th>\n",
       "      <td>0.153753</td>\n",
       "      <td>0.186301</td>\n",
       "      <td>0.205288</td>\n",
       "      <td>0.151041</td>\n",
       "      <td>0.218849</td>\n",
       "      <td>0.969063</td>\n",
       "      <td>0.474062</td>\n",
       "      <td>0.505000</td>\n",
       "      <td>0.319375</td>\n",
       "      <td>0.288438</td>\n",
       "      <td>...</td>\n",
       "      <td>2.838163</td>\n",
       "      <td>0.666633</td>\n",
       "      <td>0.632959</td>\n",
       "      <td>0.590867</td>\n",
       "      <td>0.567633</td>\n",
       "      <td>3</td>\n",
       "      <td>3</td>\n",
       "      <td>4</td>\n",
       "      <td>3</td>\n",
       "      <td>3</td>\n",
       "    </tr>\n",
       "  </tbody>\n",
       "</table>\n",
       "<p>5 rows × 176 columns</p>\n",
       "</div>"
      ],
      "text/plain": [
       "   Duration  lagged_1_duration  lagged_2_duration  lagged_3_duration  \\\n",
       "0  0.218849           0.216137           0.213425           0.343616   \n",
       "1  0.151041           0.218849           0.216137           0.213425   \n",
       "2  0.205288           0.151041           0.218849           0.216137   \n",
       "3  0.186301           0.205288           0.151041           0.218849   \n",
       "4  0.153753           0.186301           0.205288           0.151041   \n",
       "\n",
       "   lagged_4_duration  Entry Latency  lagged_1_entry_lat  lagged_2_entry_lat  \\\n",
       "0           0.373452       0.288438            0.412187            0.412187   \n",
       "1           0.343616       0.319375            0.288438            0.412187   \n",
       "2           0.213425       0.505000            0.319375            0.288438   \n",
       "3           0.216137       0.474062            0.505000            0.319375   \n",
       "4           0.218849       0.969063            0.474062            0.505000   \n",
       "\n",
       "   lagged_3_entry_lat  lagged_4_entry_lat  ...  5_past_exitmidentry_duration  \\\n",
       "0            0.505000            0.010000  ...                      2.120918   \n",
       "1            0.412187            0.505000  ...                      2.575510   \n",
       "2            0.412187            0.412187  ...                      2.636122   \n",
       "3            0.288438            0.412187  ...                      2.525000   \n",
       "4            0.319375            0.288438  ...                      2.838163   \n",
       "\n",
       "   mean_2_past_exitmidentry_duration  mean_3_past_exitmidentry_duration  \\\n",
       "0                           0.494898                           0.535306   \n",
       "1                           0.469643                           0.484796   \n",
       "2                           0.515102                           0.501633   \n",
       "3                           0.535306                           0.511735   \n",
       "4                           0.666633                           0.632959   \n",
       "\n",
       "   mean_4_past_exitmidentry_duration  mean_5_past_exitmidentry_duration  \\\n",
       "0                           0.527730                           0.424184   \n",
       "1                           0.517628                           0.515102   \n",
       "2                           0.505000                           0.527224   \n",
       "3                           0.502474                           0.505000   \n",
       "4                           0.590867                           0.567633   \n",
       "\n",
       "   Choice Output  lagged_1_choice_ago  lagged_2_choice_ago  \\\n",
       "0              3                    4                    3   \n",
       "1              3                    3                    4   \n",
       "2              4                    3                    3   \n",
       "3              3                    4                    3   \n",
       "4              3                    3                    4   \n",
       "\n",
       "   lagged_3_choice_ago  lagged_4_choice_ago  \n",
       "0                    2                    1  \n",
       "1                    3                    2  \n",
       "2                    4                    3  \n",
       "3                    3                    4  \n",
       "4                    3                    3  \n",
       "\n",
       "[5 rows x 176 columns]"
      ]
     },
     "execution_count": 421,
     "metadata": {},
     "output_type": "execute_result"
    }
   ],
   "source": [
    "group_scaled.head()"
   ]
  },
  {
   "cell_type": "code",
   "execution_count": 354,
   "id": "f3117006-ae67-4cc1-a016-07182a46f2c4",
   "metadata": {},
   "outputs": [],
   "source": [
    "group_scaled = group_scaled.reset_index(drop=True)"
   ]
  },
  {
   "cell_type": "code",
   "execution_count": 422,
   "id": "bcda457b-d39c-47ab-8ca8-341a12d78557",
   "metadata": {},
   "outputs": [],
   "source": [
    "x_sc_lf= group_scaled.iloc[:,:][group_scaled['Choice Output'] > 1].drop(columns = ['Choice Output', 'Duration', 'Exit Latency', '2_cur_arm_duration',\n",
    "       '3_cur_arm_duration', '4_cur_arm_duration', '5_cur_arm_duration','mean_2_cur_arm_duration', 'mean_3_cur_arm_duration', 'mean_4_cur_arm_duration',\n",
    "        'mean_5_cur_arm_duration','Arm Nose Movement', 'Arm Nose Velocity', 'Arm Tail Movement', 'Arm Tail Velocity', 'lagged_1_current_coeff', \n",
    "        'lagged_2_current_coeff','lagged_3_current_coeff', 'lagged_4_current_coeff','lagged_1_lagged_1_cur_coeff','lagged_2_lagged_1_cur_coeff', \n",
    "        'lagged_3_lagged_1_cur_coeff','lagged_4_lagged_1_cur_coeff','lagged_1_lagged_2_cur_coeff', 'lagged_2_lagged_2_cur_coeff', \n",
    "        'lagged_3_lagged_2_cur_coeff', 'lagged_4_lagged_2_cur_coeff','lagged_1_lagged_3_cur_coeff','lagged_2_lagged_3_cur_coeff', \n",
    "        'lagged_3_lagged_3_cur_coeff','lagged_4_lagged_3_cur_coeff','lagged_1_lagged_4_cur_coeff', 'lagged_2_lagged_4_cur_coeff',\n",
    "        'lagged_3_lagged_4_cur_coeff', 'lagged_4_lagged_4_cur_coeff','lagged_1_current_coeff_time_prop',\n",
    "       'lagged_2_current_coeff_time_prop', 'lagged_3_current_coeff_time_prop','lagged_4_current_coeff_time_prop','lagged_1_lagged_1_cur_coeff_time_prop',\n",
    "       'lagged_2_lagged_1_cur_coeff_time_prop','lagged_3_lagged_1_cur_coeff_time_prop','lagged_4_lagged_1_cur_coeff_time_prop',\n",
    "       'lagged_1_lagged_2_cur_coeff_time_prop','lagged_2_lagged_2_cur_coeff_time_prop','lagged_3_lagged_2_cur_coeff_time_prop',\n",
    "       'lagged_4_lagged_2_cur_coeff_time_prop','lagged_1_lagged_3_cur_coeff_time_prop','lagged_2_lagged_3_cur_coeff_time_prop',\n",
    "       'lagged_3_lagged_3_cur_coeff_time_prop','lagged_4_lagged_3_cur_coeff_time_prop','lagged_1_lagged_4_cur_coeff_time_prop',\n",
    "       'lagged_2_lagged_4_cur_coeff_time_prop','lagged_3_lagged_4_cur_coeff_time_prop','lagged_4_lagged_4_cur_coeff_time_prop']).values"
   ]
  },
  {
   "cell_type": "code",
   "execution_count": 423,
   "id": "b45cc9d5-3eaa-4e11-a52f-ad58590b2535",
   "metadata": {},
   "outputs": [],
   "source": [
    "y_sc_lf = group_scaled[group_scaled['Choice Output'] > 1]['Choice Output'].values"
   ]
  },
  {
   "cell_type": "code",
   "execution_count": 424,
   "id": "cb44fb9c-1ba6-44fd-8901-e1166e30acb2",
   "metadata": {},
   "outputs": [],
   "source": [
    "X_train_slf, X_test_slf, y_train_slf, y_test_slf = train_test_split(x_sc_lf, y_sc_lf, test_size=0.2, random_state=50)"
   ]
  },
  {
   "cell_type": "code",
   "execution_count": 462,
   "id": "0c476c00-96c3-4e65-b111-adb04ff23bcb",
   "metadata": {},
   "outputs": [],
   "source": [
    "modslf = GradientBoostingClassifier(n_estimators = 100, max_depth=4, learning_rate=0.05)\n",
    "modslf.fit(X_train_slf, y_train_slf)\n",
    "# make a single prediction\n",
    "y_pred_slf = modslf.predict(X_test_slf)"
   ]
  },
  {
   "cell_type": "code",
   "execution_count": 463,
   "id": "b679cc6a-bfc0-4209-b660-7c360e13c1df",
   "metadata": {},
   "outputs": [
    {
     "name": "stdout",
     "output_type": "stream",
     "text": [
      "0.6983246687547764\n"
     ]
    }
   ],
   "source": [
    "print(f1_score(y_test_slf, y_pred_slf, average = 'weighted'))"
   ]
  },
  {
   "cell_type": "code",
   "execution_count": 464,
   "id": "a65f6ec1-8ed7-4f15-b413-89d0ecb47900",
   "metadata": {},
   "outputs": [
    {
     "name": "stdout",
     "output_type": "stream",
     "text": [
      "0.7057098765432099\n"
     ]
    }
   ],
   "source": [
    "print(precision_score(y_test_slf, y_pred_slf,average='weighted'))"
   ]
  },
  {
   "cell_type": "code",
   "execution_count": 465,
   "id": "adde537d-4825-4cac-9fbc-bd8350f7d7b7",
   "metadata": {},
   "outputs": [],
   "source": [
    "cf_matrixslf = confusion_matrix(y_test_slf, y_pred_slf)"
   ]
  },
  {
   "cell_type": "code",
   "execution_count": 466,
   "id": "53a74e81-142d-4b90-9eb0-f21707d72321",
   "metadata": {},
   "outputs": [
    {
     "data": {
      "text/plain": [
       "array([[ 8,  0,  4,  0],\n",
       "       [ 2, 27,  1,  2],\n",
       "       [ 2,  3, 11,  3],\n",
       "       [ 3,  0,  2,  4]], dtype=int64)"
      ]
     },
     "execution_count": 466,
     "metadata": {},
     "output_type": "execute_result"
    }
   ],
   "source": [
    "cf_matrixslf"
   ]
  },
  {
   "cell_type": "code",
   "execution_count": 467,
   "id": "e3383ac2-9152-45fa-a326-0fb01b819072",
   "metadata": {},
   "outputs": [
    {
     "data": {
      "text/plain": [
       "<Axes: >"
      ]
     },
     "execution_count": 467,
     "metadata": {},
     "output_type": "execute_result"
    },
    {
     "data": {
      "image/png": "[encoded data removed]",
      "text/plain": [
       "<Figure size 640x480 with 2 Axes>"
      ]
     },
     "metadata": {},
     "output_type": "display_data"
    }
   ],
   "source": [
    "sns.heatmap(data = cf_matrixslf, cmap=sns.cubehelix_palette(as_cmap=True))"
   ]
  },
  {
   "cell_type": "markdown",
   "id": "33bc14d4-5266-415d-9d71-2c91b1f39cff",
   "metadata": {},
   "source": [
    "# scaled but no lagged_lagged, no future, no prev choice"
   ]
  },
  {
   "cell_type": "code",
   "execution_count": 471,
   "id": "6f4648a9-788e-4803-a9b1-d2e7cbc9096e",
   "metadata": {},
   "outputs": [
    {
     "data": {
      "text/plain": [
       "Index(['Duration', 'lagged_1_duration', 'lagged_2_duration',\n",
       "       'lagged_3_duration', 'lagged_4_duration', 'Entry Latency',\n",
       "       'lagged_1_entry_lat', 'lagged_2_entry_lat', 'lagged_3_entry_lat',\n",
       "       'lagged_4_entry_lat',\n",
       "       ...\n",
       "       '5_past_exitmidentry_duration', 'mean_2_past_exitmidentry_duration',\n",
       "       'mean_3_past_exitmidentry_duration',\n",
       "       'mean_4_past_exitmidentry_duration',\n",
       "       'mean_5_past_exitmidentry_duration', 'Choice Output',\n",
       "       'lagged_1_choice_ago', 'lagged_2_choice_ago', 'lagged_3_choice_ago',\n",
       "       'lagged_4_choice_ago'],\n",
       "      dtype='object', length=176)"
      ]
     },
     "execution_count": 471,
     "metadata": {},
     "output_type": "execute_result"
    }
   ],
   "source": [
    "group_scaled.columns"
   ]
  },
  {
   "cell_type": "code",
   "execution_count": 469,
   "id": "84e7ee65-b5cc-4191-990d-972736f8568a",
   "metadata": {},
   "outputs": [],
   "source": [
    "group_scaled = group_scaled.reset_index(drop=True)"
   ]
  },
  {
   "cell_type": "code",
   "execution_count": 472,
   "id": "c2967912-ea5d-4ca1-9d6c-bc72989b2f8e",
   "metadata": {},
   "outputs": [],
   "source": [
    "x_sc_lfc= group_scaled.iloc[:,:][group_scaled['Choice Output'] > 1].drop(columns = ['Choice Output', 'Duration', 'Exit Latency', '2_cur_arm_duration',\n",
    "       '3_cur_arm_duration', '4_cur_arm_duration', '5_cur_arm_duration','mean_2_cur_arm_duration', 'mean_3_cur_arm_duration', 'mean_4_cur_arm_duration',\n",
    "        'mean_5_cur_arm_duration','Arm Nose Movement', 'Arm Nose Velocity', 'Arm Tail Movement', 'Arm Tail Velocity', 'lagged_1_current_coeff', \n",
    "        'lagged_2_current_coeff','lagged_3_current_coeff', 'lagged_4_current_coeff','lagged_1_lagged_1_cur_coeff','lagged_2_lagged_1_cur_coeff', \n",
    "        'lagged_3_lagged_1_cur_coeff','lagged_4_lagged_1_cur_coeff','lagged_1_lagged_2_cur_coeff', 'lagged_2_lagged_2_cur_coeff', \n",
    "        'lagged_3_lagged_2_cur_coeff', 'lagged_4_lagged_2_cur_coeff','lagged_1_lagged_3_cur_coeff','lagged_2_lagged_3_cur_coeff', \n",
    "        'lagged_3_lagged_3_cur_coeff','lagged_4_lagged_3_cur_coeff','lagged_1_lagged_4_cur_coeff', 'lagged_2_lagged_4_cur_coeff',\n",
    "        'lagged_3_lagged_4_cur_coeff', 'lagged_4_lagged_4_cur_coeff','lagged_1_current_coeff_time_prop',\n",
    "       'lagged_2_current_coeff_time_prop', 'lagged_3_current_coeff_time_prop','lagged_4_current_coeff_time_prop','lagged_1_lagged_1_cur_coeff_time_prop',\n",
    "       'lagged_2_lagged_1_cur_coeff_time_prop','lagged_3_lagged_1_cur_coeff_time_prop','lagged_4_lagged_1_cur_coeff_time_prop',\n",
    "       'lagged_1_lagged_2_cur_coeff_time_prop','lagged_2_lagged_2_cur_coeff_time_prop','lagged_3_lagged_2_cur_coeff_time_prop',\n",
    "       'lagged_4_lagged_2_cur_coeff_time_prop','lagged_1_lagged_3_cur_coeff_time_prop','lagged_2_lagged_3_cur_coeff_time_prop',\n",
    "       'lagged_3_lagged_3_cur_coeff_time_prop','lagged_4_lagged_3_cur_coeff_time_prop','lagged_1_lagged_4_cur_coeff_time_prop',\n",
    "       'lagged_2_lagged_4_cur_coeff_time_prop','lagged_3_lagged_4_cur_coeff_time_prop','lagged_4_lagged_4_cur_coeff_time_prop', 'lagged_1_choice_ago', \n",
    "        'lagged_2_choice_ago', 'lagged_3_choice_ago','lagged_4_choice_ago']).values"
   ]
  },
  {
   "cell_type": "code",
   "execution_count": 474,
   "id": "6a81668a-792b-4d01-b1a3-6cbae558ff04",
   "metadata": {},
   "outputs": [],
   "source": [
    "y_sc_lfc = group_scaled[group_scaled['Choice Output'] > 1]['Choice Output'].values"
   ]
  },
  {
   "cell_type": "code",
   "execution_count": 475,
   "id": "f2d95756-7d0f-404e-876a-72b2b904b0c3",
   "metadata": {},
   "outputs": [],
   "source": [
    "X_train_slfc, X_test_slfc, y_train_slfc, y_test_slfc = train_test_split(x_sc_lfc, y_sc_lfc, test_size=0.2, random_state=50)"
   ]
  },
  {
   "cell_type": "code",
   "execution_count": 488,
   "id": "efbd5301-6230-42b2-aebe-29aff10754e5",
   "metadata": {},
   "outputs": [],
   "source": [
    "modslfc = GradientBoostingClassifier(n_estimators = 100, max_depth=4, learning_rate=0.1)\n",
    "modslfc.fit(X_train_slfc, y_train_slfc)\n",
    "# make a single prediction\n",
    "y_pred_slfc = modslfc.predict(X_test_slfc)"
   ]
  },
  {
   "cell_type": "code",
   "execution_count": 489,
   "id": "60609b20-dbf0-491d-a5fd-9261d6ee3687",
   "metadata": {},
   "outputs": [
    {
     "name": "stdout",
     "output_type": "stream",
     "text": [
      "0.6677232546134985\n"
     ]
    }
   ],
   "source": [
    "print(f1_score(y_test_slfc, y_pred_slfc, average = 'weighted'))"
   ]
  },
  {
   "cell_type": "code",
   "execution_count": 490,
   "id": "55eff974-101c-4ae8-82a6-872c8f6b241c",
   "metadata": {},
   "outputs": [
    {
     "name": "stdout",
     "output_type": "stream",
     "text": [
      "0.6724590373783923\n"
     ]
    }
   ],
   "source": [
    "print(precision_score(y_test_slfc, y_pred_slfc,average='weighted'))"
   ]
  },
  {
   "cell_type": "code",
   "execution_count": 491,
   "id": "87b761ee-7746-40c2-b4d1-6c5f966409f3",
   "metadata": {},
   "outputs": [],
   "source": [
    "cf_matrixslfc = confusion_matrix(y_test_slfc, y_pred_slfc)"
   ]
  },
  {
   "cell_type": "code",
   "execution_count": 492,
   "id": "22970f3a-fd25-492b-bd19-4159506a415d",
   "metadata": {},
   "outputs": [
    {
     "data": {
      "text/plain": [
       "array([[ 9,  1,  2,  0],\n",
       "       [ 0, 24,  5,  3],\n",
       "       [ 2,  6, 11,  0],\n",
       "       [ 1,  0,  4,  4]], dtype=int64)"
      ]
     },
     "execution_count": 492,
     "metadata": {},
     "output_type": "execute_result"
    }
   ],
   "source": [
    "cf_matrixslfc"
   ]
  },
  {
   "cell_type": "code",
   "execution_count": 493,
   "id": "619f639f-0c18-46d6-8273-38b8742c5b47",
   "metadata": {},
   "outputs": [
    {
     "data": {
      "text/plain": [
       "<Axes: >"
      ]
     },
     "execution_count": 493,
     "metadata": {},
     "output_type": "execute_result"
    },
    {
     "data": {
      "image/png": "[encoded data removed]",
      "text/plain": [
       "<Figure size 640x480 with 2 Axes>"
      ]
     },
     "metadata": {},
     "output_type": "display_data"
    }
   ],
   "source": [
    "sns.heatmap(data = cf_matrixslfc, cmap=sns.cubehelix_palette(as_cmap=True))"
   ]
  },
  {
   "cell_type": "code",
   "execution_count": 543,
   "id": "9483157d-fcea-4288-bc70-57f1066229d1",
   "metadata": {},
   "outputs": [
    {
     "data": {
      "text/plain": [
       "array([4.23057256e-03, 4.45972227e-03, 1.93696834e-03, 3.47509145e-03,\n",
       "       1.49361879e-02, 9.62931552e-03, 1.89363977e-02, 6.13185838e-03,\n",
       "       6.73314541e-03, 1.42968190e-02, 3.76503897e-03, 1.29289059e-02,\n",
       "       1.00661162e-02, 5.23149613e-03, 3.90160140e-03, 6.87804369e-03,\n",
       "       8.55645158e-03, 2.11148787e-03, 1.06856764e-02, 9.08665917e-03,\n",
       "       2.65386885e-03, 2.71865074e-02, 5.28471605e-03, 6.59419873e-03,\n",
       "       2.43454347e-02, 5.67903787e-03, 1.16637834e-02, 1.29076280e-02,\n",
       "       2.02661180e-02, 5.31482104e-03, 8.87539279e-03, 9.19633480e-03,\n",
       "       7.45418360e-03, 1.27700841e-03, 1.33717258e-02, 7.23933186e-03,\n",
       "       1.55991505e-02, 5.74780556e-03, 4.77627762e-04, 1.09700180e-02,\n",
       "       1.32472842e-02, 1.02517799e-02, 9.79065373e-03, 2.55680441e-02,\n",
       "       1.17838808e-02, 1.68199160e-02, 1.76463274e-02, 1.54012235e-03,\n",
       "       1.70402751e-03, 1.22606030e-02, 3.70510848e-03, 1.68790541e-02,\n",
       "       1.48122674e-02, 1.76546685e-02, 1.56004925e-03, 2.74013758e-03,\n",
       "       5.00138208e-03, 6.07990268e-03, 2.01661829e-03, 4.65905854e-03,\n",
       "       5.67710574e-03, 7.08815889e-03, 6.54129958e-04, 2.83068260e-03,\n",
       "       4.05510717e-03, 1.87445370e-03, 1.87828903e-03, 2.05050524e-03,\n",
       "       1.89090456e-03, 3.07399186e-02, 7.14056832e-02, 8.64719171e-02,\n",
       "       4.29897442e-02, 3.30715635e-03, 1.95057240e-02, 1.58602782e-02,\n",
       "       4.83013518e-02, 8.63736756e-03, 1.41701102e-03, 4.15439598e-04,\n",
       "       1.20521641e-03, 1.02867688e-02, 2.29758253e-04, 7.13560004e-04,\n",
       "       2.01911270e-03, 6.70661582e-03, 2.66218352e-03, 2.53937476e-03,\n",
       "       3.60352392e-03, 1.02988779e-02, 5.41503645e-04, 1.53731580e-03,\n",
       "       1.98252914e-03, 5.60700619e-03, 2.54110593e-03, 2.08545265e-04,\n",
       "       1.60294427e-03, 2.30348287e-03, 4.78240918e-03, 1.95021935e-04,\n",
       "       1.13768801e-04, 2.02308275e-03, 3.93518681e-04, 1.17016610e-03,\n",
       "       1.35892026e-04, 1.05830352e-03, 2.83932358e-03, 6.32202333e-04,\n",
       "       7.29615502e-04, 8.95921744e-03, 1.02319906e-05, 1.25413769e-03,\n",
       "       9.86143222e-04, 1.24803344e-03, 5.55569390e-04, 1.35841031e-04,\n",
       "       3.33403286e-03])"
      ]
     },
     "execution_count": 543,
     "metadata": {},
     "output_type": "execute_result"
    }
   ],
   "source": [
    "modslfc.feature_importances_"
   ]
  },
  {
   "cell_type": "markdown",
   "id": "80651967-33a7-482a-ab81-524e0d7f8890",
   "metadata": {},
   "source": [
    "# only prev choice and lags (no future)"
   ]
  },
  {
   "cell_type": "code",
   "execution_count": 498,
   "id": "eec4fcf6-ff27-4c32-8952-1bff6e7a09ad",
   "metadata": {},
   "outputs": [
    {
     "data": {
      "text/html": [
       "<div>\n",
       "<style scoped>\n",
       "    .dataframe tbody tr th:only-of-type {\n",
       "        vertical-align: middle;\n",
       "    }\n",
       "\n",
       "    .dataframe tbody tr th {\n",
       "        vertical-align: top;\n",
       "    }\n",
       "\n",
       "    .dataframe thead th {\n",
       "        text-align: right;\n",
       "    }\n",
       "</style>\n",
       "<table border=\"1\" class=\"dataframe\">\n",
       "  <thead>\n",
       "    <tr style=\"text-align: right;\">\n",
       "      <th></th>\n",
       "      <th>Duration</th>\n",
       "      <th>lagged_1_duration</th>\n",
       "      <th>lagged_2_duration</th>\n",
       "      <th>lagged_3_duration</th>\n",
       "      <th>lagged_4_duration</th>\n",
       "      <th>Entry Latency</th>\n",
       "      <th>lagged_1_entry_lat</th>\n",
       "      <th>lagged_2_entry_lat</th>\n",
       "      <th>lagged_3_entry_lat</th>\n",
       "      <th>lagged_4_entry_lat</th>\n",
       "      <th>...</th>\n",
       "      <th>5_past_exitmidentry_duration</th>\n",
       "      <th>mean_2_past_exitmidentry_duration</th>\n",
       "      <th>mean_3_past_exitmidentry_duration</th>\n",
       "      <th>mean_4_past_exitmidentry_duration</th>\n",
       "      <th>mean_5_past_exitmidentry_duration</th>\n",
       "      <th>Choice Output</th>\n",
       "      <th>lagged_1_choice_ago</th>\n",
       "      <th>lagged_2_choice_ago</th>\n",
       "      <th>lagged_3_choice_ago</th>\n",
       "      <th>lagged_4_choice_ago</th>\n",
       "    </tr>\n",
       "  </thead>\n",
       "  <tbody>\n",
       "    <tr>\n",
       "      <th>0</th>\n",
       "      <td>0.218849</td>\n",
       "      <td>0.216137</td>\n",
       "      <td>0.213425</td>\n",
       "      <td>0.343616</td>\n",
       "      <td>0.373452</td>\n",
       "      <td>0.288438</td>\n",
       "      <td>0.412187</td>\n",
       "      <td>0.412187</td>\n",
       "      <td>0.505000</td>\n",
       "      <td>0.010000</td>\n",
       "      <td>...</td>\n",
       "      <td>2.120918</td>\n",
       "      <td>0.494898</td>\n",
       "      <td>0.535306</td>\n",
       "      <td>0.527730</td>\n",
       "      <td>0.424184</td>\n",
       "      <td>3</td>\n",
       "      <td>4</td>\n",
       "      <td>3</td>\n",
       "      <td>2</td>\n",
       "      <td>1</td>\n",
       "    </tr>\n",
       "    <tr>\n",
       "      <th>1</th>\n",
       "      <td>0.151041</td>\n",
       "      <td>0.218849</td>\n",
       "      <td>0.216137</td>\n",
       "      <td>0.213425</td>\n",
       "      <td>0.343616</td>\n",
       "      <td>0.319375</td>\n",
       "      <td>0.288438</td>\n",
       "      <td>0.412187</td>\n",
       "      <td>0.412187</td>\n",
       "      <td>0.505000</td>\n",
       "      <td>...</td>\n",
       "      <td>2.575510</td>\n",
       "      <td>0.469643</td>\n",
       "      <td>0.484796</td>\n",
       "      <td>0.517628</td>\n",
       "      <td>0.515102</td>\n",
       "      <td>3</td>\n",
       "      <td>3</td>\n",
       "      <td>4</td>\n",
       "      <td>3</td>\n",
       "      <td>2</td>\n",
       "    </tr>\n",
       "    <tr>\n",
       "      <th>2</th>\n",
       "      <td>0.205288</td>\n",
       "      <td>0.151041</td>\n",
       "      <td>0.218849</td>\n",
       "      <td>0.216137</td>\n",
       "      <td>0.213425</td>\n",
       "      <td>0.505000</td>\n",
       "      <td>0.319375</td>\n",
       "      <td>0.288438</td>\n",
       "      <td>0.412187</td>\n",
       "      <td>0.412187</td>\n",
       "      <td>...</td>\n",
       "      <td>2.636122</td>\n",
       "      <td>0.515102</td>\n",
       "      <td>0.501633</td>\n",
       "      <td>0.505000</td>\n",
       "      <td>0.527224</td>\n",
       "      <td>4</td>\n",
       "      <td>3</td>\n",
       "      <td>3</td>\n",
       "      <td>4</td>\n",
       "      <td>3</td>\n",
       "    </tr>\n",
       "    <tr>\n",
       "      <th>3</th>\n",
       "      <td>0.186301</td>\n",
       "      <td>0.205288</td>\n",
       "      <td>0.151041</td>\n",
       "      <td>0.218849</td>\n",
       "      <td>0.216137</td>\n",
       "      <td>0.474062</td>\n",
       "      <td>0.505000</td>\n",
       "      <td>0.319375</td>\n",
       "      <td>0.288438</td>\n",
       "      <td>0.412187</td>\n",
       "      <td>...</td>\n",
       "      <td>2.525000</td>\n",
       "      <td>0.535306</td>\n",
       "      <td>0.511735</td>\n",
       "      <td>0.502474</td>\n",
       "      <td>0.505000</td>\n",
       "      <td>3</td>\n",
       "      <td>4</td>\n",
       "      <td>3</td>\n",
       "      <td>3</td>\n",
       "      <td>4</td>\n",
       "    </tr>\n",
       "    <tr>\n",
       "      <th>4</th>\n",
       "      <td>0.153753</td>\n",
       "      <td>0.186301</td>\n",
       "      <td>0.205288</td>\n",
       "      <td>0.151041</td>\n",
       "      <td>0.218849</td>\n",
       "      <td>0.969063</td>\n",
       "      <td>0.474062</td>\n",
       "      <td>0.505000</td>\n",
       "      <td>0.319375</td>\n",
       "      <td>0.288438</td>\n",
       "      <td>...</td>\n",
       "      <td>2.838163</td>\n",
       "      <td>0.666633</td>\n",
       "      <td>0.632959</td>\n",
       "      <td>0.590867</td>\n",
       "      <td>0.567633</td>\n",
       "      <td>3</td>\n",
       "      <td>3</td>\n",
       "      <td>4</td>\n",
       "      <td>3</td>\n",
       "      <td>3</td>\n",
       "    </tr>\n",
       "  </tbody>\n",
       "</table>\n",
       "<p>5 rows × 176 columns</p>\n",
       "</div>"
      ],
      "text/plain": [
       "   Duration  lagged_1_duration  lagged_2_duration  lagged_3_duration  \\\n",
       "0  0.218849           0.216137           0.213425           0.343616   \n",
       "1  0.151041           0.218849           0.216137           0.213425   \n",
       "2  0.205288           0.151041           0.218849           0.216137   \n",
       "3  0.186301           0.205288           0.151041           0.218849   \n",
       "4  0.153753           0.186301           0.205288           0.151041   \n",
       "\n",
       "   lagged_4_duration  Entry Latency  lagged_1_entry_lat  lagged_2_entry_lat  \\\n",
       "0           0.373452       0.288438            0.412187            0.412187   \n",
       "1           0.343616       0.319375            0.288438            0.412187   \n",
       "2           0.213425       0.505000            0.319375            0.288438   \n",
       "3           0.216137       0.474062            0.505000            0.319375   \n",
       "4           0.218849       0.969063            0.474062            0.505000   \n",
       "\n",
       "   lagged_3_entry_lat  lagged_4_entry_lat  ...  5_past_exitmidentry_duration  \\\n",
       "0            0.505000            0.010000  ...                      2.120918   \n",
       "1            0.412187            0.505000  ...                      2.575510   \n",
       "2            0.412187            0.412187  ...                      2.636122   \n",
       "3            0.288438            0.412187  ...                      2.525000   \n",
       "4            0.319375            0.288438  ...                      2.838163   \n",
       "\n",
       "   mean_2_past_exitmidentry_duration  mean_3_past_exitmidentry_duration  \\\n",
       "0                           0.494898                           0.535306   \n",
       "1                           0.469643                           0.484796   \n",
       "2                           0.515102                           0.501633   \n",
       "3                           0.535306                           0.511735   \n",
       "4                           0.666633                           0.632959   \n",
       "\n",
       "   mean_4_past_exitmidentry_duration  mean_5_past_exitmidentry_duration  \\\n",
       "0                           0.527730                           0.424184   \n",
       "1                           0.517628                           0.515102   \n",
       "2                           0.505000                           0.527224   \n",
       "3                           0.502474                           0.505000   \n",
       "4                           0.590867                           0.567633   \n",
       "\n",
       "   Choice Output  lagged_1_choice_ago  lagged_2_choice_ago  \\\n",
       "0              3                    4                    3   \n",
       "1              3                    3                    4   \n",
       "2              4                    3                    3   \n",
       "3              3                    4                    3   \n",
       "4              3                    3                    4   \n",
       "\n",
       "   lagged_3_choice_ago  lagged_4_choice_ago  \n",
       "0                    2                    1  \n",
       "1                    3                    2  \n",
       "2                    4                    3  \n",
       "3                    3                    4  \n",
       "4                    3                    3  \n",
       "\n",
       "[5 rows x 176 columns]"
      ]
     },
     "execution_count": 498,
     "metadata": {},
     "output_type": "execute_result"
    }
   ],
   "source": [
    "group_scaled.head()"
   ]
  },
  {
   "cell_type": "code",
   "execution_count": 499,
   "id": "13a97c67-ea2b-4624-bb1b-a4a5afe43e3f",
   "metadata": {},
   "outputs": [],
   "source": [
    "group_scaled = group_scaled.reset_index(drop=True)"
   ]
  },
  {
   "cell_type": "code",
   "execution_count": 500,
   "id": "738f4e0a-82c3-4409-93a9-204ca335df27",
   "metadata": {},
   "outputs": [],
   "source": [
    "x_sc_p= group_scaled.iloc[:,:][group_scaled['Choice Output'] > 1].drop(columns = ['Choice Output', 'Duration', 'Exit Latency', '2_cur_arm_duration',\n",
    "       '3_cur_arm_duration', '4_cur_arm_duration', '5_cur_arm_duration','mean_2_cur_arm_duration', 'mean_3_cur_arm_duration', 'mean_4_cur_arm_duration',\n",
    "        'mean_5_cur_arm_duration','Arm Nose Movement', 'Arm Nose Velocity', 'Arm Tail Movement', 'Arm Tail Velocity', 'lagged_1_current_coeff', \n",
    "        'lagged_2_current_coeff','lagged_3_current_coeff', 'lagged_4_current_coeff','lagged_1_lagged_1_cur_coeff','lagged_2_lagged_1_cur_coeff', \n",
    "        'lagged_3_lagged_1_cur_coeff','lagged_4_lagged_1_cur_coeff','lagged_1_lagged_2_cur_coeff', 'lagged_2_lagged_2_cur_coeff', \n",
    "        'lagged_3_lagged_2_cur_coeff', 'lagged_4_lagged_2_cur_coeff','lagged_1_lagged_3_cur_coeff','lagged_2_lagged_3_cur_coeff', \n",
    "        'lagged_3_lagged_3_cur_coeff','lagged_4_lagged_3_cur_coeff','lagged_1_lagged_4_cur_coeff', 'lagged_2_lagged_4_cur_coeff',\n",
    "        'lagged_3_lagged_4_cur_coeff', 'lagged_4_lagged_4_cur_coeff','lagged_1_current_coeff_time_prop',\n",
    "       'lagged_2_current_coeff_time_prop', 'lagged_3_current_coeff_time_prop','lagged_4_current_coeff_time_prop','lagged_1_lagged_1_cur_coeff_time_prop',\n",
    "       'lagged_2_lagged_1_cur_coeff_time_prop','lagged_3_lagged_1_cur_coeff_time_prop','lagged_4_lagged_1_cur_coeff_time_prop',\n",
    "       'lagged_1_lagged_2_cur_coeff_time_prop','lagged_2_lagged_2_cur_coeff_time_prop','lagged_3_lagged_2_cur_coeff_time_prop',\n",
    "       'lagged_4_lagged_2_cur_coeff_time_prop','lagged_1_lagged_3_cur_coeff_time_prop','lagged_2_lagged_3_cur_coeff_time_prop',\n",
    "       'lagged_3_lagged_3_cur_coeff_time_prop','lagged_4_lagged_3_cur_coeff_time_prop','lagged_1_lagged_4_cur_coeff_time_prop',\n",
    "       'lagged_2_lagged_4_cur_coeff_time_prop','lagged_3_lagged_4_cur_coeff_time_prop','lagged_4_lagged_4_cur_coeff_time_prop', \n",
    "        'lagged_2_duration','lagged_3_duration', 'lagged_4_duration','lagged_1_entry_lat', 'lagged_2_entry_lat', 'lagged_3_entry_lat',\n",
    "       'lagged_4_entry_lat','lagged_2_exit_lat', 'lagged_3_exit_lat', 'lagged_4_exit_lat','lagged_2_arm_nose_mov',\n",
    "       'lagged_3_arm_nose_mov', 'lagged_4_arm_nose_mov','lagged_2_arm_nose_vel','lagged_3_arm_nose_vel', 'lagged_4_arm_nose_vel','lagged_2_arm_tail_mov',\n",
    "       'lagged_3_arm_tail_mov', 'lagged_4_arm_tail_mov','lagged_2_arm_tail_vel','lagged_3_arm_tail_vel', 'lagged_4_arm_tail_vel','lagged_1_mid_duration', \n",
    "        'lagged_2_mid_duration','lagged_3_mid_duration', 'lagged_4_mid_duration','lagged_1_mid_nose_mov','lagged_2_mid_nose_mov', 'lagged_3_mid_nose_mov',\n",
    "       'lagged_4_mid_nose_mov','lagged_1_mid_nose_vel', 'lagged_2_mid_nose_vel','lagged_3_mid_nose_vel', 'lagged_4_mid_nose_vel','lagged_1_mid_tail_mov',\n",
    "       'lagged_2_mid_tail_mov', 'lagged_3_mid_tail_mov','lagged_4_mid_tail_mov', 'lagged_1_mid_tail_vel', 'lagged_2_mid_tail_vel','lagged_3_mid_tail_vel', 'lagged_4_mid_tail_vel', 'ExitMid Duration',\n",
    "       'lagged_1_exitmid_duration', 'lagged_2_exitmid_duration','lagged_3_exitmid_duration', 'lagged_4_exitmid_duration','lagged_1_midentry_duration',\n",
    "       'lagged_2_midentry_duration', 'lagged_3_midentry_duration','lagged_4_midentry_duration', 'lagged_1_exitmidentry_duration', \n",
    "        'lagged_2_exitmidentry_duration','lagged_3_exitmidentry_duration', 'lagged_4_exitmidentry_duration','Lagged 1 Cur Coeff','Lagged 2 Cur Coeff',\n",
    "        'Lagged 3 Cur Coeff','Lagged 4 Cur Coeff','Lagged 1 Cur Coeff Time Proportional','Lagged 2 Cur Coeff Time Proportional',\n",
    "        'Lagged 3 Cur Coeff Time Proportional','Lagged 4 Cur Coeff Time Proportional', '2_cur_arm_duration',\n",
    "       '3_cur_arm_duration', '4_cur_arm_duration', '5_cur_arm_duration',\n",
    "       'mean_2_cur_arm_duration', 'mean_3_cur_arm_duration',\n",
    "       'mean_4_cur_arm_duration', 'mean_5_cur_arm_duration',\n",
    "       '2_past_arm_duration', '3_past_arm_duration', '4_past_arm_duration',\n",
    "       'mean_2_past_arm_duration', 'mean_3_past_arm_duration',\n",
    "       'mean_4_past_arm_duration', '2_past_mid_duration',\n",
    "       '3_past_mid_duration', '4_past_mid_duration', '5_past_mid_duration',\n",
    "       'mean_2_past_mid_duration', 'mean_3_past_mid_duration',\n",
    "       'mean_4_past_mid_duration', 'mean_5_past_mid_duration',\n",
    "       '2_past_exitmid_duration', '3_past_exitmid_duration',\n",
    "       '4_past_exitmid_duration', '5_past_exitmid_duration',\n",
    "       'mean_2_past_exitmid_duration', 'mean_3_past_exitmid_duration',\n",
    "       'mean_4_past_exitmid_duration', 'mean_5_past_exitmid_duration',\n",
    "       '2_past_midentry_duration', '3_past_midentry_duration',\n",
    "       '4_past_midentry_duration', '5_past_midentry_duration',\n",
    "       'mean_2_past_midentry_duration', 'mean_3_past_midentry_duration',\n",
    "       'mean_4_past_midentry_duration', 'mean_5_past_midentry_duration',\n",
    "       '2_past_exitmidentry_duration', '3_past_exitmidentry_duration',\n",
    "       '4_past_exitmidentry_duration', '5_past_exitmidentry_duration',\n",
    "       'mean_2_past_exitmidentry_duration',\n",
    "       'mean_3_past_exitmidentry_duration',\n",
    "       'mean_4_past_exitmidentry_duration',\n",
    "       'mean_5_past_exitmidentry_duration','lagged_2_choice_ago', 'lagged_3_choice_ago',\n",
    "       'lagged_4_choice_ago']).values"
   ]
  },
  {
   "cell_type": "code",
   "execution_count": 505,
   "id": "f33ef883-e860-44d3-8cfc-27cb2f60c2ee",
   "metadata": {},
   "outputs": [],
   "source": [
    "y_sc_p = group_scaled[group_scaled['Choice Output'] > 1]['Choice Output'].values"
   ]
  },
  {
   "cell_type": "code",
   "execution_count": 506,
   "id": "3a47c61d-1f74-47b1-9277-785c698219cd",
   "metadata": {},
   "outputs": [],
   "source": [
    "X_train_sp, X_test_sp, y_train_sp, y_test_sp = train_test_split(x_sc_p, y_sc_p, test_size=0.2, random_state=50)"
   ]
  },
  {
   "cell_type": "code",
   "execution_count": 555,
   "id": "3cdd612a-e3ba-41e6-ac2d-dbad5f5297b6",
   "metadata": {},
   "outputs": [],
   "source": [
    "modsp = GradientBoostingClassifier(n_estimators = 100, max_depth=4, learning_rate=0.075)\n",
    "modsp.fit(X_train_sp, y_train_sp)\n",
    "# make a single prediction\n",
    "y_pred_sp = modsp.predict(X_test_sp)"
   ]
  },
  {
   "cell_type": "code",
   "execution_count": 556,
   "id": "a68271b3-3eec-426f-b361-223a16418a21",
   "metadata": {},
   "outputs": [
    {
     "name": "stdout",
     "output_type": "stream",
     "text": [
      "0.5793912657319431\n"
     ]
    }
   ],
   "source": [
    "print(f1_score(y_test_sp, y_pred_sp, average = 'weighted'))"
   ]
  },
  {
   "cell_type": "code",
   "execution_count": 557,
   "id": "b78fd13c-7022-4da8-8636-961daf1a944d",
   "metadata": {},
   "outputs": [
    {
     "name": "stdout",
     "output_type": "stream",
     "text": [
      "0.6159140338827839\n"
     ]
    }
   ],
   "source": [
    "print(precision_score(y_test_sp, y_pred_sp,average='weighted'))"
   ]
  },
  {
   "cell_type": "code",
   "execution_count": 558,
   "id": "14af993d-795f-415a-a79a-4797a3ec4b45",
   "metadata": {},
   "outputs": [],
   "source": [
    "cf_matrixsp = confusion_matrix(y_test_sp, y_pred_sp)"
   ]
  },
  {
   "cell_type": "code",
   "execution_count": 559,
   "id": "425eec98-6643-4af7-b9bb-e5ef0aca5e28",
   "metadata": {},
   "outputs": [
    {
     "data": {
      "text/plain": [
       "array([[ 4,  4,  3,  1],\n",
       "       [ 2, 18, 12,  0],\n",
       "       [ 1,  2, 15,  1],\n",
       "       [ 0,  2,  2,  5]], dtype=int64)"
      ]
     },
     "execution_count": 559,
     "metadata": {},
     "output_type": "execute_result"
    }
   ],
   "source": [
    "cf_matrixsp"
   ]
  },
  {
   "cell_type": "code",
   "execution_count": 560,
   "id": "19e9ebff-2231-44b9-a3cf-78d00c913c60",
   "metadata": {},
   "outputs": [
    {
     "data": {
      "text/plain": [
       "<Axes: >"
      ]
     },
     "execution_count": 560,
     "metadata": {},
     "output_type": "execute_result"
    },
    {
     "data": {
      "image/png": "[encoded data removed]",
      "text/plain": [
       "<Figure size 640x480 with 2 Axes>"
      ]
     },
     "metadata": {},
     "output_type": "display_data"
    }
   ],
   "source": [
    "sns.heatmap(data = cf_matrixsp, cmap=sns.cubehelix_palette(as_cmap=True))"
   ]
  },
  {
   "cell_type": "code",
   "execution_count": 564,
   "id": "f8d665a0-0577-475f-9742-2082e0172d39",
   "metadata": {},
   "outputs": [
    {
     "data": {
      "text/plain": [
       "array([0.03027614, 0.04655842, 0.04053107, 0.05323035, 0.06586304,\n",
       "       0.06554325, 0.07121924, 0.03261498, 0.04532743, 0.04351092,\n",
       "       0.03435482, 0.05677524, 0.04630094, 0.04800539, 0.07984688,\n",
       "       0.04661728, 0.19342462])"
      ]
     },
     "execution_count": 564,
     "metadata": {},
     "output_type": "execute_result"
    }
   ],
   "source": [
    "modsp.feature_importances_"
   ]
  },
  {
   "cell_type": "code",
   "execution_count": null,
   "id": "10346a12-e096-4215-8b3f-e35b7e8b31b3",
   "metadata": {},
   "outputs": [],
   "source": []
  },
  {
   "cell_type": "markdown",
   "id": "6fa51036-49e9-4097-a1a8-f44ca89e0297",
   "metadata": {},
   "source": [
    "# only prev choice and lags (no future) no prev choice"
   ]
  },
  {
   "cell_type": "code",
   "execution_count": 498,
   "id": "cf312e44-6efa-47ed-92c3-25091fcfa706",
   "metadata": {},
   "outputs": [
    {
     "data": {
      "text/html": [
       "<div>\n",
       "<style scoped>\n",
       "    .dataframe tbody tr th:only-of-type {\n",
       "        vertical-align: middle;\n",
       "    }\n",
       "\n",
       "    .dataframe tbody tr th {\n",
       "        vertical-align: top;\n",
       "    }\n",
       "\n",
       "    .dataframe thead th {\n",
       "        text-align: right;\n",
       "    }\n",
       "</style>\n",
       "<table border=\"1\" class=\"dataframe\">\n",
       "  <thead>\n",
       "    <tr style=\"text-align: right;\">\n",
       "      <th></th>\n",
       "      <th>Duration</th>\n",
       "      <th>lagged_1_duration</th>\n",
       "      <th>lagged_2_duration</th>\n",
       "      <th>lagged_3_duration</th>\n",
       "      <th>lagged_4_duration</th>\n",
       "      <th>Entry Latency</th>\n",
       "      <th>lagged_1_entry_lat</th>\n",
       "      <th>lagged_2_entry_lat</th>\n",
       "      <th>lagged_3_entry_lat</th>\n",
       "      <th>lagged_4_entry_lat</th>\n",
       "      <th>...</th>\n",
       "      <th>5_past_exitmidentry_duration</th>\n",
       "      <th>mean_2_past_exitmidentry_duration</th>\n",
       "      <th>mean_3_past_exitmidentry_duration</th>\n",
       "      <th>mean_4_past_exitmidentry_duration</th>\n",
       "      <th>mean_5_past_exitmidentry_duration</th>\n",
       "      <th>Choice Output</th>\n",
       "      <th>lagged_1_choice_ago</th>\n",
       "      <th>lagged_2_choice_ago</th>\n",
       "      <th>lagged_3_choice_ago</th>\n",
       "      <th>lagged_4_choice_ago</th>\n",
       "    </tr>\n",
       "  </thead>\n",
       "  <tbody>\n",
       "    <tr>\n",
       "      <th>0</th>\n",
       "      <td>0.218849</td>\n",
       "      <td>0.216137</td>\n",
       "      <td>0.213425</td>\n",
       "      <td>0.343616</td>\n",
       "      <td>0.373452</td>\n",
       "      <td>0.288438</td>\n",
       "      <td>0.412187</td>\n",
       "      <td>0.412187</td>\n",
       "      <td>0.505000</td>\n",
       "      <td>0.010000</td>\n",
       "      <td>...</td>\n",
       "      <td>2.120918</td>\n",
       "      <td>0.494898</td>\n",
       "      <td>0.535306</td>\n",
       "      <td>0.527730</td>\n",
       "      <td>0.424184</td>\n",
       "      <td>3</td>\n",
       "      <td>4</td>\n",
       "      <td>3</td>\n",
       "      <td>2</td>\n",
       "      <td>1</td>\n",
       "    </tr>\n",
       "    <tr>\n",
       "      <th>1</th>\n",
       "      <td>0.151041</td>\n",
       "      <td>0.218849</td>\n",
       "      <td>0.216137</td>\n",
       "      <td>0.213425</td>\n",
       "      <td>0.343616</td>\n",
       "      <td>0.319375</td>\n",
       "      <td>0.288438</td>\n",
       "      <td>0.412187</td>\n",
       "      <td>0.412187</td>\n",
       "      <td>0.505000</td>\n",
       "      <td>...</td>\n",
       "      <td>2.575510</td>\n",
       "      <td>0.469643</td>\n",
       "      <td>0.484796</td>\n",
       "      <td>0.517628</td>\n",
       "      <td>0.515102</td>\n",
       "      <td>3</td>\n",
       "      <td>3</td>\n",
       "      <td>4</td>\n",
       "      <td>3</td>\n",
       "      <td>2</td>\n",
       "    </tr>\n",
       "    <tr>\n",
       "      <th>2</th>\n",
       "      <td>0.205288</td>\n",
       "      <td>0.151041</td>\n",
       "      <td>0.218849</td>\n",
       "      <td>0.216137</td>\n",
       "      <td>0.213425</td>\n",
       "      <td>0.505000</td>\n",
       "      <td>0.319375</td>\n",
       "      <td>0.288438</td>\n",
       "      <td>0.412187</td>\n",
       "      <td>0.412187</td>\n",
       "      <td>...</td>\n",
       "      <td>2.636122</td>\n",
       "      <td>0.515102</td>\n",
       "      <td>0.501633</td>\n",
       "      <td>0.505000</td>\n",
       "      <td>0.527224</td>\n",
       "      <td>4</td>\n",
       "      <td>3</td>\n",
       "      <td>3</td>\n",
       "      <td>4</td>\n",
       "      <td>3</td>\n",
       "    </tr>\n",
       "    <tr>\n",
       "      <th>3</th>\n",
       "      <td>0.186301</td>\n",
       "      <td>0.205288</td>\n",
       "      <td>0.151041</td>\n",
       "      <td>0.218849</td>\n",
       "      <td>0.216137</td>\n",
       "      <td>0.474062</td>\n",
       "      <td>0.505000</td>\n",
       "      <td>0.319375</td>\n",
       "      <td>0.288438</td>\n",
       "      <td>0.412187</td>\n",
       "      <td>...</td>\n",
       "      <td>2.525000</td>\n",
       "      <td>0.535306</td>\n",
       "      <td>0.511735</td>\n",
       "      <td>0.502474</td>\n",
       "      <td>0.505000</td>\n",
       "      <td>3</td>\n",
       "      <td>4</td>\n",
       "      <td>3</td>\n",
       "      <td>3</td>\n",
       "      <td>4</td>\n",
       "    </tr>\n",
       "    <tr>\n",
       "      <th>4</th>\n",
       "      <td>0.153753</td>\n",
       "      <td>0.186301</td>\n",
       "      <td>0.205288</td>\n",
       "      <td>0.151041</td>\n",
       "      <td>0.218849</td>\n",
       "      <td>0.969063</td>\n",
       "      <td>0.474062</td>\n",
       "      <td>0.505000</td>\n",
       "      <td>0.319375</td>\n",
       "      <td>0.288438</td>\n",
       "      <td>...</td>\n",
       "      <td>2.838163</td>\n",
       "      <td>0.666633</td>\n",
       "      <td>0.632959</td>\n",
       "      <td>0.590867</td>\n",
       "      <td>0.567633</td>\n",
       "      <td>3</td>\n",
       "      <td>3</td>\n",
       "      <td>4</td>\n",
       "      <td>3</td>\n",
       "      <td>3</td>\n",
       "    </tr>\n",
       "  </tbody>\n",
       "</table>\n",
       "<p>5 rows × 176 columns</p>\n",
       "</div>"
      ],
      "text/plain": [
       "   Duration  lagged_1_duration  lagged_2_duration  lagged_3_duration  \\\n",
       "0  0.218849           0.216137           0.213425           0.343616   \n",
       "1  0.151041           0.218849           0.216137           0.213425   \n",
       "2  0.205288           0.151041           0.218849           0.216137   \n",
       "3  0.186301           0.205288           0.151041           0.218849   \n",
       "4  0.153753           0.186301           0.205288           0.151041   \n",
       "\n",
       "   lagged_4_duration  Entry Latency  lagged_1_entry_lat  lagged_2_entry_lat  \\\n",
       "0           0.373452       0.288438            0.412187            0.412187   \n",
       "1           0.343616       0.319375            0.288438            0.412187   \n",
       "2           0.213425       0.505000            0.319375            0.288438   \n",
       "3           0.216137       0.474062            0.505000            0.319375   \n",
       "4           0.218849       0.969063            0.474062            0.505000   \n",
       "\n",
       "   lagged_3_entry_lat  lagged_4_entry_lat  ...  5_past_exitmidentry_duration  \\\n",
       "0            0.505000            0.010000  ...                      2.120918   \n",
       "1            0.412187            0.505000  ...                      2.575510   \n",
       "2            0.412187            0.412187  ...                      2.636122   \n",
       "3            0.288438            0.412187  ...                      2.525000   \n",
       "4            0.319375            0.288438  ...                      2.838163   \n",
       "\n",
       "   mean_2_past_exitmidentry_duration  mean_3_past_exitmidentry_duration  \\\n",
       "0                           0.494898                           0.535306   \n",
       "1                           0.469643                           0.484796   \n",
       "2                           0.515102                           0.501633   \n",
       "3                           0.535306                           0.511735   \n",
       "4                           0.666633                           0.632959   \n",
       "\n",
       "   mean_4_past_exitmidentry_duration  mean_5_past_exitmidentry_duration  \\\n",
       "0                           0.527730                           0.424184   \n",
       "1                           0.517628                           0.515102   \n",
       "2                           0.505000                           0.527224   \n",
       "3                           0.502474                           0.505000   \n",
       "4                           0.590867                           0.567633   \n",
       "\n",
       "   Choice Output  lagged_1_choice_ago  lagged_2_choice_ago  \\\n",
       "0              3                    4                    3   \n",
       "1              3                    3                    4   \n",
       "2              4                    3                    3   \n",
       "3              3                    4                    3   \n",
       "4              3                    3                    4   \n",
       "\n",
       "   lagged_3_choice_ago  lagged_4_choice_ago  \n",
       "0                    2                    1  \n",
       "1                    3                    2  \n",
       "2                    4                    3  \n",
       "3                    3                    4  \n",
       "4                    3                    3  \n",
       "\n",
       "[5 rows x 176 columns]"
      ]
     },
     "execution_count": 498,
     "metadata": {},
     "output_type": "execute_result"
    }
   ],
   "source": [
    "group_scaled.head()"
   ]
  },
  {
   "cell_type": "code",
   "execution_count": 499,
   "id": "ebeb76f1-c77c-4762-9774-378a75d58a6a",
   "metadata": {},
   "outputs": [],
   "source": [
    "group_scaled = group_scaled.reset_index(drop=True)"
   ]
  },
  {
   "cell_type": "code",
   "execution_count": 728,
   "id": "005c9626-77da-460d-a50d-c3d24822b9ec",
   "metadata": {},
   "outputs": [],
   "source": [
    "x_sc_p1= group_scaled.iloc[:,:][group_scaled['Choice Output'] > 1].drop(columns = ['Choice Output', 'Duration', 'Exit Latency', '2_cur_arm_duration',\n",
    "       '3_cur_arm_duration', '4_cur_arm_duration', '5_cur_arm_duration','mean_2_cur_arm_duration', 'mean_3_cur_arm_duration', 'mean_4_cur_arm_duration',\n",
    "        'mean_5_cur_arm_duration','Arm Nose Movement', 'Arm Nose Velocity', 'Arm Tail Movement', 'Arm Tail Velocity', 'lagged_1_current_coeff', \n",
    "        'lagged_2_current_coeff','lagged_3_current_coeff', 'lagged_4_current_coeff','lagged_1_lagged_1_cur_coeff','lagged_2_lagged_1_cur_coeff', \n",
    "        'lagged_3_lagged_1_cur_coeff','lagged_4_lagged_1_cur_coeff','lagged_1_lagged_2_cur_coeff', 'lagged_2_lagged_2_cur_coeff', \n",
    "        'lagged_3_lagged_2_cur_coeff', 'lagged_4_lagged_2_cur_coeff','lagged_1_lagged_3_cur_coeff','lagged_2_lagged_3_cur_coeff', \n",
    "        'lagged_3_lagged_3_cur_coeff','lagged_4_lagged_3_cur_coeff','lagged_1_lagged_4_cur_coeff', 'lagged_2_lagged_4_cur_coeff',\n",
    "        'lagged_3_lagged_4_cur_coeff', 'lagged_4_lagged_4_cur_coeff','lagged_1_current_coeff_time_prop',\n",
    "       'lagged_2_current_coeff_time_prop', 'lagged_3_current_coeff_time_prop','lagged_4_current_coeff_time_prop','lagged_1_lagged_1_cur_coeff_time_prop',\n",
    "       'lagged_2_lagged_1_cur_coeff_time_prop','lagged_3_lagged_1_cur_coeff_time_prop','lagged_4_lagged_1_cur_coeff_time_prop',\n",
    "       'lagged_1_lagged_2_cur_coeff_time_prop','lagged_2_lagged_2_cur_coeff_time_prop','lagged_3_lagged_2_cur_coeff_time_prop',\n",
    "       'lagged_4_lagged_2_cur_coeff_time_prop','lagged_1_lagged_3_cur_coeff_time_prop','lagged_2_lagged_3_cur_coeff_time_prop',\n",
    "       'lagged_3_lagged_3_cur_coeff_time_prop','lagged_4_lagged_3_cur_coeff_time_prop','lagged_1_lagged_4_cur_coeff_time_prop',\n",
    "       'lagged_2_lagged_4_cur_coeff_time_prop','lagged_3_lagged_4_cur_coeff_time_prop','lagged_4_lagged_4_cur_coeff_time_prop', \n",
    "        'lagged_2_duration','lagged_3_duration', 'lagged_4_duration','lagged_1_entry_lat', 'lagged_2_entry_lat', 'lagged_3_entry_lat',\n",
    "       'lagged_4_entry_lat','lagged_2_exit_lat', 'lagged_3_exit_lat', 'lagged_4_exit_lat','lagged_2_arm_nose_mov',\n",
    "       'lagged_3_arm_nose_mov', 'lagged_4_arm_nose_mov','lagged_2_arm_nose_vel','lagged_3_arm_nose_vel', 'lagged_4_arm_nose_vel','lagged_2_arm_tail_mov',\n",
    "       'lagged_3_arm_tail_mov', 'lagged_4_arm_tail_mov','lagged_2_arm_tail_vel','lagged_3_arm_tail_vel', 'lagged_4_arm_tail_vel','lagged_1_mid_duration', \n",
    "        'lagged_2_mid_duration','lagged_3_mid_duration', 'lagged_4_mid_duration','lagged_1_mid_nose_mov','lagged_2_mid_nose_mov', 'lagged_3_mid_nose_mov',\n",
    "       'lagged_4_mid_nose_mov','lagged_1_mid_nose_vel', 'lagged_2_mid_nose_vel','lagged_3_mid_nose_vel', 'lagged_4_mid_nose_vel','lagged_1_mid_tail_mov',\n",
    "       'lagged_2_mid_tail_mov', 'lagged_3_mid_tail_mov','lagged_4_mid_tail_mov', 'lagged_1_mid_tail_vel', 'lagged_2_mid_tail_vel','lagged_3_mid_tail_vel', 'lagged_4_mid_tail_vel', 'ExitMid Duration',\n",
    "       'lagged_1_exitmid_duration', 'lagged_2_exitmid_duration','lagged_3_exitmid_duration', 'lagged_4_exitmid_duration','lagged_1_midentry_duration',\n",
    "       'lagged_2_midentry_duration', 'lagged_3_midentry_duration','lagged_4_midentry_duration', 'lagged_1_exitmidentry_duration', \n",
    "        'lagged_2_exitmidentry_duration','lagged_3_exitmidentry_duration', 'lagged_4_exitmidentry_duration','Lagged 1 Cur Coeff','Lagged 2 Cur Coeff',\n",
    "        'Lagged 3 Cur Coeff','Lagged 4 Cur Coeff','Lagged 1 Cur Coeff Time Proportional','Lagged 2 Cur Coeff Time Proportional',\n",
    "        'Lagged 3 Cur Coeff Time Proportional','Lagged 4 Cur Coeff Time Proportional', '2_cur_arm_duration',\n",
    "       '3_cur_arm_duration', '4_cur_arm_duration', '5_cur_arm_duration',\n",
    "       'mean_2_cur_arm_duration', 'mean_3_cur_arm_duration',\n",
    "       'mean_4_cur_arm_duration', 'mean_5_cur_arm_duration',\n",
    "       '2_past_arm_duration', '3_past_arm_duration', '4_past_arm_duration',\n",
    "       'mean_2_past_arm_duration', 'mean_3_past_arm_duration',\n",
    "       'mean_4_past_arm_duration', '2_past_mid_duration',\n",
    "       '3_past_mid_duration', '4_past_mid_duration', '5_past_mid_duration',\n",
    "       'mean_2_past_mid_duration', 'mean_3_past_mid_duration',\n",
    "       'mean_4_past_mid_duration', 'mean_5_past_mid_duration',\n",
    "       '2_past_exitmid_duration', '3_past_exitmid_duration',\n",
    "       '4_past_exitmid_duration', '5_past_exitmid_duration',\n",
    "       'mean_2_past_exitmid_duration', 'mean_3_past_exitmid_duration',\n",
    "       'mean_4_past_exitmid_duration', 'mean_5_past_exitmid_duration',\n",
    "       '2_past_midentry_duration', '3_past_midentry_duration',\n",
    "       '4_past_midentry_duration', '5_past_midentry_duration',\n",
    "       'mean_2_past_midentry_duration', 'mean_3_past_midentry_duration',\n",
    "       'mean_4_past_midentry_duration', 'mean_5_past_midentry_duration',\n",
    "       '2_past_exitmidentry_duration', '3_past_exitmidentry_duration',\n",
    "       '4_past_exitmidentry_duration', '5_past_exitmidentry_duration',\n",
    "       'mean_2_past_exitmidentry_duration',\n",
    "       'mean_3_past_exitmidentry_duration',\n",
    "       'mean_4_past_exitmidentry_duration',\n",
    "       'mean_5_past_exitmidentry_duration', 'lagged_1_choice_ago','lagged_2_choice_ago', 'lagged_3_choice_ago',\n",
    "       'lagged_4_choice_ago']).values"
   ]
  },
  {
   "cell_type": "code",
   "execution_count": 2,
   "id": "800d47b7-7960-42c8-8354-8b93b6ad5eea",
   "metadata": {},
   "outputs": [
    {
     "ename": "SyntaxError",
     "evalue": "invalid syntax (1207479438.py, line 1)",
     "output_type": "error",
     "traceback": [
      "\u001b[1;36m  Cell \u001b[1;32mIn[2], line 1\u001b[1;36m\u001b[0m\n\u001b[1;33m    y_sc_p1 = group_scaled[group_scaled['Choice Output'] > 1]['Choice Output'].values|\u001b[0m\n\u001b[1;37m                                                                                      ^\u001b[0m\n\u001b[1;31mSyntaxError\u001b[0m\u001b[1;31m:\u001b[0m invalid syntax\n"
     ]
    }
   ],
   "source": [
    "y_sc_p1 = group_scaled[group_scaled['Choice Output'] > 1]['Choice Output'].values|"
   ]
  },
  {
   "cell_type": "code",
   "execution_count": 3,
   "id": "a44fe023-9b9b-4255-9119-680892a709d0",
   "metadata": {},
   "outputs": [
    {
     "ename": "NameError",
     "evalue": "name 'y_sc_p1' is not defined",
     "output_type": "error",
     "traceback": [
      "\u001b[1;31m---------------------------------------------------------------------------\u001b[0m",
      "\u001b[1;31mNameError\u001b[0m                                 Traceback (most recent call last)",
      "Cell \u001b[1;32mIn[3], line 1\u001b[0m\n\u001b[1;32m----> 1\u001b[0m y_sc_p1\u001b[38;5;241m.\u001b[39msize\n",
      "\u001b[1;31mNameError\u001b[0m: name 'y_sc_p1' is not defined"
     ]
    }
   ],
   "source": [
    "y_sc_p1.size"
   ]
  },
  {
   "cell_type": "code",
   "execution_count": 731,
   "id": "624a0d83-5712-46f3-a6e2-da13fbdcbfa7",
   "metadata": {},
   "outputs": [],
   "source": [
    "X_train_sp1, X_test_sp1, y_train_sp1, y_test_sp1 = train_test_split(x_sc_p1, y_sc_p1, test_size=0.2, random_state=50)"
   ]
  },
  {
   "cell_type": "code",
   "execution_count": 732,
   "id": "a6afe4ea-016b-46b1-8f3f-9a4bcdc56901",
   "metadata": {},
   "outputs": [],
   "source": [
    "modsp1 = GradientBoostingClassifier(n_estimators = 100, max_depth=4, learning_rate=0.075)\n",
    "modsp1.fit(X_train_sp1, y_train_sp1)\n",
    "# make a single prediction\n",
    "y_pred_sp1 = modsp1.predict(X_test_sp1)"
   ]
  },
  {
   "cell_type": "code",
   "execution_count": 733,
   "id": "d8eb3204-301d-4ed3-841e-1f78b9c6165d",
   "metadata": {},
   "outputs": [
    {
     "name": "stdout",
     "output_type": "stream",
     "text": [
      "0.4142886979353145\n"
     ]
    }
   ],
   "source": [
    "print(f1_score(y_test_sp1, y_pred_sp1, average = 'weighted'))"
   ]
  },
  {
   "cell_type": "code",
   "execution_count": 734,
   "id": "aa2508fd-430b-4400-93be-d2dc18d6584d",
   "metadata": {},
   "outputs": [
    {
     "name": "stdout",
     "output_type": "stream",
     "text": [
      "0.4332407407407407\n"
     ]
    }
   ],
   "source": [
    "print(precision_score(y_test_sp1, y_pred_sp1,average='weighted'))"
   ]
  },
  {
   "cell_type": "code",
   "execution_count": 736,
   "id": "beb1dee2-6c06-406c-9269-4b454846848f",
   "metadata": {},
   "outputs": [],
   "source": [
    "cf_matrixsp1 = confusion_matrix(y_test_sp1, y_pred_sp1)"
   ]
  },
  {
   "cell_type": "code",
   "execution_count": 737,
   "id": "461eba7a-6c2a-4a75-baf9-4c758271432d",
   "metadata": {},
   "outputs": [
    {
     "data": {
      "text/plain": [
       "array([[ 3,  4,  4,  1],\n",
       "       [ 3, 12, 15,  2],\n",
       "       [ 2,  6, 10,  1],\n",
       "       [ 0,  3,  1,  5]], dtype=int64)"
      ]
     },
     "execution_count": 737,
     "metadata": {},
     "output_type": "execute_result"
    }
   ],
   "source": [
    "cf_matrixsp1"
   ]
  },
  {
   "cell_type": "code",
   "execution_count": 738,
   "id": "a7f3b519-6109-4753-8737-385db04c8e2e",
   "metadata": {},
   "outputs": [
    {
     "data": {
      "text/plain": [
       "<Axes: >"
      ]
     },
     "execution_count": 738,
     "metadata": {},
     "output_type": "execute_result"
    },
    {
     "data": {
      "image/png": "[encoded data removed]",
      "text/plain": [
       "<Figure size 640x480 with 2 Axes>"
      ]
     },
     "metadata": {},
     "output_type": "display_data"
    }
   ],
   "source": [
    "sns.heatmap(data = cf_matrixsp1, cmap=sns.cubehelix_palette(as_cmap=True))"
   ]
  },
  {
   "cell_type": "code",
   "execution_count": 739,
   "id": "4ae27563-b4fa-461a-b217-151883ca9386",
   "metadata": {},
   "outputs": [
    {
     "data": {
      "text/plain": [
       "array([0.0484396 , 0.06785843, 0.05873584, 0.09264714, 0.06110581,\n",
       "       0.06362814, 0.06982292, 0.03918366, 0.06691604, 0.04059927,\n",
       "       0.04930788, 0.0812922 , 0.04987287, 0.06057239, 0.07780939,\n",
       "       0.07220843])"
      ]
     },
     "execution_count": 739,
     "metadata": {},
     "output_type": "execute_result"
    }
   ],
   "source": [
    "modsp1.feature_importances_"
   ]
  },
  {
   "cell_type": "markdown",
   "id": "1b6b41c1-dfe3-4c85-a3f9-b0d850a474e3",
   "metadata": {},
   "source": [
    "# scaled but no future"
   ]
  },
  {
   "cell_type": "code",
   "execution_count": 471,
   "id": "00e52a8a-a302-46e8-b5b0-489782f10889",
   "metadata": {},
   "outputs": [
    {
     "data": {
      "text/plain": [
       "Index(['Duration', 'lagged_1_duration', 'lagged_2_duration',\n",
       "       'lagged_3_duration', 'lagged_4_duration', 'Entry Latency',\n",
       "       'lagged_1_entry_lat', 'lagged_2_entry_lat', 'lagged_3_entry_lat',\n",
       "       'lagged_4_entry_lat',\n",
       "       ...\n",
       "       '5_past_exitmidentry_duration', 'mean_2_past_exitmidentry_duration',\n",
       "       'mean_3_past_exitmidentry_duration',\n",
       "       'mean_4_past_exitmidentry_duration',\n",
       "       'mean_5_past_exitmidentry_duration', 'Choice Output',\n",
       "       'lagged_1_choice_ago', 'lagged_2_choice_ago', 'lagged_3_choice_ago',\n",
       "       'lagged_4_choice_ago'],\n",
       "      dtype='object', length=176)"
      ]
     },
     "execution_count": 471,
     "metadata": {},
     "output_type": "execute_result"
    }
   ],
   "source": [
    "group_scaled.columns"
   ]
  },
  {
   "cell_type": "code",
   "execution_count": 469,
   "id": "71d996a5-16b4-4795-b773-94d5a9da6896",
   "metadata": {},
   "outputs": [],
   "source": [
    "group_scaled = group_scaled.reset_index(drop=True)"
   ]
  },
  {
   "cell_type": "code",
   "execution_count": 565,
   "id": "1e3320e7-b8f6-493e-902b-488c8dfb0a01",
   "metadata": {},
   "outputs": [],
   "source": [
    "x_sc_f= group_scaled.iloc[:,:][group_scaled['Choice Output'] > 1].drop(columns = ['Choice Output', 'Duration', 'Exit Latency', '2_cur_arm_duration',\n",
    "       '3_cur_arm_duration', '4_cur_arm_duration', '5_cur_arm_duration','mean_2_cur_arm_duration', 'mean_3_cur_arm_duration', 'mean_4_cur_arm_duration',\n",
    "        'mean_5_cur_arm_duration','Arm Nose Movement', 'Arm Nose Velocity', 'Arm Tail Movement', 'Arm Tail Velocity','lagged_1_lagged_1_cur_coeff',\n",
    "        'lagged_2_lagged_1_cur_coeff', \n",
    "        'lagged_3_lagged_1_cur_coeff','lagged_4_lagged_1_cur_coeff','lagged_1_lagged_2_cur_coeff', 'lagged_2_lagged_2_cur_coeff', \n",
    "        'lagged_3_lagged_2_cur_coeff', 'lagged_4_lagged_2_cur_coeff','lagged_1_lagged_3_cur_coeff','lagged_2_lagged_3_cur_coeff', \n",
    "        'lagged_3_lagged_3_cur_coeff','lagged_4_lagged_3_cur_coeff','lagged_1_lagged_4_cur_coeff', 'lagged_2_lagged_4_cur_coeff',\n",
    "        'lagged_3_lagged_4_cur_coeff', 'lagged_4_lagged_4_cur_coeff','lagged_1_lagged_1_cur_coeff_time_prop',\n",
    "       'lagged_2_lagged_1_cur_coeff_time_prop','lagged_3_lagged_1_cur_coeff_time_prop','lagged_4_lagged_1_cur_coeff_time_prop',\n",
    "       'lagged_1_lagged_2_cur_coeff_time_prop','lagged_2_lagged_2_cur_coeff_time_prop','lagged_3_lagged_2_cur_coeff_time_prop',\n",
    "       'lagged_4_lagged_2_cur_coeff_time_prop','lagged_1_lagged_3_cur_coeff_time_prop','lagged_2_lagged_3_cur_coeff_time_prop',\n",
    "       'lagged_3_lagged_3_cur_coeff_time_prop','lagged_4_lagged_3_cur_coeff_time_prop','lagged_1_lagged_4_cur_coeff_time_prop',\n",
    "       'lagged_2_lagged_4_cur_coeff_time_prop','lagged_3_lagged_4_cur_coeff_time_prop','lagged_4_lagged_4_cur_coeff_time_prop', ]).values"
   ]
  },
  {
   "cell_type": "code",
   "execution_count": 566,
   "id": "8f6af811-6af0-4edc-984f-4dca0fb65d46",
   "metadata": {},
   "outputs": [],
   "source": [
    "y_sc_f = group_scaled[group_scaled['Choice Output'] > 1]['Choice Output'].values"
   ]
  },
  {
   "cell_type": "code",
   "execution_count": 573,
   "id": "1b6e626a-8da9-44fd-a789-7603342ee71a",
   "metadata": {},
   "outputs": [],
   "source": [
    "X_train_f, X_test_f, y_train_f, y_test_f = train_test_split(x_sc_f, y_sc_f, test_size=0.2, random_state=50)"
   ]
  },
  {
   "cell_type": "code",
   "execution_count": 574,
   "id": "58a39712-c7f5-4207-b5e5-a5fc0c137fdd",
   "metadata": {},
   "outputs": [],
   "source": [
    "modsf = GradientBoostingClassifier(n_estimators = 100, max_depth=4, learning_rate=0.1)\n",
    "modsf.fit(X_train_f, y_train_f)\n",
    "# make a single prediction\n",
    "y_pred_f = modsf.predict(X_test_f)"
   ]
  },
  {
   "cell_type": "code",
   "execution_count": 575,
   "id": "14ea3e0d-89d7-4ac6-b900-02cee301672c",
   "metadata": {},
   "outputs": [
    {
     "name": "stdout",
     "output_type": "stream",
     "text": [
      "0.8001185709519043\n"
     ]
    }
   ],
   "source": [
    "print(f1_score(y_test_f, y_pred_f, average = 'weighted'))"
   ]
  },
  {
   "cell_type": "code",
   "execution_count": 576,
   "id": "23eb726c-e300-458a-894c-12dfc1de369a",
   "metadata": {},
   "outputs": [
    {
     "name": "stdout",
     "output_type": "stream",
     "text": [
      "0.8031091767650909\n"
     ]
    }
   ],
   "source": [
    "print(precision_score(y_test_f, y_pred_f,average='weighted'))"
   ]
  },
  {
   "cell_type": "code",
   "execution_count": 577,
   "id": "a31475d2-f16f-4f66-9a56-d4c90bcb68dd",
   "metadata": {},
   "outputs": [],
   "source": [
    "cf_matrixsf = confusion_matrix(y_test_f, y_pred_f)"
   ]
  },
  {
   "cell_type": "code",
   "execution_count": 578,
   "id": "86cbff39-8be5-413c-92a3-88e125e1d994",
   "metadata": {},
   "outputs": [
    {
     "data": {
      "text/plain": [
       "array([[12,  0,  0,  0],\n",
       "       [ 1, 28,  1,  2],\n",
       "       [ 1,  3, 14,  1],\n",
       "       [ 2,  0,  3,  4]], dtype=int64)"
      ]
     },
     "execution_count": 578,
     "metadata": {},
     "output_type": "execute_result"
    }
   ],
   "source": [
    "cf_matrixsf"
   ]
  },
  {
   "cell_type": "code",
   "execution_count": 579,
   "id": "602000dc-ddae-46be-9155-8cc07a9f1fe7",
   "metadata": {},
   "outputs": [
    {
     "data": {
      "text/plain": [
       "<Axes: >"
      ]
     },
     "execution_count": 579,
     "metadata": {},
     "output_type": "execute_result"
    },
    {
     "data": {
      "image/png": "[encoded data removed]",
      "text/plain": [
       "<Figure size 640x480 with 2 Axes>"
      ]
     },
     "metadata": {},
     "output_type": "display_data"
    }
   ],
   "source": [
    "sns.heatmap(data = cf_matrixsf, cmap=sns.cubehelix_palette(as_cmap=True))"
   ]
  },
  {
   "cell_type": "code",
   "execution_count": null,
   "id": "6a39aacb-774b-41b1-8fa0-46746b48572c",
   "metadata": {},
   "outputs": [],
   "source": []
  },
  {
   "cell_type": "code",
   "execution_count": 580,
   "id": "eb01de99-af49-455f-a6b7-324ce647e840",
   "metadata": {},
   "outputs": [],
   "source": [
    "x_sc_f1= group_scaled.iloc[:,:][group_scaled['Choice Output'] > 1].drop(columns = ['Choice Output', 'Duration', 'Exit Latency', '2_cur_arm_duration',\n",
    "       '3_cur_arm_duration', '4_cur_arm_duration', '5_cur_arm_duration','mean_2_cur_arm_duration', 'mean_3_cur_arm_duration', 'mean_4_cur_arm_duration',\n",
    "        'mean_5_cur_arm_duration','Arm Nose Movement', 'Arm Nose Velocity', 'Arm Tail Movement', 'Arm Tail Velocity','lagged_1_lagged_1_cur_coeff',\n",
    "        'lagged_2_lagged_1_cur_coeff', \n",
    "        'lagged_3_lagged_1_cur_coeff','lagged_4_lagged_1_cur_coeff','lagged_1_lagged_2_cur_coeff', 'lagged_2_lagged_2_cur_coeff', \n",
    "        'lagged_3_lagged_2_cur_coeff', 'lagged_4_lagged_2_cur_coeff','lagged_1_lagged_3_cur_coeff','lagged_2_lagged_3_cur_coeff', \n",
    "        'lagged_3_lagged_3_cur_coeff','lagged_4_lagged_3_cur_coeff','lagged_1_lagged_4_cur_coeff', 'lagged_2_lagged_4_cur_coeff',\n",
    "        'lagged_3_lagged_4_cur_coeff', 'lagged_4_lagged_4_cur_coeff','lagged_1_lagged_1_cur_coeff_time_prop',\n",
    "       'lagged_2_lagged_1_cur_coeff_time_prop','lagged_3_lagged_1_cur_coeff_time_prop','lagged_4_lagged_1_cur_coeff_time_prop',\n",
    "       'lagged_1_lagged_2_cur_coeff_time_prop','lagged_2_lagged_2_cur_coeff_time_prop','lagged_3_lagged_2_cur_coeff_time_prop',\n",
    "       'lagged_4_lagged_2_cur_coeff_time_prop','lagged_1_lagged_3_cur_coeff_time_prop','lagged_2_lagged_3_cur_coeff_time_prop',\n",
    "       'lagged_3_lagged_3_cur_coeff_time_prop','lagged_4_lagged_3_cur_coeff_time_prop','lagged_1_lagged_4_cur_coeff_time_prop',\n",
    "       'lagged_2_lagged_4_cur_coeff_time_prop','lagged_3_lagged_4_cur_coeff_time_prop','lagged_4_lagged_4_cur_coeff_time_prop', ]).values"
   ]
  },
  {
   "cell_type": "code",
   "execution_count": 581,
   "id": "677c23d0-9263-4006-9352-1b0a28bfff27",
   "metadata": {},
   "outputs": [],
   "source": [
    "y_sc_f1 = group_scaled[group_scaled['Choice Output'] > 1]['Choice Output'].values"
   ]
  },
  {
   "cell_type": "code",
   "execution_count": 582,
   "id": "d25d6eb4-3b77-4ea9-98ae-9512d84516d7",
   "metadata": {},
   "outputs": [],
   "source": [
    "X_train_f1, X_test_f1, y_train_f1, y_test_f1 = train_test_split(x_sc_f1, y_sc_f1, test_size=0.2, random_state=50)"
   ]
  },
  {
   "cell_type": "code",
   "execution_count": 601,
   "id": "e2bfd13d-faee-4769-acf3-86856304202d",
   "metadata": {},
   "outputs": [],
   "source": [
    "modsf1 = GradientBoostingClassifier(n_estimators = 100, max_depth=4, learning_rate=0.2)\n",
    "modsf1.fit(X_train_f1, y_train_f1)\n",
    "# make a single prediction\n",
    "y_pred_f1 = modsf1.predict(X_test_f1)"
   ]
  },
  {
   "cell_type": "code",
   "execution_count": 602,
   "id": "ab973df0-09d6-4e62-9792-116fd5489e56",
   "metadata": {},
   "outputs": [
    {
     "name": "stdout",
     "output_type": "stream",
     "text": [
      "0.8163728632478633\n"
     ]
    }
   ],
   "source": [
    "print(f1_score(y_test_f1, y_pred_f1, average = 'weighted'))"
   ]
  },
  {
   "cell_type": "code",
   "execution_count": 603,
   "id": "bb4aa02f-d81d-425a-9e39-f27dcf616d6f",
   "metadata": {},
   "outputs": [
    {
     "name": "stdout",
     "output_type": "stream",
     "text": [
      "0.8174603174603176\n"
     ]
    }
   ],
   "source": [
    "print(precision_score(y_test_f1, y_pred_f1,average='weighted'))"
   ]
  },
  {
   "cell_type": "code",
   "execution_count": 604,
   "id": "f011bf1b-a0d5-48c0-b987-f3cae117ed5d",
   "metadata": {},
   "outputs": [],
   "source": [
    "cf_matrixsf1 = confusion_matrix(y_test_f1, y_pred_f1)"
   ]
  },
  {
   "cell_type": "code",
   "execution_count": 605,
   "id": "8f15f417-f683-4b65-adf8-dd854aa2f5f0",
   "metadata": {},
   "outputs": [
    {
     "data": {
      "text/plain": [
       "array([[11,  0,  1,  0],\n",
       "       [ 1, 29,  1,  1],\n",
       "       [ 1,  3, 14,  1],\n",
       "       [ 1,  0,  3,  5]], dtype=int64)"
      ]
     },
     "execution_count": 605,
     "metadata": {},
     "output_type": "execute_result"
    }
   ],
   "source": [
    "cf_matrixsf1"
   ]
  },
  {
   "cell_type": "code",
   "execution_count": 606,
   "id": "b7b18d88-2589-4b20-ba78-4dd1db9332a8",
   "metadata": {},
   "outputs": [
    {
     "data": {
      "text/plain": [
       "<Axes: >"
      ]
     },
     "execution_count": 606,
     "metadata": {},
     "output_type": "execute_result"
    },
    {
     "data": {
      "image/png": "[encoded data removed]",
      "text/plain": [
       "<Figure size 640x480 with 2 Axes>"
      ]
     },
     "metadata": {},
     "output_type": "display_data"
    }
   ],
   "source": [
    "sns.heatmap(data = cf_matrixsf1, cmap=sns.cubehelix_palette(as_cmap=True))"
   ]
  },
  {
   "cell_type": "code",
   "execution_count": 607,
   "id": "482fd046-b747-407e-a691-eb2027120e0d",
   "metadata": {},
   "outputs": [
    {
     "data": {
      "text/plain": [
       "array([5.62387255e-03, 2.76656529e-03, 3.21723590e-03, 9.55759105e-04,\n",
       "       3.31631942e-03, 1.38139718e-02, 1.79145404e-02, 3.92542943e-03,\n",
       "       1.74262795e-03, 1.13045679e-02, 7.79565900e-03, 7.50129542e-03,\n",
       "       3.45242507e-03, 1.77371747e-02, 2.56181125e-03, 9.57160108e-03,\n",
       "       4.39642570e-03, 5.68648433e-03, 3.83077957e-03, 8.06931945e-03,\n",
       "       1.26309351e-03, 1.15816369e-02, 1.18459121e-03, 3.92437385e-03,\n",
       "       8.89922139e-03, 3.34645649e-03, 6.07483741e-03, 1.15149433e-02,\n",
       "       5.91847171e-04, 5.20332708e-04, 1.80695950e-03, 4.12540179e-03,\n",
       "       8.83880010e-05, 5.45502050e-04, 4.83717478e-03, 6.59839278e-03,\n",
       "       2.11503526e-02, 1.95304611e-03, 3.03778500e-04, 1.64131276e-04,\n",
       "       2.69986916e-03, 5.19255895e-03, 1.42732388e-03, 1.77593031e-02,\n",
       "       3.21845119e-03, 2.14604189e-02, 1.35300248e-03, 1.56772395e-03,\n",
       "       4.94573541e-05, 6.41356292e-03, 6.89538014e-04, 1.92076308e-02,\n",
       "       8.49241832e-03, 9.13449485e-03, 1.25027210e-03, 2.69760252e-06,\n",
       "       6.19317641e-04, 1.20513508e-03, 2.66653103e-03, 1.03596978e-03,\n",
       "       3.13520066e-03, 2.87061399e-03, 4.18720367e-05, 3.17403521e-04,\n",
       "       3.42221822e-03, 1.71021263e-03, 1.55463167e-02, 6.93635054e-06,\n",
       "       1.68234180e-05, 5.10859040e-04, 8.36529783e-03, 2.20633230e-02,\n",
       "       1.93999103e-02, 2.60278805e-03, 6.70786470e-02, 7.27728489e-02,\n",
       "       6.53677791e-02, 7.19542723e-04, 3.13707211e-03, 2.60358385e-04,\n",
       "       2.07668667e-02, 2.19801915e-03, 6.45266154e-03, 8.32515388e-03,\n",
       "       8.17631861e-02, 1.49926856e-03, 4.70330303e-03, 1.23950657e-03,\n",
       "       4.11814118e-03, 7.07740389e-03, 7.82002464e-08, 1.45235914e-03,\n",
       "       2.66613349e-04, 5.14345766e-04, 8.87987786e-04, 2.73037245e-04,\n",
       "       2.93456527e-05, 1.02678981e-03, 7.19079179e-06, 3.04241726e-04,\n",
       "       5.92050766e-04, 6.31231291e-04, 3.33007037e-05, 7.46115898e-04,\n",
       "       1.04595424e-03, 8.10292254e-03, 4.40689601e-05, 1.95904294e-05,\n",
       "       7.54311412e-04, 1.70658556e-04, 1.76879610e-04, 9.34562879e-06,\n",
       "       2.94508918e-03, 2.55917732e-04, 2.10873289e-05, 1.73444646e-03,\n",
       "       5.55563306e-04, 2.69227384e-03, 1.45347329e-03, 6.69043511e-06,\n",
       "       2.42772213e-03, 1.40118674e-03, 2.01470767e-04, 1.79970346e-05,\n",
       "       1.13940623e-03, 2.08948812e-01, 1.74690903e-05, 4.98581012e-04,\n",
       "       8.54962552e-07])"
      ]
     },
     "execution_count": 607,
     "metadata": {},
     "output_type": "execute_result"
    }
   ],
   "source": [
    "modsf1.feature_importances_"
   ]
  },
  {
   "cell_type": "code",
   "execution_count": null,
   "id": "f4cb6dbb-7f5b-4a3a-a9c6-b5947da76051",
   "metadata": {},
   "outputs": [],
   "source": []
  },
  {
   "cell_type": "markdown",
   "id": "db39e5bd-670d-4231-ab8d-d80540648b93",
   "metadata": {},
   "source": [
    "# scaled but no future and no choice"
   ]
  },
  {
   "cell_type": "code",
   "execution_count": 608,
   "id": "8c577198-a23e-41bf-9fa0-ca63d6ca54e3",
   "metadata": {},
   "outputs": [
    {
     "data": {
      "text/plain": [
       "Index(['Duration', 'lagged_1_duration', 'lagged_2_duration',\n",
       "       'lagged_3_duration', 'lagged_4_duration', 'Entry Latency',\n",
       "       'lagged_1_entry_lat', 'lagged_2_entry_lat', 'lagged_3_entry_lat',\n",
       "       'lagged_4_entry_lat',\n",
       "       ...\n",
       "       '5_past_exitmidentry_duration', 'mean_2_past_exitmidentry_duration',\n",
       "       'mean_3_past_exitmidentry_duration',\n",
       "       'mean_4_past_exitmidentry_duration',\n",
       "       'mean_5_past_exitmidentry_duration', 'Choice Output',\n",
       "       'lagged_1_choice_ago', 'lagged_2_choice_ago', 'lagged_3_choice_ago',\n",
       "       'lagged_4_choice_ago'],\n",
       "      dtype='object', length=176)"
      ]
     },
     "execution_count": 608,
     "metadata": {},
     "output_type": "execute_result"
    }
   ],
   "source": [
    "group_scaled.columns"
   ]
  },
  {
   "cell_type": "code",
   "execution_count": 469,
   "id": "68a6e522-1d70-4a66-8c09-66687569ed79",
   "metadata": {},
   "outputs": [],
   "source": [
    "group_scaled = group_scaled.reset_index(drop=True)"
   ]
  },
  {
   "cell_type": "code",
   "execution_count": 609,
   "id": "e9b24c5a-621e-454f-a4d1-9c60f5e84757",
   "metadata": {},
   "outputs": [],
   "source": [
    "x_sc_fc= group_scaled.iloc[:,:][group_scaled['Choice Output'] > 1].drop(columns = ['Choice Output', 'Duration', 'Exit Latency', '2_cur_arm_duration',\n",
    "       '3_cur_arm_duration', '4_cur_arm_duration', '5_cur_arm_duration','mean_2_cur_arm_duration', 'mean_3_cur_arm_duration', 'mean_4_cur_arm_duration',\n",
    "        'mean_5_cur_arm_duration','Arm Nose Movement', 'Arm Nose Velocity', 'Arm Tail Movement', 'Arm Tail Velocity','lagged_1_lagged_1_cur_coeff',\n",
    "        'lagged_2_lagged_1_cur_coeff', \n",
    "        'lagged_3_lagged_1_cur_coeff','lagged_4_lagged_1_cur_coeff','lagged_1_lagged_2_cur_coeff', 'lagged_2_lagged_2_cur_coeff', \n",
    "        'lagged_3_lagged_2_cur_coeff', 'lagged_4_lagged_2_cur_coeff','lagged_1_lagged_3_cur_coeff','lagged_2_lagged_3_cur_coeff', \n",
    "        'lagged_3_lagged_3_cur_coeff','lagged_4_lagged_3_cur_coeff','lagged_1_lagged_4_cur_coeff', 'lagged_2_lagged_4_cur_coeff',\n",
    "        'lagged_3_lagged_4_cur_coeff', 'lagged_4_lagged_4_cur_coeff','lagged_1_lagged_1_cur_coeff_time_prop',\n",
    "       'lagged_2_lagged_1_cur_coeff_time_prop','lagged_3_lagged_1_cur_coeff_time_prop','lagged_4_lagged_1_cur_coeff_time_prop',\n",
    "       'lagged_1_lagged_2_cur_coeff_time_prop','lagged_2_lagged_2_cur_coeff_time_prop','lagged_3_lagged_2_cur_coeff_time_prop',\n",
    "       'lagged_4_lagged_2_cur_coeff_time_prop','lagged_1_lagged_3_cur_coeff_time_prop','lagged_2_lagged_3_cur_coeff_time_prop',\n",
    "       'lagged_3_lagged_3_cur_coeff_time_prop','lagged_4_lagged_3_cur_coeff_time_prop','lagged_1_lagged_4_cur_coeff_time_prop',\n",
    "       'lagged_2_lagged_4_cur_coeff_time_prop','lagged_3_lagged_4_cur_coeff_time_prop','lagged_4_lagged_4_cur_coeff_time_prop', 'lagged_1_choice_ago', 'lagged_2_choice_ago', 'lagged_3_choice_ago',\n",
    "       'lagged_4_choice_ago']).values"
   ]
  },
  {
   "cell_type": "code",
   "execution_count": 610,
   "id": "f29d1d86-faa9-4e1c-9ecc-bae35e4c22ec",
   "metadata": {},
   "outputs": [],
   "source": [
    "y_sc_fc = group_scaled[group_scaled['Choice Output'] > 1]['Choice Output'].values"
   ]
  },
  {
   "cell_type": "code",
   "execution_count": 687,
   "id": "79338cae-230b-4f42-ba65-35f3810b0f81",
   "metadata": {},
   "outputs": [],
   "source": [
    "X_train_fc, X_test_fc, y_train_fc, y_test_fc = train_test_split(x_sc_fc, y_sc_fc, test_size=0.2, random_state=50)"
   ]
  },
  {
   "cell_type": "code",
   "execution_count": 694,
   "id": "86b6e313-1d1d-402f-8f59-33ce7981f739",
   "metadata": {},
   "outputs": [],
   "source": [
    "modsfc = GradientBoostingClassifier(n_estimators = 100, max_depth=4, learning_rate=0.1)\n",
    "modsfc.fit(X_train_fc, y_train_fc)\n",
    "# make a single prediction\n",
    "y_pred_fc = modsfc.predict(X_test_fc)"
   ]
  },
  {
   "cell_type": "code",
   "execution_count": 695,
   "id": "e0040db0-59a1-4202-93f9-6a7967757c89",
   "metadata": {},
   "outputs": [
    {
     "name": "stdout",
     "output_type": "stream",
     "text": [
      "0.6991070167702741\n"
     ]
    }
   ],
   "source": [
    "print(f1_score(y_test_fc, y_pred_fc, average = 'weighted'))"
   ]
  },
  {
   "cell_type": "code",
   "execution_count": 696,
   "id": "18990208-32a1-48a9-9f39-07f07366059f",
   "metadata": {},
   "outputs": [
    {
     "name": "stdout",
     "output_type": "stream",
     "text": [
      "0.7182449494949495\n"
     ]
    }
   ],
   "source": [
    "print(precision_score(y_test_fc, y_pred_fc,average='weighted'))"
   ]
  },
  {
   "cell_type": "code",
   "execution_count": 697,
   "id": "06adb992-61e9-4040-a521-e64b620ea949",
   "metadata": {},
   "outputs": [],
   "source": [
    "cf_matrixsfc = confusion_matrix(y_test_fc, y_pred_fc)"
   ]
  },
  {
   "cell_type": "code",
   "execution_count": 698,
   "id": "5a046922-ddb8-4887-8575-ccbb7086cb63",
   "metadata": {},
   "outputs": [
    {
     "data": {
      "text/plain": [
       "array([[12,  0,  0,  0],\n",
       "       [ 2, 24,  5,  1],\n",
       "       [ 1,  6, 12,  0],\n",
       "       [ 1,  0,  5,  3]], dtype=int64)"
      ]
     },
     "execution_count": 698,
     "metadata": {},
     "output_type": "execute_result"
    }
   ],
   "source": [
    "cf_matrixsfc"
   ]
  },
  {
   "cell_type": "code",
   "execution_count": 699,
   "id": "1d7a0141-7958-491e-ad33-3a75d1913de1",
   "metadata": {},
   "outputs": [
    {
     "data": {
      "text/plain": [
       "<Axes: >"
      ]
     },
     "execution_count": 699,
     "metadata": {},
     "output_type": "execute_result"
    },
    {
     "data": {
      "image/png": "[encoded data removed]",
      "text/plain": [
       "<Figure size 640x480 with 2 Axes>"
      ]
     },
     "metadata": {},
     "output_type": "display_data"
    }
   ],
   "source": [
    "sns.heatmap(data = cf_matrixsfc, cmap=sns.cubehelix_palette(as_cmap=True))"
   ]
  },
  {
   "cell_type": "code",
   "execution_count": 726,
   "id": "4613a411-2bf3-4954-a12e-bf6e1a654266",
   "metadata": {},
   "outputs": [
    {
     "data": {
      "text/plain": [
       "array([2.92094734e-03, 2.60932128e-03, 3.62132747e-03, 2.31284716e-03,\n",
       "       1.47936889e-02, 1.37655810e-02, 1.47823486e-02, 1.55576273e-03,\n",
       "       5.45196708e-03, 1.83473315e-02, 2.07564062e-03, 1.18778696e-02,\n",
       "       1.10930410e-02, 4.24843672e-03, 4.11780507e-03, 8.02690044e-03,\n",
       "       2.64793840e-03, 3.66505291e-03, 7.22782568e-03, 7.54422020e-03,\n",
       "       6.56930145e-03, 2.70783313e-02, 1.89232793e-03, 4.57545968e-03,\n",
       "       2.55626261e-02, 5.24816839e-03, 9.55431413e-03, 8.37812784e-03,\n",
       "       1.62245731e-02, 5.46289597e-03, 9.86555310e-03, 5.67513997e-03,\n",
       "       1.93297400e-03, 1.46235088e-03, 6.51434779e-03, 2.32474995e-03,\n",
       "       1.59223038e-02, 4.38624584e-03, 1.91889493e-03, 2.64388465e-03,\n",
       "       7.82429096e-03, 7.50428964e-03, 9.06323549e-03, 2.44978569e-02,\n",
       "       6.29996408e-03, 1.31886607e-02, 6.38473956e-03, 9.52973154e-04,\n",
       "       1.30696435e-03, 7.74935405e-03, 1.59719585e-03, 1.92689033e-02,\n",
       "       1.60160946e-02, 1.92514049e-02, 5.83178952e-04, 1.65562548e-03,\n",
       "       2.59435714e-03, 3.39037103e-03, 3.19239145e-03, 3.24306286e-03,\n",
       "       4.45548826e-03, 1.42529163e-03, 6.37961982e-04, 1.69299157e-03,\n",
       "       7.13279399e-03, 5.73760548e-03, 7.25012533e-04, 2.41146995e-04,\n",
       "       1.12161464e-03, 2.25005470e-02, 2.85321756e-02, 2.92895593e-02,\n",
       "       1.85030090e-02, 1.30787910e-03, 7.49393792e-02, 9.11122383e-02,\n",
       "       3.72147349e-02, 2.44278482e-03, 1.56434679e-02, 5.42462444e-03,\n",
       "       1.35750105e-02, 4.20742097e-04, 2.99853272e-03, 1.98913154e-02,\n",
       "       6.15939868e-02, 5.88539111e-03, 1.89761072e-03, 1.74033250e-03,\n",
       "       1.57410399e-03, 1.34640523e-03, 1.36872251e-04, 1.21830049e-03,\n",
       "       3.87234107e-03, 7.20075382e-03, 1.76006593e-03, 3.39228334e-03,\n",
       "       5.74971753e-03, 3.83235920e-03, 3.14679713e-03, 1.08737793e-03,\n",
       "       3.65344494e-03, 4.65710178e-03, 2.65393390e-03, 5.95573210e-04,\n",
       "       1.41587490e-03, 3.06506596e-03, 2.83665443e-03, 4.30597395e-04,\n",
       "       3.85151831e-04, 2.05519756e-03, 1.53328270e-03, 2.59483553e-05,\n",
       "       3.14380834e-04, 1.13340479e-03, 1.89955273e-03, 2.70956292e-04,\n",
       "       1.92006413e-03, 6.93011947e-03, 1.56026795e-03, 2.81333691e-03,\n",
       "       6.12754683e-05, 4.51163654e-03, 2.21850438e-04, 7.76934881e-06,\n",
       "       1.20361282e-03])"
      ]
     },
     "execution_count": 726,
     "metadata": {},
     "output_type": "execute_result"
    }
   ],
   "source": [
    "modsfc.feature_importances_"
   ]
  },
  {
   "cell_type": "markdown",
   "id": "97411230-e2b2-48f6-8613-3735ddafb92c",
   "metadata": {},
   "source": [
    "# scaled but no future and no cumulative just means"
   ]
  },
  {
   "cell_type": "code",
   "execution_count": 700,
   "id": "aa8df4f1-19fb-4631-877e-7a8536f9eabe",
   "metadata": {},
   "outputs": [
    {
     "data": {
      "text/plain": [
       "Index(['Current Coeff Time Proportional', 'lagged_1_current_coeff_time_prop',\n",
       "       'lagged_2_current_coeff_time_prop', 'lagged_3_current_coeff_time_prop',\n",
       "       'lagged_4_current_coeff_time_prop',\n",
       "       'Lagged 1 Cur Coeff Time Proportional',\n",
       "       'lagged_1_lagged_1_cur_coeff_time_prop',\n",
       "       'lagged_2_lagged_1_cur_coeff_time_prop',\n",
       "       'lagged_3_lagged_1_cur_coeff_time_prop',\n",
       "       'lagged_4_lagged_1_cur_coeff_time_prop',\n",
       "       'Lagged 2 Cur Coeff Time Proportional',\n",
       "       'lagged_1_lagged_2_cur_coeff_time_prop',\n",
       "       'lagged_2_lagged_2_cur_coeff_time_prop',\n",
       "       'lagged_3_lagged_2_cur_coeff_time_prop',\n",
       "       'lagged_4_lagged_2_cur_coeff_time_prop',\n",
       "       'Lagged 3 Cur Coeff Time Proportional',\n",
       "       'lagged_1_lagged_3_cur_coeff_time_prop',\n",
       "       'lagged_2_lagged_3_cur_coeff_time_prop',\n",
       "       'lagged_3_lagged_3_cur_coeff_time_prop',\n",
       "       'lagged_4_lagged_3_cur_coeff_time_prop',\n",
       "       'Lagged 4 Cur Coeff Time Proportional',\n",
       "       'lagged_1_lagged_4_cur_coeff_time_prop',\n",
       "       'lagged_2_lagged_4_cur_coeff_time_prop',\n",
       "       'lagged_3_lagged_4_cur_coeff_time_prop',\n",
       "       'lagged_4_lagged_4_cur_coeff_time_prop', '2_cur_arm_duration',\n",
       "       '3_cur_arm_duration', '4_cur_arm_duration', '5_cur_arm_duration',\n",
       "       'mean_2_cur_arm_duration', 'mean_3_cur_arm_duration',\n",
       "       'mean_4_cur_arm_duration', 'mean_5_cur_arm_duration',\n",
       "       '2_past_arm_duration', '3_past_arm_duration', '4_past_arm_duration',\n",
       "       'mean_2_past_arm_duration', 'mean_3_past_arm_duration',\n",
       "       'mean_4_past_arm_duration', '2_past_mid_duration',\n",
       "       '3_past_mid_duration', '4_past_mid_duration', '5_past_mid_duration',\n",
       "       'mean_2_past_mid_duration', 'mean_3_past_mid_duration',\n",
       "       'mean_4_past_mid_duration', 'mean_5_past_mid_duration',\n",
       "       '2_past_exitmid_duration', '3_past_exitmid_duration',\n",
       "       '4_past_exitmid_duration', '5_past_exitmid_duration',\n",
       "       'mean_2_past_exitmid_duration', 'mean_3_past_exitmid_duration',\n",
       "       'mean_4_past_exitmid_duration', 'mean_5_past_exitmid_duration',\n",
       "       '2_past_midentry_duration', '3_past_midentry_duration',\n",
       "       '4_past_midentry_duration', '5_past_midentry_duration',\n",
       "       'mean_2_past_midentry_duration', 'mean_3_past_midentry_duration',\n",
       "       'mean_4_past_midentry_duration', 'mean_5_past_midentry_duration',\n",
       "       '2_past_exitmidentry_duration', '3_past_exitmidentry_duration',\n",
       "       '4_past_exitmidentry_duration', '5_past_exitmidentry_duration',\n",
       "       'mean_2_past_exitmidentry_duration',\n",
       "       'mean_3_past_exitmidentry_duration',\n",
       "       'mean_4_past_exitmidentry_duration',\n",
       "       'mean_5_past_exitmidentry_duration', 'Choice Output',\n",
       "       'lagged_1_choice_ago', 'lagged_2_choice_ago', 'lagged_3_choice_ago',\n",
       "       'lagged_4_choice_ago'],\n",
       "      dtype='object')"
      ]
     },
     "execution_count": 700,
     "metadata": {},
     "output_type": "execute_result"
    }
   ],
   "source": [
    "group_scaled.columns[100:]"
   ]
  },
  {
   "cell_type": "code",
   "execution_count": 469,
   "id": "4f76c071-5209-4431-b3c4-d07db4a60141",
   "metadata": {},
   "outputs": [],
   "source": [
    "group_scaled = group_scaled.reset_index(drop=True)"
   ]
  },
  {
   "cell_type": "code",
   "execution_count": 701,
   "id": "1f04173d-12ee-452c-a648-c415f6adc0a3",
   "metadata": {},
   "outputs": [],
   "source": [
    "x_sc_fm= group_scaled.iloc[:,:][group_scaled['Choice Output'] > 1].drop(columns = ['Choice Output', 'Duration', 'Exit Latency', '2_cur_arm_duration',\n",
    "       '3_cur_arm_duration', '4_cur_arm_duration', '5_cur_arm_duration','mean_2_cur_arm_duration', 'mean_3_cur_arm_duration', 'mean_4_cur_arm_duration',\n",
    "        'mean_5_cur_arm_duration','Arm Nose Movement', 'Arm Nose Velocity', 'Arm Tail Movement', 'Arm Tail Velocity','lagged_1_lagged_1_cur_coeff',\n",
    "        'lagged_2_lagged_1_cur_coeff', \n",
    "        'lagged_3_lagged_1_cur_coeff','lagged_4_lagged_1_cur_coeff','lagged_1_lagged_2_cur_coeff', 'lagged_2_lagged_2_cur_coeff', \n",
    "        'lagged_3_lagged_2_cur_coeff', 'lagged_4_lagged_2_cur_coeff','lagged_1_lagged_3_cur_coeff','lagged_2_lagged_3_cur_coeff', \n",
    "        'lagged_3_lagged_3_cur_coeff','lagged_4_lagged_3_cur_coeff','lagged_1_lagged_4_cur_coeff', 'lagged_2_lagged_4_cur_coeff',\n",
    "        'lagged_3_lagged_4_cur_coeff', 'lagged_4_lagged_4_cur_coeff','lagged_1_lagged_1_cur_coeff_time_prop',\n",
    "       'lagged_2_lagged_1_cur_coeff_time_prop','lagged_3_lagged_1_cur_coeff_time_prop','lagged_4_lagged_1_cur_coeff_time_prop',\n",
    "       'lagged_1_lagged_2_cur_coeff_time_prop','lagged_2_lagged_2_cur_coeff_time_prop','lagged_3_lagged_2_cur_coeff_time_prop',\n",
    "       'lagged_4_lagged_2_cur_coeff_time_prop','lagged_1_lagged_3_cur_coeff_time_prop','lagged_2_lagged_3_cur_coeff_time_prop',\n",
    "       'lagged_3_lagged_3_cur_coeff_time_prop','lagged_4_lagged_3_cur_coeff_time_prop','lagged_1_lagged_4_cur_coeff_time_prop',\n",
    "       'lagged_2_lagged_4_cur_coeff_time_prop','lagged_3_lagged_4_cur_coeff_time_prop','lagged_4_lagged_4_cur_coeff_time_prop',\n",
    "        '2_past_arm_duration', '3_past_arm_duration', '4_past_arm_duration','2_past_mid_duration',\n",
    "       '3_past_mid_duration', '4_past_mid_duration', '5_past_mid_duration', '2_past_exitmid_duration', '3_past_exitmid_duration',\n",
    "       '4_past_exitmid_duration', '5_past_exitmid_duration','2_past_midentry_duration', '3_past_midentry_duration',\n",
    "       '4_past_midentry_duration', '5_past_midentry_duration','2_past_exitmidentry_duration', '3_past_exitmidentry_duration',\n",
    "       '4_past_exitmidentry_duration', '5_past_exitmidentry_duration']).values"
   ]
  },
  {
   "cell_type": "code",
   "execution_count": 702,
   "id": "09ab519f-ab6a-45cf-9c26-647f0c7d3984",
   "metadata": {},
   "outputs": [],
   "source": [
    "y_sc_fm = group_scaled[group_scaled['Choice Output'] > 1]['Choice Output'].values"
   ]
  },
  {
   "cell_type": "code",
   "execution_count": 703,
   "id": "644a5de7-f881-4bdc-b92e-6403aec2ee64",
   "metadata": {},
   "outputs": [],
   "source": [
    "X_train_fm, X_test_fm, y_train_fm, y_test_fm = train_test_split(x_sc_fm, y_sc_fm, test_size=0.2, random_state=50)"
   ]
  },
  {
   "cell_type": "code",
   "execution_count": 725,
   "id": "0f40804d-b0fd-4832-a1dc-6b7877fc59da",
   "metadata": {},
   "outputs": [
    {
     "data": {
      "text/plain": [
       "110"
      ]
     },
     "execution_count": 725,
     "metadata": {},
     "output_type": "execute_result"
    }
   ],
   "source": [
    "x_sc_fm[1,:].size"
   ]
  },
  {
   "cell_type": "code",
   "execution_count": 710,
   "id": "40f017c6-84ab-4b4c-be87-161d1074bfcd",
   "metadata": {},
   "outputs": [],
   "source": [
    "modsfm = GradientBoostingClassifier(n_estimators = 100, max_depth=4, learning_rate=0.1)\n",
    "modsfm.fit(X_train_fm, y_train_fm)\n",
    "# make a single prediction\n",
    "y_pred_fm = modsfm.predict(X_test_fm)"
   ]
  },
  {
   "cell_type": "code",
   "execution_count": 711,
   "id": "f271efa5-5323-4209-8b4f-64f3454e0f0e",
   "metadata": {},
   "outputs": [
    {
     "name": "stdout",
     "output_type": "stream",
     "text": [
      "0.8031436413789356\n"
     ]
    }
   ],
   "source": [
    "print(f1_score(y_test_fm, y_pred_fm, average = 'weighted'))"
   ]
  },
  {
   "cell_type": "code",
   "execution_count": 712,
   "id": "b095be9b-e10c-468e-838f-7ab721c8ed83",
   "metadata": {},
   "outputs": [
    {
     "name": "stdout",
     "output_type": "stream",
     "text": [
      "0.8032131834215168\n"
     ]
    }
   ],
   "source": [
    "print(precision_score(y_test_fm, y_pred_fm,average='weighted'))"
   ]
  },
  {
   "cell_type": "code",
   "execution_count": 713,
   "id": "8c62370b-022d-4347-bfb0-bd47b1aba21e",
   "metadata": {},
   "outputs": [],
   "source": [
    "cf_matrixsfm = confusion_matrix(y_test_fm, y_pred_fm)"
   ]
  },
  {
   "cell_type": "code",
   "execution_count": 716,
   "id": "cba47a6b-d067-4c95-a28c-45b57bd6996b",
   "metadata": {},
   "outputs": [
    {
     "data": {
      "text/plain": [
       "array([[11,  1,  0,  0],\n",
       "       [ 1, 28,  1,  2],\n",
       "       [ 1,  3, 14,  1],\n",
       "       [ 1,  0,  3,  5]], dtype=int64)"
      ]
     },
     "execution_count": 716,
     "metadata": {},
     "output_type": "execute_result"
    }
   ],
   "source": [
    "cf_matrixsfm"
   ]
  },
  {
   "cell_type": "code",
   "execution_count": 717,
   "id": "458b13f1-4595-4bd2-9612-049289ae3159",
   "metadata": {},
   "outputs": [
    {
     "data": {
      "text/plain": [
       "<Axes: >"
      ]
     },
     "execution_count": 717,
     "metadata": {},
     "output_type": "execute_result"
    },
    {
     "data": {
      "image/png": "[encoded data removed]",
      "text/plain": [
       "<Figure size 640x480 with 2 Axes>"
      ]
     },
     "metadata": {},
     "output_type": "display_data"
    }
   ],
   "source": [
    "sns.heatmap(data = cf_matrixsfm, cmap=sns.cubehelix_palette(as_cmap=True))"
   ]
  },
  {
   "cell_type": "code",
   "execution_count": null,
   "id": "9e3149fa-69ac-42d1-8b81-734dfb6c8917",
   "metadata": {},
   "outputs": [],
   "source": []
  },
  {
   "cell_type": "code",
   "execution_count": 718,
   "id": "e89f464a-59e8-4aad-a589-fbc89ca4d95a",
   "metadata": {},
   "outputs": [],
   "source": [
    "X_train_fm1, X_test_fm1, y_train_fm1, y_test_fm1 = train_test_split(x_sc_fm, y_sc_fm, test_size=0.2, random_state=50)"
   ]
  },
  {
   "cell_type": "code",
   "execution_count": 719,
   "id": "8fa72faf-108d-4339-8948-813ab4de400e",
   "metadata": {},
   "outputs": [],
   "source": [
    "modsfm1 = GradientBoostingClassifier(n_estimators = 100, max_depth=4, learning_rate=0.2)\n",
    "modsfm1.fit(X_train_fm1, y_train_fm1)\n",
    "# make a single prediction\n",
    "y_pred_fm1 = modsfm1.predict(X_test_fm1)"
   ]
  },
  {
   "cell_type": "code",
   "execution_count": 720,
   "id": "f4aa5565-7fea-4586-8c5f-d6ba96189bbe",
   "metadata": {},
   "outputs": [
    {
     "name": "stdout",
     "output_type": "stream",
     "text": [
      "0.8163728632478633\n"
     ]
    }
   ],
   "source": [
    "print(f1_score(y_test_fm1, y_pred_fm1, average = 'weighted'))"
   ]
  },
  {
   "cell_type": "code",
   "execution_count": 721,
   "id": "24e61058-846c-4103-9fdd-303df1785c54",
   "metadata": {},
   "outputs": [
    {
     "name": "stdout",
     "output_type": "stream",
     "text": [
      "0.8174603174603176\n"
     ]
    }
   ],
   "source": [
    "print(precision_score(y_test_fm1, y_pred_fm1,average='weighted'))"
   ]
  },
  {
   "cell_type": "code",
   "execution_count": 722,
   "id": "5cd5cd86-68c0-4cbc-98ae-1608fb8b53eb",
   "metadata": {},
   "outputs": [],
   "source": [
    "cf_matrixsfm1 = confusion_matrix(y_test_fm1, y_pred_fm1)"
   ]
  },
  {
   "cell_type": "code",
   "execution_count": 723,
   "id": "a7786d89-3165-4c8d-88ab-01a952ade483",
   "metadata": {},
   "outputs": [
    {
     "data": {
      "text/plain": [
       "array([[11,  0,  1,  0],\n",
       "       [ 1, 29,  1,  1],\n",
       "       [ 1,  3, 14,  1],\n",
       "       [ 1,  0,  3,  5]], dtype=int64)"
      ]
     },
     "execution_count": 723,
     "metadata": {},
     "output_type": "execute_result"
    }
   ],
   "source": [
    "cf_matrixsfm1"
   ]
  },
  {
   "cell_type": "code",
   "execution_count": 724,
   "id": "2d0f5425-3afe-4ad5-b390-a35c053af66d",
   "metadata": {},
   "outputs": [
    {
     "data": {
      "text/plain": [
       "<Axes: >"
      ]
     },
     "execution_count": 724,
     "metadata": {},
     "output_type": "execute_result"
    },
    {
     "data": {
      "image/png": "[encoded data removed]",
      "text/plain": [
       "<Figure size 640x480 with 2 Axes>"
      ]
     },
     "metadata": {},
     "output_type": "display_data"
    }
   ],
   "source": [
    "sns.heatmap(data = cf_matrixsfm1, cmap=sns.cubehelix_palette(as_cmap=True))"
   ]
  },
  {
   "cell_type": "code",
   "execution_count": null,
   "id": "e3dd0de0-e879-4327-9a46-a82d4e0a23da",
   "metadata": {},
   "outputs": [],
   "source": []
  },
  {
   "cell_type": "markdown",
   "id": "d6d82ecb-af55-4077-a9a6-07f5323fd42d",
   "metadata": {},
   "source": [
    "# scaled but no future and no cumulative just means, no choice, no lags"
   ]
  },
  {
   "cell_type": "code",
   "execution_count": 768,
   "id": "cf580357-981b-4034-bbea-0bbd6c677133",
   "metadata": {},
   "outputs": [
    {
     "data": {
      "text/plain": [
       "Index(['Current Coeff Time Proportional', 'lagged_1_current_coeff_time_prop',\n",
       "       'lagged_2_current_coeff_time_prop', 'lagged_3_current_coeff_time_prop',\n",
       "       'lagged_4_current_coeff_time_prop',\n",
       "       'Lagged 1 Cur Coeff Time Proportional',\n",
       "       'lagged_1_lagged_1_cur_coeff_time_prop',\n",
       "       'lagged_2_lagged_1_cur_coeff_time_prop',\n",
       "       'lagged_3_lagged_1_cur_coeff_time_prop',\n",
       "       'lagged_4_lagged_1_cur_coeff_time_prop',\n",
       "       'Lagged 2 Cur Coeff Time Proportional',\n",
       "       'lagged_1_lagged_2_cur_coeff_time_prop',\n",
       "       'lagged_2_lagged_2_cur_coeff_time_prop',\n",
       "       'lagged_3_lagged_2_cur_coeff_time_prop',\n",
       "       'lagged_4_lagged_2_cur_coeff_time_prop',\n",
       "       'Lagged 3 Cur Coeff Time Proportional',\n",
       "       'lagged_1_lagged_3_cur_coeff_time_prop',\n",
       "       'lagged_2_lagged_3_cur_coeff_time_prop',\n",
       "       'lagged_3_lagged_3_cur_coeff_time_prop',\n",
       "       'lagged_4_lagged_3_cur_coeff_time_prop',\n",
       "       'Lagged 4 Cur Coeff Time Proportional',\n",
       "       'lagged_1_lagged_4_cur_coeff_time_prop',\n",
       "       'lagged_2_lagged_4_cur_coeff_time_prop',\n",
       "       'lagged_3_lagged_4_cur_coeff_time_prop',\n",
       "       'lagged_4_lagged_4_cur_coeff_time_prop', '2_cur_arm_duration',\n",
       "       '3_cur_arm_duration', '4_cur_arm_duration', '5_cur_arm_duration',\n",
       "       'mean_2_cur_arm_duration', 'mean_3_cur_arm_duration',\n",
       "       'mean_4_cur_arm_duration', 'mean_5_cur_arm_duration',\n",
       "       '2_past_arm_duration', '3_past_arm_duration', '4_past_arm_duration',\n",
       "       'mean_2_past_arm_duration', 'mean_3_past_arm_duration',\n",
       "       'mean_4_past_arm_duration', '2_past_mid_duration',\n",
       "       '3_past_mid_duration', '4_past_mid_duration', '5_past_mid_duration',\n",
       "       'mean_2_past_mid_duration', 'mean_3_past_mid_duration',\n",
       "       'mean_4_past_mid_duration', 'mean_5_past_mid_duration',\n",
       "       '2_past_exitmid_duration', '3_past_exitmid_duration',\n",
       "       '4_past_exitmid_duration', '5_past_exitmid_duration',\n",
       "       'mean_2_past_exitmid_duration', 'mean_3_past_exitmid_duration',\n",
       "       'mean_4_past_exitmid_duration', 'mean_5_past_exitmid_duration',\n",
       "       '2_past_midentry_duration', '3_past_midentry_duration',\n",
       "       '4_past_midentry_duration', '5_past_midentry_duration',\n",
       "       'mean_2_past_midentry_duration', 'mean_3_past_midentry_duration',\n",
       "       'mean_4_past_midentry_duration', 'mean_5_past_midentry_duration',\n",
       "       '2_past_exitmidentry_duration', '3_past_exitmidentry_duration',\n",
       "       '4_past_exitmidentry_duration', '5_past_exitmidentry_duration',\n",
       "       'mean_2_past_exitmidentry_duration',\n",
       "       'mean_3_past_exitmidentry_duration',\n",
       "       'mean_4_past_exitmidentry_duration',\n",
       "       'mean_5_past_exitmidentry_duration', 'Choice Output',\n",
       "       'lagged_1_choice_ago', 'lagged_2_choice_ago', 'lagged_3_choice_ago',\n",
       "       'lagged_4_choice_ago'],\n",
       "      dtype='object')"
      ]
     },
     "execution_count": 768,
     "metadata": {},
     "output_type": "execute_result"
    }
   ],
   "source": [
    "group_scaled.columns[100:]"
   ]
  },
  {
   "cell_type": "code",
   "execution_count": 469,
   "id": "21caa68e-ed73-4eed-ba08-5abf61fcf788",
   "metadata": {},
   "outputs": [],
   "source": [
    "group_scaled = group_scaled.reset_index(drop=True)"
   ]
  },
  {
   "cell_type": "code",
   "execution_count": 780,
   "id": "bfd98446-f550-4f88-a720-6192244d48ae",
   "metadata": {},
   "outputs": [],
   "source": [
    "x_sc_fml= group_scaled.iloc[:,:][group_scaled['Choice Output'] > 1].drop(columns = ['Choice Output', 'Duration', 'Exit Latency', '2_cur_arm_duration',\n",
    "       '3_cur_arm_duration', '4_cur_arm_duration', '5_cur_arm_duration','mean_2_cur_arm_duration', 'mean_3_cur_arm_duration', 'mean_4_cur_arm_duration',\n",
    "        'mean_5_cur_arm_duration','Arm Nose Movement', 'Arm Nose Velocity', 'Arm Tail Movement', 'Arm Tail Velocity','lagged_1_lagged_1_cur_coeff',\n",
    "        'lagged_2_lagged_1_cur_coeff', \n",
    "        'lagged_3_lagged_1_cur_coeff','lagged_4_lagged_1_cur_coeff','lagged_1_lagged_2_cur_coeff', 'lagged_2_lagged_2_cur_coeff', \n",
    "        'lagged_3_lagged_2_cur_coeff', 'lagged_4_lagged_2_cur_coeff','lagged_1_lagged_3_cur_coeff','lagged_2_lagged_3_cur_coeff', \n",
    "        'lagged_3_lagged_3_cur_coeff','lagged_4_lagged_3_cur_coeff','lagged_1_lagged_4_cur_coeff', 'lagged_2_lagged_4_cur_coeff',\n",
    "        'lagged_3_lagged_4_cur_coeff', 'lagged_4_lagged_4_cur_coeff','lagged_1_lagged_1_cur_coeff_time_prop',\n",
    "       'lagged_2_lagged_1_cur_coeff_time_prop','lagged_3_lagged_1_cur_coeff_time_prop','lagged_4_lagged_1_cur_coeff_time_prop',\n",
    "       'lagged_1_lagged_2_cur_coeff_time_prop','lagged_2_lagged_2_cur_coeff_time_prop','lagged_3_lagged_2_cur_coeff_time_prop',\n",
    "       'lagged_4_lagged_2_cur_coeff_time_prop','lagged_1_lagged_3_cur_coeff_time_prop','lagged_2_lagged_3_cur_coeff_time_prop',\n",
    "       'lagged_3_lagged_3_cur_coeff_time_prop','lagged_4_lagged_3_cur_coeff_time_prop','lagged_1_lagged_4_cur_coeff_time_prop',\n",
    "       'lagged_2_lagged_4_cur_coeff_time_prop','lagged_3_lagged_4_cur_coeff_time_prop','lagged_4_lagged_4_cur_coeff_time_prop',\n",
    "        '2_past_arm_duration', '3_past_arm_duration', '4_past_arm_duration','2_past_mid_duration',\n",
    "       '3_past_mid_duration', '4_past_mid_duration', '5_past_mid_duration', '2_past_exitmid_duration', '3_past_exitmid_duration',\n",
    "       '4_past_exitmid_duration', '5_past_exitmid_duration','2_past_midentry_duration', '3_past_midentry_duration',\n",
    "       '4_past_midentry_duration', '5_past_midentry_duration','2_past_exitmidentry_duration', '3_past_exitmidentry_duration',\n",
    "       '4_past_exitmidentry_duration', '5_past_exitmidentry_duration','lagged_1_choice_ago', 'lagged_2_choice_ago', 'lagged_3_choice_ago',\n",
    "       'lagged_4_choice_ago','lagged_1_current_coeff_time_prop',\n",
    "       'lagged_2_current_coeff_time_prop', 'lagged_3_current_coeff_time_prop',\n",
    "       'lagged_4_current_coeff_time_prop','lagged_1_current_coeff', 'lagged_2_current_coeff',\n",
    "       'lagged_3_current_coeff', 'lagged_4_current_coeff','Lagged 2 Cur Coeff Time Proportional']).values"
   ]
  },
  {
   "cell_type": "code",
   "execution_count": 781,
   "id": "e8c00b33-ae21-4962-b014-6ce98694ed99",
   "metadata": {},
   "outputs": [],
   "source": [
    "y_sc_fml = group_scaled[group_scaled['Choice Output'] > 1]['Choice Output'].values"
   ]
  },
  {
   "cell_type": "code",
   "execution_count": 782,
   "id": "35f0f3d2-1fe7-4cde-8239-bf004db1dee9",
   "metadata": {},
   "outputs": [],
   "source": [
    "X_train_fml, X_test_fml, y_train_fml, y_test_fml = train_test_split(x_sc_fml, y_sc_fml, test_size=0.2, random_state=50)"
   ]
  },
  {
   "cell_type": "code",
   "execution_count": 783,
   "id": "6761df2e-7e22-4267-9332-c0fe39640f01",
   "metadata": {},
   "outputs": [
    {
     "data": {
      "text/plain": [
       "97"
      ]
     },
     "execution_count": 783,
     "metadata": {},
     "output_type": "execute_result"
    }
   ],
   "source": [
    "x_sc_fml[1,:].size"
   ]
  },
  {
   "cell_type": "code",
   "execution_count": 784,
   "id": "b0f1d84d-ee9c-433d-b688-5cb6814670d4",
   "metadata": {},
   "outputs": [],
   "source": [
    "modsfml = GradientBoostingClassifier(n_estimators = 100, max_depth=4, learning_rate=0.1)\n",
    "modsfml.fit(X_train_fml, y_train_fml)\n",
    "# make a single prediction\n",
    "y_pred_fml = modsfml.predict(X_test_fml)"
   ]
  },
  {
   "cell_type": "code",
   "execution_count": 785,
   "id": "3ff77266-0702-42e6-90bd-7732562d080f",
   "metadata": {},
   "outputs": [
    {
     "name": "stdout",
     "output_type": "stream",
     "text": [
      "0.6504232804232803\n"
     ]
    }
   ],
   "source": [
    "print(f1_score(y_test_fml, y_pred_fml, average = 'weighted'))"
   ]
  },
  {
   "cell_type": "code",
   "execution_count": 786,
   "id": "d6e117bf-eb5e-4bb5-b80b-3f6c8f035dbf",
   "metadata": {},
   "outputs": [
    {
     "name": "stdout",
     "output_type": "stream",
     "text": [
      "0.6606783663585908\n"
     ]
    }
   ],
   "source": [
    "print(precision_score(y_test_fml, y_pred_fml,average='weighted'))"
   ]
  },
  {
   "cell_type": "code",
   "execution_count": 787,
   "id": "95b8d6ed-c402-4270-a1b5-92500b6c9748",
   "metadata": {},
   "outputs": [],
   "source": [
    "cf_matrixsfml = confusion_matrix(y_test_fml, y_pred_fml)"
   ]
  },
  {
   "cell_type": "code",
   "execution_count": 788,
   "id": "f9015994-6982-4c48-9f5e-e6c6c0c802ed",
   "metadata": {},
   "outputs": [
    {
     "data": {
      "text/plain": [
       "array([[ 9,  1,  2,  0],\n",
       "       [ 1, 24,  5,  2],\n",
       "       [ 2,  6, 11,  0],\n",
       "       [ 1,  0,  5,  3]], dtype=int64)"
      ]
     },
     "execution_count": 788,
     "metadata": {},
     "output_type": "execute_result"
    }
   ],
   "source": [
    "cf_matrixsfml"
   ]
  },
  {
   "cell_type": "code",
   "execution_count": 789,
   "id": "337d6f47-fd51-4cb2-8ebb-0439c9178d22",
   "metadata": {},
   "outputs": [
    {
     "data": {
      "text/plain": [
       "<Axes: >"
      ]
     },
     "execution_count": 789,
     "metadata": {},
     "output_type": "execute_result"
    },
    {
     "data": {
      "image/png": "[encoded data removed]",
      "text/plain": [
       "<Figure size 640x480 with 2 Axes>"
      ]
     },
     "metadata": {},
     "output_type": "display_data"
    }
   ],
   "source": [
    "sns.heatmap(data = cf_matrixsfml, cmap=sns.cubehelix_palette(as_cmap=True))"
   ]
  },
  {
   "cell_type": "code",
   "execution_count": 790,
   "id": "8294bcf6-4ef7-402e-975f-29691700c8a2",
   "metadata": {},
   "outputs": [
    {
     "data": {
      "text/plain": [
       "array([0.00343864, 0.00747908, 0.00326858, 0.00287172, 0.0119534 ,\n",
       "       0.01068315, 0.01622348, 0.00433981, 0.00708201, 0.01582515,\n",
       "       0.00029497, 0.01309309, 0.0142887 , 0.00466816, 0.00626832,\n",
       "       0.01048885, 0.00604373, 0.002077  , 0.01719737, 0.00638152,\n",
       "       0.00328655, 0.02791845, 0.00518663, 0.0027698 , 0.02695365,\n",
       "       0.00408428, 0.01385217, 0.01303369, 0.01873259, 0.00711245,\n",
       "       0.00567327, 0.01132474, 0.00473496, 0.0028292 , 0.01306915,\n",
       "       0.00843876, 0.01890498, 0.00474095, 0.00047557, 0.00818452,\n",
       "       0.00801788, 0.00776844, 0.00982483, 0.02973541, 0.01175405,\n",
       "       0.01894935, 0.01486943, 0.00359338, 0.00298955, 0.00762626,\n",
       "       0.00347645, 0.01886974, 0.01700157, 0.01938204, 0.00071462,\n",
       "       0.0040426 , 0.00802095, 0.00473048, 0.00277312, 0.00289945,\n",
       "       0.00297448, 0.00455143, 0.00022949, 0.00470235, 0.00552905,\n",
       "       0.00124601, 0.00144209, 0.00197427, 0.00188659, 0.03940792,\n",
       "       0.06781723, 0.13066724, 0.04345078, 0.00220868, 0.01597218,\n",
       "       0.01736008, 0.00516619, 0.00121618, 0.0023865 , 0.00169064,\n",
       "       0.01010871, 0.01674437, 0.00396773, 0.00263987, 0.0119477 ,\n",
       "       0.00973798, 0.00466832, 0.00072399, 0.00282494, 0.00197806,\n",
       "       0.00384312, 0.00150919, 0.00098974, 0.00982183, 0.00180387,\n",
       "       0.00018563, 0.00231286])"
      ]
     },
     "execution_count": 790,
     "metadata": {},
     "output_type": "execute_result"
    }
   ],
   "source": [
    "modsfml.feature_importances_"
   ]
  },
  {
   "cell_type": "code",
   "execution_count": 767,
   "id": "93134fd5-1484-4f4c-873d-3ae74e29fd65",
   "metadata": {},
   "outputs": [
    {
     "data": {
      "text/plain": [
       "0      0.010000\n",
       "1      0.010000\n",
       "2      0.010000\n",
       "3      0.010000\n",
       "4      0.010000\n",
       "         ...   \n",
       "357    0.010000\n",
       "358    0.010000\n",
       "359    0.109084\n",
       "360    0.123164\n",
       "361    0.126178\n",
       "Name: Lagged 2 Cur Coeff Time Proportional, Length: 358, dtype: float64"
      ]
     },
     "execution_count": 767,
     "metadata": {},
     "output_type": "execute_result"
    }
   ],
   "source": [
    "group_scaled.iloc[:,:][group_scaled['Choice Output'] > 1].drop(columns = ['Choice Output', 'Duration', 'Exit Latency', '2_cur_arm_duration',\n",
    "       '3_cur_arm_duration', '4_cur_arm_duration', '5_cur_arm_duration','mean_2_cur_arm_duration', 'mean_3_cur_arm_duration', 'mean_4_cur_arm_duration',\n",
    "        'mean_5_cur_arm_duration','Arm Nose Movement', 'Arm Nose Velocity', 'Arm Tail Movement', 'Arm Tail Velocity','lagged_1_lagged_1_cur_coeff',\n",
    "        'lagged_2_lagged_1_cur_coeff', \n",
    "        'lagged_3_lagged_1_cur_coeff','lagged_4_lagged_1_cur_coeff','lagged_1_lagged_2_cur_coeff', 'lagged_2_lagged_2_cur_coeff', \n",
    "        'lagged_3_lagged_2_cur_coeff', 'lagged_4_lagged_2_cur_coeff','lagged_1_lagged_3_cur_coeff','lagged_2_lagged_3_cur_coeff', \n",
    "        'lagged_3_lagged_3_cur_coeff','lagged_4_lagged_3_cur_coeff','lagged_1_lagged_4_cur_coeff', 'lagged_2_lagged_4_cur_coeff',\n",
    "        'lagged_3_lagged_4_cur_coeff', 'lagged_4_lagged_4_cur_coeff','lagged_1_lagged_1_cur_coeff_time_prop',\n",
    "       'lagged_2_lagged_1_cur_coeff_time_prop','lagged_3_lagged_1_cur_coeff_time_prop','lagged_4_lagged_1_cur_coeff_time_prop',\n",
    "       'lagged_1_lagged_2_cur_coeff_time_prop','lagged_2_lagged_2_cur_coeff_time_prop','lagged_3_lagged_2_cur_coeff_time_prop',\n",
    "       'lagged_4_lagged_2_cur_coeff_time_prop','lagged_1_lagged_3_cur_coeff_time_prop','lagged_2_lagged_3_cur_coeff_time_prop',\n",
    "       'lagged_3_lagged_3_cur_coeff_time_prop','lagged_4_lagged_3_cur_coeff_time_prop','lagged_1_lagged_4_cur_coeff_time_prop',\n",
    "       'lagged_2_lagged_4_cur_coeff_time_prop','lagged_3_lagged_4_cur_coeff_time_prop','lagged_4_lagged_4_cur_coeff_time_prop',\n",
    "        '2_past_arm_duration', '3_past_arm_duration', '4_past_arm_duration','2_past_mid_duration',\n",
    "       '3_past_mid_duration', '4_past_mid_duration', '5_past_mid_duration', '2_past_exitmid_duration', '3_past_exitmid_duration',\n",
    "       '4_past_exitmid_duration', '5_past_exitmid_duration','2_past_midentry_duration', '3_past_midentry_duration',\n",
    "       '4_past_midentry_duration', '5_past_midentry_duration','2_past_exitmidentry_duration', '3_past_exitmidentry_duration',\n",
    "       '4_past_exitmidentry_duration', '5_past_exitmidentry_duration','lagged_1_choice_ago', 'lagged_2_choice_ago', 'lagged_3_choice_ago',\n",
    "       'lagged_4_choice_ago','lagged_1_current_coeff_time_prop',\n",
    "       'lagged_2_current_coeff_time_prop', 'lagged_3_current_coeff_time_prop',\n",
    "       'lagged_4_current_coeff_time_prop','lagged_1_current_coeff', 'lagged_2_current_coeff',\n",
    "       'lagged_3_current_coeff', 'lagged_4_current_coeff','Lagged 2 Cur Coeff',]).iloc[:,-22]"
   ]
  },
  {
   "cell_type": "code",
   "execution_count": null,
   "id": "ca9748e7-398d-430e-89b0-721aea841840",
   "metadata": {},
   "outputs": [],
   "source": []
  },
  {
   "cell_type": "code",
   "execution_count": null,
   "id": "a7ea8a30-6112-42f3-b6c5-46d3d25f8247",
   "metadata": {},
   "outputs": [],
   "source": []
  }
 ],
 "metadata": {
  "kernelspec": {
   "display_name": "Python 3 (ipykernel)",
   "language": "python",
   "name": "python3"
  },
  "language_info": {
   "codemirror_mode": {
    "name": "ipython",
    "version": 3
   },
   "file_extension": ".py",
   "mimetype": "text/x-python",
   "name": "python",
   "nbconvert_exporter": "python",
   "pygments_lexer": "ipython3",
   "version": "3.11.7"
  }
 },
 "nbformat": 4,
 "nbformat_minor": 5
}
