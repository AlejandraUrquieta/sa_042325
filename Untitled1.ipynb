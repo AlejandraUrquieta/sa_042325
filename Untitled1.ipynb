{
 "cells": [
  {
   "cell_type": "code",
   "execution_count": null,
   "id": "48076a3d-59ca-49c2-8d98-47b379db945d",
   "metadata": {},
   "outputs": [],
   "source": [
    "import pandas as pd\n",
    "import numpy as np\n",
    "import seaborn as sns\n",
    "import polars as pl\n",
    "import matplotlib.pyplot as plt\n",
    "from matplotlib import pyplot"
   ]
  },
  {
   "cell_type": "code",
   "execution_count": null,
   "id": "5f7b149b-c39c-49cd-b53d-99cffaabd7c4",
   "metadata": {},
   "outputs": [],
   "source": [
    "from sklearn.model_selection import train_test_split\n",
    "from sklearn.ensemble import GradientBoostingClassifier\n",
    "from sklearn.model_selection import cross_val_score\n",
    "from sklearn.metrics import f1_score\n",
    "from sklearn.metrics import precision_score\n",
    "\n",
    "from sklearn.preprocessing import MinMaxScaler\n",
    "from sklearn.metrics import confusion_matrix"
   ]
  },
  {
   "cell_type": "code",
   "execution_count": null,
   "id": "f45b9032-1ad0-4464-a24a-fe4544f5522b",
   "metadata": {},
   "outputs": [],
   "source": [
    "def get_indexed(feature_importances):\n",
    "    #create pandas df, indexed\n",
    "    #sort\n",
    "    fi = {'Feature Importances': feature_importances}\n",
    "    df_fi =pd.DataFrame(fi);\n",
    "    df_fi_ranked = df_fi.sort_values(by='Feature Importances')\n",
    "    return df_fi, df_fi_ranked;"
   ]
  },
  {
   "cell_type": "code",
   "execution_count": null,
   "id": "73d4dc59-fcae-474a-a591-b757db9134e1",
   "metadata": {},
   "outputs": [],
   "source": [
    "'''\n",
    "function to drop features\n",
    "'''\n",
    "\n",
    "def drop_features(df_grouped):\n",
    "    for f in df_grouped.columns:\n",
    "        x = df_grouped.drop(columns = ['Choice Output', f]).values\n",
    "        y = df_grouped['Choice Output'].values\n",
    "        \n",
    "        X_train, X_test, y_train, y_test = train_test_split(x, y, test_size=0.2, random_state=50)\n",
    "\n",
    "        model = GradientBoostingClassifier(n_estimators = 100, max_depth=4, learning_rate=0.05)\n",
    "        model.fit(X_train, y_train)\n",
    "        y_pred = model.predict(X_test)\n",
    "        f1s = f1_score(y_test_s, y_pred_s, average = 'weighted')\n",
    "        ps = precision_score(y_test_s, y_pred_s,average='weighted')\n",
    "\n",
    "        fi_array = model.feature_importances_\n",
    "        df_fi, df_fi_ranked = get_indexed(fi_array);\n",
    "        temp = df_grouped.drop(columns = ['Choice Output', f]\n",
    "        df_model = df_fi_ranked;\n",
    "        df_model['Feature Name'][:] = temp.columns[df_fi_ranked.index]\n",
    "\n",
    "        df_model.to_DataFrame(f+'_'+'_'+f1s+'_'+ps+'.csv')\n",
    "        "
   ]
  },
  {
   "cell_type": "code",
   "execution_count": null,
   "id": "9ab32533-3353-48c4-8a93-c15c307cc1fc",
   "metadata": {},
   "outputs": [],
   "source": []
  },
  {
   "cell_type": "code",
   "execution_count": null,
   "id": "2e99434e-2d58-4da6-8a95-149e9fc38d64",
   "metadata": {},
   "outputs": [],
   "source": []
  },
  {
   "cell_type": "code",
   "execution_count": null,
   "id": "70a52571-343a-419b-946f-59eaf08322f7",
   "metadata": {},
   "outputs": [],
   "source": []
  },
  {
   "cell_type": "code",
   "execution_count": null,
   "id": "f3950c02-06f8-4917-bb66-1c7ba6394b3a",
   "metadata": {},
   "outputs": [],
   "source": []
  },
  {
   "cell_type": "code",
   "execution_count": null,
   "id": "852a4bd7-179f-4b2c-8715-3ab69736efe3",
   "metadata": {},
   "outputs": [],
   "source": []
  }
 ],
 "metadata": {
  "kernelspec": {
   "display_name": "Python 3 (ipykernel)",
   "language": "python",
   "name": "python3"
  },
  "language_info": {
   "codemirror_mode": {
    "name": "ipython",
    "version": 3
   },
   "file_extension": ".py",
   "mimetype": "text/x-python",
   "name": "python",
   "nbconvert_exporter": "python",
   "pygments_lexer": "ipython3",
   "version": "3.11.7"
  }
 },
 "nbformat": 4,
 "nbformat_minor": 5
}
