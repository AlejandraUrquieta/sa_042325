{
 "cells": [
  {
   "cell_type": "code",
   "execution_count": 1,
   "id": "f7907636-a140-4e98-85f6-3266b176a9ea",
   "metadata": {},
   "outputs": [
    {
     "ename": "ImportError",
     "evalue": "cannot import name 'TunedThresholdClassifierCV' from 'sklearn.model_selection' (C:\\Users\\Josue Regalado\\anaconda3\\Lib\\site-packages\\sklearn\\model_selection\\__init__.py)",
     "output_type": "error",
     "traceback": [
      "\u001b[1;31m---------------------------------------------------------------------------\u001b[0m",
      "\u001b[1;31mImportError\u001b[0m                               Traceback (most recent call last)",
      "Cell \u001b[1;32mIn[1], line 1\u001b[0m\n\u001b[1;32m----> 1\u001b[0m \u001b[38;5;28;01mfrom\u001b[39;00m \u001b[38;5;21;01msklearn\u001b[39;00m\u001b[38;5;21;01m.\u001b[39;00m\u001b[38;5;21;01mmodel_selection\u001b[39;00m \u001b[38;5;28;01mimport\u001b[39;00m TunedThresholdClassifierCV\n",
      "\u001b[1;31mImportError\u001b[0m: cannot import name 'TunedThresholdClassifierCV' from 'sklearn.model_selection' (C:\\Users\\Josue Regalado\\anaconda3\\Lib\\site-packages\\sklearn\\model_selection\\__init__.py)"
     ]
    }
   ],
   "source": [
    "from sklearn.model_selection import TunedThresholdClassifierCV\n"
   ]
  },
  {
   "cell_type": "code",
   "execution_count": 2,
   "id": "1bbe39d1-1eaa-4a8b-a01e-c86539f23229",
   "metadata": {},
   "outputs": [
    {
     "name": "stdout",
     "output_type": "stream",
     "text": [
      "1.2.2\n"
     ]
    }
   ],
   "source": [
    "import sklearn\n",
    "print(sklearn.__version__)"
   ]
  },
  {
   "cell_type": "code",
   "execution_count": 6,
   "id": "9651b60c-7110-4cb5-91b7-f19189bf9da8",
   "metadata": {},
   "outputs": [
    {
     "name": "stdout",
     "output_type": "stream",
     "text": [
      "Requirement already satisfied: scikit-learn in c:\\users\\josue regalado\\anaconda3\\lib\\site-packages (1.2.2)\n",
      "Collecting scikit-learn\n",
      "  Downloading scikit_learn-1.6.1-cp311-cp311-win_amd64.whl.metadata (15 kB)\n",
      "Requirement already satisfied: numpy>=1.19.5 in c:\\users\\josue regalado\\anaconda3\\lib\\site-packages (from scikit-learn) (1.26.4)\n",
      "Requirement already satisfied: scipy>=1.6.0 in c:\\users\\josue regalado\\anaconda3\\lib\\site-packages (from scikit-learn) (1.11.4)\n",
      "Requirement already satisfied: joblib>=1.2.0 in c:\\users\\josue regalado\\anaconda3\\lib\\site-packages (from scikit-learn) (1.2.0)\n",
      "Collecting threadpoolctl>=3.1.0 (from scikit-learn)\n",
      "  Downloading threadpoolctl-3.6.0-py3-none-any.whl.metadata (13 kB)\n",
      "Downloading scikit_learn-1.6.1-cp311-cp311-win_amd64.whl (11.1 MB)\n",
      "   ---------------------------------------- 0.0/11.1 MB ? eta -:--:--\n",
      "    --------------------------------------- 0.2/11.1 MB 3.9 MB/s eta 0:00:03\n",
      "   -- ------------------------------------- 0.7/11.1 MB 7.4 MB/s eta 0:00:02\n",
      "   ---- ----------------------------------- 1.3/11.1 MB 10.6 MB/s eta 0:00:01\n",
      "   ------- -------------------------------- 2.1/11.1 MB 11.2 MB/s eta 0:00:01\n",
      "   ---------- ----------------------------- 3.0/11.1 MB 12.7 MB/s eta 0:00:01\n",
      "   ------------- -------------------------- 3.6/11.1 MB 12.9 MB/s eta 0:00:01\n",
      "   -------------- ------------------------- 4.0/11.1 MB 12.3 MB/s eta 0:00:01\n",
      "   ---------------- ----------------------- 4.5/11.1 MB 12.1 MB/s eta 0:00:01\n",
      "   ------------------- -------------------- 5.3/11.1 MB 12.6 MB/s eta 0:00:01\n",
      "   --------------------- ------------------ 6.1/11.1 MB 13.4 MB/s eta 0:00:01\n",
      "   ------------------------ --------------- 6.9/11.1 MB 13.3 MB/s eta 0:00:01\n",
      "   --------------------------- ------------ 7.6/11.1 MB 13.9 MB/s eta 0:00:01\n",
      "   ----------------------------- ---------- 8.3/11.1 MB 13.7 MB/s eta 0:00:01\n",
      "   -------------------------------- ------- 9.1/11.1 MB 14.1 MB/s eta 0:00:01\n",
      "   ----------------------------------- ---- 9.8/11.1 MB 14.0 MB/s eta 0:00:01\n",
      "   ------------------------------------- -- 10.6/11.1 MB 14.9 MB/s eta 0:00:01\n",
      "   ---------------------------------------  11.1/11.1 MB 14.6 MB/s eta 0:00:01\n",
      "   ---------------------------------------  11.1/11.1 MB 14.6 MB/s eta 0:00:01\n",
      "   ---------------------------------------- 11.1/11.1 MB 13.6 MB/s eta 0:00:00\n",
      "Downloading threadpoolctl-3.6.0-py3-none-any.whl (18 kB)\n",
      "Installing collected packages: threadpoolctl, scikit-learn\n",
      "  Attempting uninstall: threadpoolctl\n",
      "    Found existing installation: threadpoolctl 2.2.0\n",
      "    Uninstalling threadpoolctl-2.2.0:\n",
      "      Successfully uninstalled threadpoolctl-2.2.0\n",
      "  Attempting uninstall: scikit-learn\n",
      "    Found existing installation: scikit-learn 1.2.2\n",
      "    Uninstalling scikit-learn-1.2.2:\n",
      "      Successfully uninstalled scikit-learn-1.2.2\n",
      "Successfully installed scikit-learn-1.6.1 threadpoolctl-3.6.0\n",
      "Note: you may need to restart the kernel to use updated packages.\n"
     ]
    },
    {
     "name": "stderr",
     "output_type": "stream",
     "text": [
      "  WARNING: Failed to remove contents in a temporary directory 'C:\\Users\\Josue Regalado\\anaconda3\\Lib\\site-packages\\~klearn'.\n",
      "  You can safely remove it manually.\n",
      "ERROR: pip's dependency resolver does not currently take into account all the packages that are installed. This behaviour is the source of the following dependency conflicts.\n",
      "aeon 1.0.0 requires scikit-learn<1.6.0,>=1.0.0, but you have scikit-learn 1.6.1 which is incompatible.\n"
     ]
    }
   ],
   "source": [
    "pip install --upgrade scikit-learn"
   ]
  },
  {
   "cell_type": "code",
   "execution_count": 1,
   "id": "7499e6e2-ad5b-4556-bb5d-70d24ba50a27",
   "metadata": {},
   "outputs": [
    {
     "name": "stdout",
     "output_type": "stream",
     "text": [
      "1.6.1\n"
     ]
    }
   ],
   "source": [
    "import sklearn\n",
    "print(sklearn.__version__)"
   ]
  },
  {
   "cell_type": "code",
   "execution_count": null,
   "id": "bf1f6afe-fc69-4df4-9606-33df3141ea63",
   "metadata": {},
   "outputs": [],
   "source": []
  }
 ],
 "metadata": {
  "kernelspec": {
   "display_name": "Python 3 (ipykernel)",
   "language": "python",
   "name": "python3"
  },
  "language_info": {
   "codemirror_mode": {
    "name": "ipython",
    "version": 3
   },
   "file_extension": ".py",
   "mimetype": "text/x-python",
   "name": "python",
   "nbconvert_exporter": "python",
   "pygments_lexer": "ipython3",
   "version": "3.11.7"
  }
 },
 "nbformat": 4,
 "nbformat_minor": 5
}
